{
 "cells": [
  {
   "cell_type": "markdown",
   "metadata": {},
   "source": [
    "This notebook is the same as the LSTM-multivariate Final Copy. \n",
    "The codes are just put in the same cell for easier run. "
   ]
  },
  {
   "cell_type": "code",
   "execution_count": 1,
   "metadata": {},
   "outputs": [
    {
     "name": "stderr",
     "output_type": "stream",
     "text": [
      "Using TensorFlow backend.\n"
     ]
    }
   ],
   "source": [
    "import numpy as np\n",
    "import pandas as pd\n",
    "import matplotlib.pyplot as plt\n",
    "%matplotlib inline\n",
    "from statsmodels.tools.eval_measures import rmse\n",
    "from keras.preprocessing.sequence import TimeseriesGenerator\n",
    "from sklearn.preprocessing import MinMaxScaler\n",
    "from sklearn.model_selection import train_test_split\n",
    "from sklearn import preprocessing\n",
    "from keras.models import Sequential\n",
    "from keras.layers import Dense\n",
    "from keras.layers import LSTM\n",
    "from keras.layers import Dropout\n",
    "from tensorflow.python import keras\n",
    "from keras.callbacks import EarlyStopping\n",
    "from keras.optimizers import SGD, Adam\n",
    "import tensorflow as tf\n",
    "from keras.layers import LeakyReLU\n",
    "from keras.callbacks import ModelCheckpoint\n",
    "from keras.models import load_model\n",
    "import warnings\n",
    "warnings.filterwarnings('ignore')\n",
    "\n",
    "from sklearn.preprocessing import MinMaxScaler\n",
    "from sklearn.metrics import mean_squared_error\n",
    "from sklearn.metrics import mean_absolute_error\n",
    "\n",
    "np.random.seed(7)"
   ]
  },
  {
   "cell_type": "code",
   "execution_count": 2,
   "metadata": {},
   "outputs": [
    {
     "name": "stdout",
     "output_type": "stream",
     "text": [
      "(373, 4)\n",
      "(373,)\n",
      "(94, 4)\n",
      "(94,)\n"
     ]
    }
   ],
   "source": [
    "path = r\"C:\\Users\\rezan\\Documents\\Master in Applied Data Science\\2nd Year\\MASTER THESIS\\GIT THESIS\\geopy\\france_cleaned\"\n",
    "#load data\n",
    "region = \"Alsace.csv\"\n",
    "region_name = region.split('.')[0]\n",
    "df = pd.read_csv(path+'\\\\'+region)\n",
    "\n",
    "#feature engineer\n",
    "def make_cyclic_sin(month):\n",
    "    a = np.sin((month-1)*(2.*np.pi/12))\n",
    "    return a\n",
    "def make_cyclic_cos(month):\n",
    "    b = np.cos((month-1)*(2.*np.pi/12))\n",
    "    return b \n",
    "\n",
    "# filter the necessary values for temp. prediction \n",
    "temp_df = df[df['PARAMETER'] == 'T2M']\n",
    "temp_df = temp_df.drop('ANN', axis = 1)\n",
    "\n",
    "# data preprocessing \n",
    "temp_df = temp_df.rename(columns = {'YEAR':'year','JAN':1, 'FEB':2,'MAR':3, 'APR':4, 'MAY':5,'JUN':6,\n",
    "                         'JUL':7, 'AUG':8, 'SEP':9, 'OCT':10, 'NOV':11, 'DEC':12})\n",
    "temp_df = temp_df.drop(['PARAMETER','LAT','LON'], axis = 1)\n",
    "\n",
    "temp_df.set_index('year', inplace = True)\n",
    "df = pd.concat([temp_df.stack()], axis=1)\n",
    "df.reset_index(inplace = True)\n",
    "\n",
    "df.rename(columns = {'level_1':'month',0:'avg_temp'}, inplace = True)\n",
    "\n",
    "# encoding for months \n",
    "#cyclic encoding from deep learning notebook\n",
    "df['month_sin'] = df['month'].apply(lambda row: make_cyclic_sin(row))\n",
    "df['month_cos'] = df['month'].apply(lambda row: make_cyclic_cos(row))\n",
    "\n",
    "df['date'] = df[['year','month']].astype(str).apply('-'.join, axis=1)\n",
    "\n",
    "df.date = pd.to_datetime(df.date)\n",
    "df = df.set_index('date')\n",
    "\n",
    "# add the unlablled data (this is for the test set)\n",
    "unlabelled_dataset = pd.read_excel('to_predict_mult.xlsx')\n",
    "unlabelled_dataset['date'] = unlabelled_dataset[['year','month']].astype(str).apply('-'.join, axis=1)\n",
    "unlabelled_dataset.date = pd.to_datetime(unlabelled_dataset.date)\n",
    "unlabelled_dataset = unlabelled_dataset.set_index('date')\n",
    "\n",
    "# combine all the data and divide\n",
    "df = df[['year','avg_temp','month_sin','month_cos']]\n",
    "unlabelled_dataset = unlabelled_dataset[['year','avg_temp','month_sin','month_cos']]\n",
    "# fit_transform all the data including the train, valid, and test \n",
    "combined_data = pd.concat([df,unlabelled_dataset])\n",
    "\n",
    "# shifting the avg_temp to t+1 \n",
    "combined_data['avg_temp'] = combined_data['avg_temp'].shift(1)\n",
    "\n",
    "# removing the nan value and transform all the data including the train, valid, and test\n",
    "scaler = MinMaxScaler()\n",
    "combined_data = combined_data[1:]\n",
    "combined_data[['year','avg_temp','month_sin','month_cos']] = scaler.fit_transform(combined_data)\n",
    "\n",
    "# all the labelled data from 1981 to 2019\n",
    "data = combined_data[0:467] \n",
    "\n",
    "# Train-valid split: 80 percent for the training set and 20 percent for the validation on the labelled data\n",
    "y = data.avg_temp\n",
    "X = data\n",
    "valid_and_test_size = 0.1\n",
    "X_train, X_valid, y_train, y_valid = train_test_split(X, y, test_size=valid_and_test_size*2, random_state=42, shuffle=False)\n",
    "\n",
    "#print the shape of the split data. train = (373,4),valid = (94,4)\n",
    "print(X_train.shape)\n",
    "print(y_train.shape)\n",
    "print(X_valid.shape)\n",
    "print(y_valid.shape)\n",
    "\n",
    "# from series convert to array\n",
    "y_train = y_train.values.reshape(len(y_train),1)\n",
    "#y_test = y_test.values.reshape(len(y_test),1)\n",
    "y_valid = y_valid.values.reshape(len(y_valid),1)"
   ]
  },
  {
   "cell_type": "code",
   "execution_count": 3,
   "metadata": {},
   "outputs": [],
   "source": [
    "look_back=12 # use the last 12 months (01-2019 -> 12-2019)\n",
    "FORECAST_DISTANCE=1 # forecast on the next month\n",
    "n_features = len(X_train.columns)\n",
    "\n",
    "\n",
    "from seglearn.transform import FeatureRep, SegmentXYForecast, last\n",
    "\n",
    "segmenter = SegmentXYForecast(width=look_back, step=1, y_func=last, forecast=FORECAST_DISTANCE) \n",
    "# the segmenter will segment the data according to the parameters set.\n",
    "X_train_rolled, y_train_rolled,_=segmenter.fit_transform([X_train.values],[y_train.flatten()])\n",
    "X_valid_rolled, y_valid_rolled,_=segmenter.fit_transform([X_valid.values],[y_valid.flatten()])"
   ]
  },
  {
   "cell_type": "code",
   "execution_count": 4,
   "metadata": {},
   "outputs": [
    {
     "name": "stdout",
     "output_type": "stream",
     "text": [
      "Train on 361 samples, validate on 82 samples\n",
      "Epoch 1/30\n",
      "361/361 [==============================] - 1s 2ms/step - loss: 0.1936 - val_loss: 0.1103\n",
      "\n",
      "Epoch 00001: val_loss improved from inf to 0.11035, saving model to C:\\Users\\rezan\\Documents\\Master in Applied Data Science\\2nd Year\\MASTER THESIS\\GIT THESIS\\Multivariate LSTM\\France models\\\\Alsace.h5\n",
      "Epoch 2/30\n",
      "361/361 [==============================] - 1s 2ms/step - loss: 0.0757 - val_loss: 0.0626\n",
      "\n",
      "Epoch 00002: val_loss improved from 0.11035 to 0.06256, saving model to C:\\Users\\rezan\\Documents\\Master in Applied Data Science\\2nd Year\\MASTER THESIS\\GIT THESIS\\Multivariate LSTM\\France models\\\\Alsace.h5\n",
      "Epoch 3/30\n",
      "361/361 [==============================] - 1s 2ms/step - loss: 0.0588 - val_loss: 0.0469\n",
      "\n",
      "Epoch 00003: val_loss improved from 0.06256 to 0.04694, saving model to C:\\Users\\rezan\\Documents\\Master in Applied Data Science\\2nd Year\\MASTER THESIS\\GIT THESIS\\Multivariate LSTM\\France models\\\\Alsace.h5\n",
      "Epoch 4/30\n",
      "361/361 [==============================] - 1s 2ms/step - loss: 0.0451 - val_loss: 0.0363\n",
      "\n",
      "Epoch 00004: val_loss improved from 0.04694 to 0.03627, saving model to C:\\Users\\rezan\\Documents\\Master in Applied Data Science\\2nd Year\\MASTER THESIS\\GIT THESIS\\Multivariate LSTM\\France models\\\\Alsace.h5\n",
      "Epoch 5/30\n",
      "361/361 [==============================] - 1s 2ms/step - loss: 0.0321 - val_loss: 0.0275\n",
      "\n",
      "Epoch 00005: val_loss improved from 0.03627 to 0.02749, saving model to C:\\Users\\rezan\\Documents\\Master in Applied Data Science\\2nd Year\\MASTER THESIS\\GIT THESIS\\Multivariate LSTM\\France models\\\\Alsace.h5\n",
      "Epoch 6/30\n",
      "361/361 [==============================] - 1s 2ms/step - loss: 0.0148 - val_loss: 0.0107\n",
      "\n",
      "Epoch 00006: val_loss improved from 0.02749 to 0.01067, saving model to C:\\Users\\rezan\\Documents\\Master in Applied Data Science\\2nd Year\\MASTER THESIS\\GIT THESIS\\Multivariate LSTM\\France models\\\\Alsace.h5\n",
      "Epoch 7/30\n",
      "361/361 [==============================] - 1s 2ms/step - loss: 0.0075 - val_loss: 0.0050\n",
      "\n",
      "Epoch 00007: val_loss improved from 0.01067 to 0.00498, saving model to C:\\Users\\rezan\\Documents\\Master in Applied Data Science\\2nd Year\\MASTER THESIS\\GIT THESIS\\Multivariate LSTM\\France models\\\\Alsace.h5\n",
      "Epoch 8/30\n",
      "361/361 [==============================] - 1s 2ms/step - loss: 0.0063 - val_loss: 0.0052\n",
      "\n",
      "Epoch 00008: val_loss did not improve from 0.00498\n",
      "Epoch 9/30\n",
      "361/361 [==============================] - 1s 2ms/step - loss: 0.0050 - val_loss: 0.0046\n",
      "\n",
      "Epoch 00009: val_loss improved from 0.00498 to 0.00457, saving model to C:\\Users\\rezan\\Documents\\Master in Applied Data Science\\2nd Year\\MASTER THESIS\\GIT THESIS\\Multivariate LSTM\\France models\\\\Alsace.h5\n",
      "Epoch 10/30\n",
      "361/361 [==============================] - 1s 2ms/step - loss: 0.0048 - val_loss: 0.0046\n",
      "\n",
      "Epoch 00010: val_loss did not improve from 0.00457\n",
      "Epoch 11/30\n",
      "361/361 [==============================] - 1s 2ms/step - loss: 0.0049 - val_loss: 0.0044\n",
      "\n",
      "Epoch 00011: val_loss improved from 0.00457 to 0.00435, saving model to C:\\Users\\rezan\\Documents\\Master in Applied Data Science\\2nd Year\\MASTER THESIS\\GIT THESIS\\Multivariate LSTM\\France models\\\\Alsace.h5\n",
      "Epoch 12/30\n",
      "361/361 [==============================] - 1s 2ms/step - loss: 0.0066 - val_loss: 0.0041\n",
      "\n",
      "Epoch 00012: val_loss improved from 0.00435 to 0.00407, saving model to C:\\Users\\rezan\\Documents\\Master in Applied Data Science\\2nd Year\\MASTER THESIS\\GIT THESIS\\Multivariate LSTM\\France models\\\\Alsace.h5\n",
      "Epoch 13/30\n",
      "361/361 [==============================] - 1s 2ms/step - loss: 0.0057 - val_loss: 0.0037\n",
      "\n",
      "Epoch 00013: val_loss improved from 0.00407 to 0.00368, saving model to C:\\Users\\rezan\\Documents\\Master in Applied Data Science\\2nd Year\\MASTER THESIS\\GIT THESIS\\Multivariate LSTM\\France models\\\\Alsace.h5\n",
      "Epoch 14/30\n",
      "361/361 [==============================] - 1s 2ms/step - loss: 0.0040 - val_loss: 0.0036\n",
      "\n",
      "Epoch 00014: val_loss improved from 0.00368 to 0.00359, saving model to C:\\Users\\rezan\\Documents\\Master in Applied Data Science\\2nd Year\\MASTER THESIS\\GIT THESIS\\Multivariate LSTM\\France models\\\\Alsace.h5\n",
      "Epoch 15/30\n",
      "361/361 [==============================] - 1s 2ms/step - loss: 0.0042 - val_loss: 0.0042\n",
      "\n",
      "Epoch 00015: val_loss did not improve from 0.00359\n",
      "Epoch 16/30\n",
      "361/361 [==============================] - 1s 2ms/step - loss: 0.0055 - val_loss: 0.0035\n",
      "\n",
      "Epoch 00016: val_loss improved from 0.00359 to 0.00354, saving model to C:\\Users\\rezan\\Documents\\Master in Applied Data Science\\2nd Year\\MASTER THESIS\\GIT THESIS\\Multivariate LSTM\\France models\\\\Alsace.h5\n",
      "Epoch 17/30\n",
      "361/361 [==============================] - 1s 2ms/step - loss: 0.0055 - val_loss: 0.0036\n",
      "\n",
      "Epoch 00017: val_loss did not improve from 0.00354\n",
      "Epoch 18/30\n",
      "361/361 [==============================] - 1s 2ms/step - loss: 0.0050 - val_loss: 0.0038\n",
      "\n",
      "Epoch 00018: val_loss did not improve from 0.00354\n",
      "Epoch 19/30\n",
      "361/361 [==============================] - 1s 2ms/step - loss: 0.0043 - val_loss: 0.0034\n",
      "\n",
      "Epoch 00019: val_loss improved from 0.00354 to 0.00342, saving model to C:\\Users\\rezan\\Documents\\Master in Applied Data Science\\2nd Year\\MASTER THESIS\\GIT THESIS\\Multivariate LSTM\\France models\\\\Alsace.h5\n",
      "Epoch 20/30\n",
      "361/361 [==============================] - 1s 2ms/step - loss: 0.0050 - val_loss: 0.0034\n",
      "\n",
      "Epoch 00020: val_loss did not improve from 0.00342\n",
      "Epoch 21/30\n",
      "361/361 [==============================] - 1s 2ms/step - loss: 0.0048 - val_loss: 0.0042\n",
      "\n",
      "Epoch 00021: val_loss did not improve from 0.00342\n",
      "Epoch 22/30\n",
      "361/361 [==============================] - 1s 2ms/step - loss: 0.0060 - val_loss: 0.0037\n",
      "\n",
      "Epoch 00022: val_loss did not improve from 0.00342\n",
      "Epoch 23/30\n",
      "361/361 [==============================] - 1s 2ms/step - loss: 0.0047 - val_loss: 0.0033\n",
      "\n",
      "Epoch 00023: val_loss improved from 0.00342 to 0.00330, saving model to C:\\Users\\rezan\\Documents\\Master in Applied Data Science\\2nd Year\\MASTER THESIS\\GIT THESIS\\Multivariate LSTM\\France models\\\\Alsace.h5\n",
      "Epoch 24/30\n",
      "361/361 [==============================] - 1s 2ms/step - loss: 0.0059 - val_loss: 0.0034\n",
      "\n",
      "Epoch 00024: val_loss did not improve from 0.00330\n",
      "Epoch 25/30\n",
      "361/361 [==============================] - 1s 2ms/step - loss: 0.0042 - val_loss: 0.0034\n",
      "\n",
      "Epoch 00025: val_loss did not improve from 0.00330\n",
      "Epoch 26/30\n",
      "361/361 [==============================] - 1s 2ms/step - loss: 0.0043 - val_loss: 0.0034\n",
      "\n",
      "Epoch 00026: val_loss did not improve from 0.00330\n",
      "Epoch 27/30\n",
      "361/361 [==============================] - 1s 2ms/step - loss: 0.0040 - val_loss: 0.0042\n",
      "\n",
      "Epoch 00027: val_loss did not improve from 0.00330\n",
      "Epoch 28/30\n",
      "361/361 [==============================] - 1s 2ms/step - loss: 0.0046 - val_loss: 0.0034\n",
      "\n",
      "Epoch 00028: val_loss did not improve from 0.00330\n",
      "Epoch 00028: early stopping\n"
     ]
    }
   ],
   "source": [
    "BATCH_SIZE = 5\n",
    "EPOCHS = 30\n",
    "DROPOUT_RATE= 0.01\n",
    "LSTM_UNIT_SIZE = 5\n",
    "\n",
    "# Build the model \n",
    "model = Sequential()\n",
    "model.add(LSTM(LSTM_UNIT_SIZE, activation = 'relu',input_shape = (look_back, n_features)))\n",
    "model.add(Dropout(DROPOUT_RATE))\n",
    "model.add(Dense(1))\n",
    "\n",
    "\n",
    "#compile the model\n",
    "model.compile(optimizer = 'adam', loss = 'mse')\n",
    "\n",
    "# fit the model\n",
    "\n",
    "model_path = r\"C:\\Users\\rezan\\Documents\\Master in Applied Data Science\\2nd Year\\MASTER THESIS\\GIT THESIS\\Multivariate LSTM\\France models\\\\\"\n",
    "\n",
    "es = EarlyStopping(monitor='val_loss', mode='min', verbose=1, patience = 5)\n",
    "mc = ModelCheckpoint(model_path+f'{region_name}.h5', monitor='val_loss', mode='min', verbose=1, save_best_only=True)\n",
    "                    \n",
    "history = model.fit(X_train_rolled, y_train_rolled, batch_size = BATCH_SIZE, epochs = EPOCHS, validation_data = (X_valid_rolled,y_valid_rolled), callbacks = [es,mc]) #, callbacks = es"
   ]
  },
  {
   "cell_type": "code",
   "execution_count": 5,
   "metadata": {},
   "outputs": [
    {
     "data": {
      "image/png": "[encoded data removed]",
      "text/plain": [
       "<Figure size 432x288 with 1 Axes>"
      ]
     },
     "metadata": {
      "needs_background": "light"
     },
     "output_type": "display_data"
    }
   ],
   "source": [
    "eval_path = r\"C:\\Users\\rezan\\Documents\\Master in Applied Data Science\\2nd Year\\MASTER THESIS\\GIT THESIS\\Multivariate LSTM\\France evaluation\\\\\"\n",
    "\n",
    "plt.plot(history.history['loss'], label='train')\n",
    "plt.plot(history.history['val_loss'], label='validation')\n",
    "plt.legend()\n",
    "plt.savefig(eval_path+f'{region_name} evaluation.png')\n",
    "plt.show()\n",
    "\n"
   ]
  },
  {
   "cell_type": "code",
   "execution_count": 6,
   "metadata": {},
   "outputs": [
    {
     "name": "stdout",
     "output_type": "stream",
     "text": [
      "Model name:  Alsace.h5\n"
     ]
    }
   ],
   "source": [
    "# get the saved model \n",
    "saved_model = load_model(model_path+f'{region_name}.h5')\n",
    "print('Model name: ',region_name+'.h5')"
   ]
  },
  {
   "cell_type": "markdown",
   "metadata": {},
   "source": [
    "## Predicting the training and getting the inverse"
   ]
  },
  {
   "cell_type": "code",
   "execution_count": 7,
   "metadata": {},
   "outputs": [],
   "source": [
    "train_y_hat = saved_model.predict(X_train_rolled) \n",
    "train_y_hat = pd.DataFrame(train_y_hat)\n",
    "train_y_hat = train_y_hat.rename(columns = {0:'y_hat'})\n",
    "for_inverse_scaling = combined_data[12:373]\n",
    "for_inverse_scaling['y_hat_train'] = train_y_hat['y_hat'].values\n",
    "for_inverse_scaling_x = for_inverse_scaling[['year','y_hat_train','month_sin','month_cos']]\n",
    "inverse_scaling_x = scaler.inverse_transform(for_inverse_scaling_x)\n",
    "train_prediction = pd.DataFrame(inverse_scaling_x).rename(columns = {0:'year',1:'y_hat_train',2:'month_sin',3:'month_cos'})\n",
    "original_train = for_inverse_scaling[['year','avg_temp','month_sin','month_cos']]\n",
    "inversed_original_train = scaler.inverse_transform(original_train)\n",
    "inversed_original_train = pd.DataFrame(inversed_original_train).rename(columns = {0:'year',1:'avg_temp',2:'month_sin',3:'month_cos'})"
   ]
  },
  {
   "cell_type": "code",
   "execution_count": 8,
   "metadata": {},
   "outputs": [
    {
     "data": {
      "text/plain": [
       "year         0\n",
       "avg_temp     0\n",
       "month_sin    0\n",
       "month_cos    0\n",
       "dtype: int64"
      ]
     },
     "execution_count": 8,
     "metadata": {},
     "output_type": "execute_result"
    }
   ],
   "source": [
    "inversed_original_train.isnull().sum()"
   ]
  },
  {
   "cell_type": "code",
   "execution_count": 9,
   "metadata": {},
   "outputs": [
    {
     "name": "stdout",
     "output_type": "stream",
     "text": [
      "Train Mean Absolute Error: 1.4021284509084895\n",
      "Train Root Mean Squared Error: 1.782089844175905\n"
     ]
    }
   ],
   "source": [
    "# Get the root mean square error for the training set (actual vs. prediction)\n",
    "print('Train Mean Absolute Error:', mean_absolute_error(inversed_original_train['avg_temp'].values,train_prediction['y_hat_train'].values))\n",
    "print('Train Root Mean Squared Error:',np.sqrt(mean_squared_error(inversed_original_train['avg_temp'].values,train_prediction['y_hat_train'].values)))"
   ]
  },
  {
   "cell_type": "code",
   "execution_count": 10,
   "metadata": {
    "scrolled": true
   },
   "outputs": [
    {
     "data": {
      "image/png": "[encoded data removed]",
      "text/plain": [
       "<Figure size 576x288 with 1 Axes>"
      ]
     },
     "metadata": {
      "needs_background": "light"
     },
     "output_type": "display_data"
    }
   ],
   "source": [
    "# validation\n",
    "pred_plot_train = r\"C:\\Users\\rezan\\Documents\\Master in Applied Data Science\\2nd Year\\MASTER THESIS\\GIT THESIS\\Multivariate LSTM\\France prediction plot train\\\\\"\n",
    "\n",
    "import seaborn as sns\n",
    "\n",
    "aa=[x for x in range(24)]\n",
    "plt.figure(figsize=(8,4))\n",
    "plt.plot(aa, inversed_original_train['avg_temp'].values[:24], marker='.', label=\"actual\") \n",
    "plt.plot(aa, train_prediction['y_hat_train'].values[:24], 'r', label=\"prediction for the training\")\n",
    "# plt.tick_params(left=False, labelleft=True) #remove ticks\n",
    "plt.tight_layout()\n",
    "sns.despine(top=True)\n",
    "plt.subplots_adjust(left=0.07)\n",
    "plt.ylabel('Temp', size=15)\n",
    "plt.xlabel('Time step', size=15)\n",
    "plt.legend(fontsize=15)\n",
    "plt.savefig(pred_plot_train+f'{region_name} train.png')\n",
    "plt.show();"
   ]
  },
  {
   "cell_type": "markdown",
   "metadata": {},
   "source": [
    "### Predicting the validation set and getting the inverse "
   ]
  },
  {
   "cell_type": "code",
   "execution_count": 11,
   "metadata": {},
   "outputs": [],
   "source": [
    "valid_y_hat = saved_model.predict(X_valid_rolled)\n",
    "# convert the prediction to dataframe to be added to the original\n",
    "#I'm doing this because scaler is fit on a (n,4) shape and predition is only (n,1): has to be the same shape so we need to map it back\n",
    "valid_y_hat = pd.DataFrame(valid_y_hat)\n",
    "valid_y_hat = valid_y_hat.rename(columns = {0:'y_hat_valid'})\n",
    "for_inverse_scaling_valid = combined_data[373+look_back:467] # valid set\n",
    "for_inverse_scaling_valid['y_hat_valid'] = valid_y_hat['y_hat_valid'].values\n",
    "for_inverse_scaling_x_valid = for_inverse_scaling_valid[['year','y_hat_valid','month_sin','month_cos']]\n",
    "inverse_scaling_x_valid = scaler.inverse_transform(for_inverse_scaling_x_valid)\n",
    "valid_prediction = pd.DataFrame(inverse_scaling_x_valid).rename(columns = {0:'year',1:'y_hat_valid',2:'month_sin',3:'month_cos'})\n",
    "# get the original valid data\n",
    "original_valid = for_inverse_scaling_valid[['year','avg_temp','month_sin','month_cos']]\n",
    "# inverse the original valid set\n",
    "inversed_original_valid = scaler.inverse_transform(original_valid)\n",
    "# put the original valid in dataframe \n",
    "inversed_original_valid = pd.DataFrame(inversed_original_valid).rename(columns = {0:'year',1:'avg_temp',2:'month_sin',3:'month_cos'})"
   ]
  },
  {
   "cell_type": "code",
   "execution_count": 12,
   "metadata": {},
   "outputs": [
    {
     "name": "stdout",
     "output_type": "stream",
     "text": [
      "valid Mean Absolute Error: 1.3678213831745996\n",
      "valid Root Mean Squared Error: 1.754990257897791\n"
     ]
    }
   ],
   "source": [
    "print('valid Mean Absolute Error:', mean_absolute_error(inversed_original_valid['avg_temp'].values,valid_prediction['y_hat_valid'].values))\n",
    "print('valid Root Mean Squared Error:',np.sqrt(mean_squared_error(inversed_original_valid['avg_temp'].values,valid_prediction['y_hat_valid'].values)))"
   ]
  },
  {
   "cell_type": "code",
   "execution_count": 13,
   "metadata": {},
   "outputs": [
    {
     "data": {
      "image/png": "[encoded data removed]",
      "text/plain": [
       "<Figure size 576x288 with 1 Axes>"
      ]
     },
     "metadata": {
      "needs_background": "light"
     },
     "output_type": "display_data"
    }
   ],
   "source": [
    "# valid\n",
    "\n",
    "pred_plot_valid = r\"C:\\Users\\rezan\\Documents\\Master in Applied Data Science\\2nd Year\\MASTER THESIS\\GIT THESIS\\Multivariate LSTM\\France prediction plot valid\\\\\"\n",
    "\n",
    "import seaborn as sns\n",
    "\n",
    "aa=[x for x in range(24)]\n",
    "plt.figure(figsize=(8,4))\n",
    "plt.plot(aa, inversed_original_valid['avg_temp'].values[:24], marker='.', label=\"actual\") \n",
    "plt.plot(aa, valid_prediction['y_hat_valid'].values[:24], 'r', label=\"prediction for the valid\")\n",
    "# plt.tick_params(left=False, labelleft=True) #remove ticks\n",
    "plt.tight_layout()\n",
    "sns.despine(top=True)\n",
    "plt.subplots_adjust(left=0.07)\n",
    "plt.ylabel('Temp', size=15)\n",
    "plt.xlabel('Time step', size=15)\n",
    "plt.legend(fontsize=15)\n",
    "plt.savefig(pred_plot_valid+f'{region_name} valid.png')\n",
    "plt.show();"
   ]
  },
  {
   "cell_type": "code",
   "execution_count": 14,
   "metadata": {},
   "outputs": [],
   "source": [
    "# plot residuals for training\n",
    "\n",
    "#inversed_original_train['avg_temp'].values,train_prediction['y_hat_train']\n",
    "original_y_train =  inversed_original_train['avg_temp'] #y\n",
    "prediction_train = train_prediction['y_hat_train']\n",
    "df_residual_train = pd.concat([original_y_train,prediction_train], axis = 1)\n",
    "df_residual_train['residual'] = df_residual_train['avg_temp'] - df_residual_train['y_hat_train']\n"
   ]
  },
  {
   "cell_type": "code",
   "execution_count": 15,
   "metadata": {},
   "outputs": [
    {
     "data": {
      "image/png": "[encoded data removed]",
      "text/plain": [
       "<Figure size 432x288 with 1 Axes>"
      ]
     },
     "metadata": {
      "needs_background": "light"
     },
     "output_type": "display_data"
    }
   ],
   "source": [
    "# plot residuals for training\n",
    "resid_train = r\"C:\\Users\\rezan\\Documents\\Master in Applied Data Science\\2nd Year\\MASTER THESIS\\GIT THESIS\\Multivariate LSTM\\France residual plots train\\\\\"\n",
    "sns_plot = sns.residplot(x ='y_hat_train', y = 'avg_temp', data = df_residual_train, color = 'blue')\n",
    "sns_plot.figure.savefig(resid_train+f'{region_name} train residual.png')"
   ]
  },
  {
   "cell_type": "code",
   "execution_count": 16,
   "metadata": {},
   "outputs": [],
   "source": [
    "# plot residuals for validation \n",
    "\n",
    "#inversed_original_valid['avg_temp'].values,valid_prediction['y_hat_valid'].values\n",
    "original_y_valid = inversed_original_valid['avg_temp']\n",
    "prediction_valid = valid_prediction['y_hat_valid']\n",
    "df_residual_valid = pd.concat([original_y_valid,prediction_valid], axis = 1)\n",
    "df_residual_valid['residual'] = df_residual_valid['avg_temp'] - df_residual_valid['y_hat_valid']\n"
   ]
  },
  {
   "cell_type": "code",
   "execution_count": 17,
   "metadata": {},
   "outputs": [
    {
     "data": {
      "image/png": "[encoded data removed]",
      "text/plain": [
       "<Figure size 432x288 with 1 Axes>"
      ]
     },
     "metadata": {
      "needs_background": "light"
     },
     "output_type": "display_data"
    }
   ],
   "source": [
    "resid_valid = r\"C:\\Users\\rezan\\Documents\\Master in Applied Data Science\\2nd Year\\MASTER THESIS\\GIT THESIS\\Multivariate LSTM\\France residual plots valid\\\\\"\n",
    "\n",
    "sns_plot_valid = sns.residplot(x ='y_hat_valid', y = 'avg_temp', data = df_residual_valid, color = 'green')\n",
    "sns_plot_valid.figure.savefig(resid_valid+f'{region_name} valid residual.png')"
   ]
  },
  {
   "cell_type": "markdown",
   "metadata": {},
   "source": [
    "# Predicting the future dates "
   ]
  },
  {
   "cell_type": "code",
   "execution_count": 18,
   "metadata": {},
   "outputs": [],
   "source": [
    "test_set = combined_data[455:] # test set look back of 12 which means use all months in 2019"
   ]
  },
  {
   "cell_type": "code",
   "execution_count": 19,
   "metadata": {
    "scrolled": false
   },
   "outputs": [],
   "source": [
    "# for loop over to \n",
    "\n",
    "pred_list = []\n",
    "forecast_months = 24 # 2020-2021\n",
    "\n",
    "prediction = 0\n",
    "\n",
    "for row in range(forecast_months):\n",
    "    #print(row)\n",
    "    look_back = 12\n",
    "    look_back_set = test_set[row:look_back+row] # [0:12]\n",
    "    if row != 0:\n",
    "        look_back_set.iloc[11][1] = prediction\n",
    "    #print(counter)\n",
    "    #display(test_set)\n",
    "    x_test_reshaped = look_back_set.values.reshape(1,12,4)\n",
    "    predict = saved_model.predict(x_test_reshaped)\n",
    "    prediction = predict[0][0] ## append this to the next test set\n",
    "    pred_list.append(prediction) \n",
    "    "
   ]
  },
  {
   "cell_type": "code",
   "execution_count": 20,
   "metadata": {},
   "outputs": [
    {
     "data": {
      "text/html": [
       "<div>\n",
       "<style scoped>\n",
       "    .dataframe tbody tr th:only-of-type {\n",
       "        vertical-align: middle;\n",
       "    }\n",
       "\n",
       "    .dataframe tbody tr th {\n",
       "        vertical-align: top;\n",
       "    }\n",
       "\n",
       "    .dataframe thead th {\n",
       "        text-align: right;\n",
       "    }\n",
       "</style>\n",
       "<table border=\"1\" class=\"dataframe\">\n",
       "  <thead>\n",
       "    <tr style=\"text-align: right;\">\n",
       "      <th></th>\n",
       "      <th>year</th>\n",
       "      <th>predicted_temp</th>\n",
       "      <th>month_sin</th>\n",
       "      <th>month_cos</th>\n",
       "    </tr>\n",
       "  </thead>\n",
       "  <tbody>\n",
       "    <tr>\n",
       "      <th>0</th>\n",
       "      <td>2020.0</td>\n",
       "      <td>2.628042</td>\n",
       "      <td>0.000000</td>\n",
       "      <td>1.000000</td>\n",
       "    </tr>\n",
       "    <tr>\n",
       "      <th>1</th>\n",
       "      <td>2020.0</td>\n",
       "      <td>1.958139</td>\n",
       "      <td>0.500000</td>\n",
       "      <td>0.866025</td>\n",
       "    </tr>\n",
       "    <tr>\n",
       "      <th>2</th>\n",
       "      <td>2020.0</td>\n",
       "      <td>3.539831</td>\n",
       "      <td>0.866025</td>\n",
       "      <td>0.500000</td>\n",
       "    </tr>\n",
       "    <tr>\n",
       "      <th>3</th>\n",
       "      <td>2020.0</td>\n",
       "      <td>6.589260</td>\n",
       "      <td>1.000000</td>\n",
       "      <td>0.000000</td>\n",
       "    </tr>\n",
       "    <tr>\n",
       "      <th>4</th>\n",
       "      <td>2020.0</td>\n",
       "      <td>10.483600</td>\n",
       "      <td>0.866025</td>\n",
       "      <td>-0.500000</td>\n",
       "    </tr>\n",
       "  </tbody>\n",
       "</table>\n",
       "</div>"
      ],
      "text/plain": [
       "     year  predicted_temp  month_sin  month_cos\n",
       "0  2020.0        2.628042   0.000000   1.000000\n",
       "1  2020.0        1.958139   0.500000   0.866025\n",
       "2  2020.0        3.539831   0.866025   0.500000\n",
       "3  2020.0        6.589260   1.000000   0.000000\n",
       "4  2020.0       10.483600   0.866025  -0.500000"
      ]
     },
     "metadata": {},
     "output_type": "display_data"
    }
   ],
   "source": [
    "test_set_prediction = pd.DataFrame(pred_list).rename(columns = {0:'prediction'})\n",
    "test_set[12:]['avg_temp'] =  test_set_prediction['prediction'].values\n",
    "inverse_test_prediction = test_set[12:][['year','avg_temp','month_sin','month_cos']]\n",
    "inverse_test_prediction = scaler.inverse_transform(inverse_test_prediction)\n",
    "final_prediction = pd.DataFrame(inverse_test_prediction).rename(columns = {0:'year',1:'predicted_temp',2:'month_sin',3:'month_cos'})\n",
    "temp_prediction_path = r\"C:\\Users\\rezan\\Documents\\Master in Applied Data Science\\2nd Year\\MASTER THESIS\\GIT THESIS\\Multivariate LSTM\\France Predictions\\\\\"\n",
    "display(final_prediction.head())\n",
    "final_prediction.to_excel(temp_prediction_path+f' {region_name}.xlsx')"
   ]
  },
  {
   "cell_type": "code",
   "execution_count": null,
   "metadata": {},
   "outputs": [],
   "source": []
  }
 ],
 "metadata": {
  "kernelspec": {
   "display_name": "Python 3",
   "language": "python",
   "name": "python3"
  },
  "language_info": {
   "codemirror_mode": {
    "name": "ipython",
    "version": 3
   },
   "file_extension": ".py",
   "mimetype": "text/x-python",
   "name": "python",
   "nbconvert_exporter": "python",
   "pygments_lexer": "ipython3",
   "version": "3.7.1"
  }
 },
 "nbformat": 4,
 "nbformat_minor": 4
}
