{
 "cells": [
  {
   "cell_type": "markdown",
   "metadata": {},
   "source": [
    "Another approach: \n",
    "\n",
    "* include the other 3 variables including the year, temp (shift to t+1), month_sin, month_cos\n",
    "* Do the early stopping where the validation is minimum. \n",
    "* plot the residual "
   ]
  },
  {
   "cell_type": "code",
   "execution_count": 104,
   "metadata": {},
   "outputs": [],
   "source": [
    "import numpy as np\n",
    "import pandas as pd\n",
    "import matplotlib.pyplot as plt\n",
    "%matplotlib inline\n",
    "from statsmodels.tools.eval_measures import rmse\n",
    "from keras.preprocessing.sequence import TimeseriesGenerator\n",
    "from sklearn.preprocessing import MinMaxScaler\n",
    "from sklearn.model_selection import train_test_split\n",
    "from sklearn import preprocessing\n",
    "from keras.models import Sequential\n",
    "from keras.layers import Dense\n",
    "from keras.layers import LSTM\n",
    "from keras.layers import Dropout\n",
    "from tensorflow.python import keras\n",
    "from keras.callbacks import EarlyStopping\n",
    "from keras.optimizers import SGD, Adam\n",
    "import tensorflow as tf\n",
    "from keras.layers import LeakyReLU\n",
    "from keras.callbacks import ModelCheckpoint\n",
    "import warnings\n",
    "warnings.filterwarnings('ignore')\n",
    "\n",
    "from sklearn.preprocessing import MinMaxScaler\n",
    "from sklearn.metrics import mean_squared_error\n",
    "from sklearn.metrics import mean_absolute_error\n",
    "\n",
    "np.random.seed(7)"
   ]
  },
  {
   "cell_type": "code",
   "execution_count": 57,
   "metadata": {},
   "outputs": [],
   "source": [
    "path = r\"C:\\Users\\rezan\\Documents\\Master in Applied Data Science\\2nd Year\\MASTER THESIS\\GIT THESIS\\geopy\\france_cleaned\"\n",
    "\n",
    "df = pd.read_csv(path+'\\\\'+'Alsace.csv')\n",
    "unlabelled_dataset = pd.read_excel('to_predict.xlsx')"
   ]
  },
  {
   "cell_type": "code",
   "execution_count": 58,
   "metadata": {},
   "outputs": [],
   "source": [
    "def make_cyclic_sin(month):\n",
    "    a = np.sin((month-1)*(2.*np.pi/12))\n",
    "    return a\n",
    "def make_cyclic_cos(month):\n",
    "    b = np.cos((month-1)*(2.*np.pi/12))\n",
    "    return b "
   ]
  },
  {
   "cell_type": "code",
   "execution_count": 59,
   "metadata": {},
   "outputs": [],
   "source": [
    "temp_df = df[df['PARAMETER'] == 'T2M']\n",
    "temp_df = temp_df.drop('ANN', axis = 1)\n",
    "#hum_df = data[data['PARAMETER'] == 'RH2M']"
   ]
  },
  {
   "cell_type": "code",
   "execution_count": 60,
   "metadata": {},
   "outputs": [],
   "source": [
    "temp_df = temp_df.rename(columns = {'JAN':1, 'FEB':2,'MAR':3, 'APR':4, 'MAY':5,'JUN':6,\n",
    "                         'JUL':7, 'AUG':8, 'SEP':9, 'OCT':10, 'NOV':11, 'DEC':12})\n",
    "temp_df = temp_df.drop(['PARAMETER','LAT','LON'], axis = 1)"
   ]
  },
  {
   "cell_type": "code",
   "execution_count": 61,
   "metadata": {},
   "outputs": [],
   "source": [
    "temp_df.set_index('YEAR', inplace = True)\n",
    "df = pd.concat([temp_df.stack()], axis=1)\n",
    "df.reset_index(inplace = True)"
   ]
  },
  {
   "cell_type": "code",
   "execution_count": 62,
   "metadata": {},
   "outputs": [],
   "source": [
    "df.rename(columns = {'level_1':'month',0:'avg_temp'}, inplace = True)"
   ]
  },
  {
   "cell_type": "code",
   "execution_count": 63,
   "metadata": {},
   "outputs": [
    {
     "name": "stdout",
     "output_type": "stream",
     "text": [
      "<class 'pandas.core.frame.DataFrame'>\n",
      "RangeIndex: 468 entries, 0 to 467\n",
      "Data columns (total 3 columns):\n",
      "YEAR        468 non-null int64\n",
      "month       468 non-null int64\n",
      "avg_temp    468 non-null float64\n",
      "dtypes: float64(1), int64(2)\n",
      "memory usage: 11.1 KB\n"
     ]
    }
   ],
   "source": [
    "df.info()"
   ]
  },
  {
   "cell_type": "code",
   "execution_count": 64,
   "metadata": {},
   "outputs": [
    {
     "data": {
      "text/html": [
       "<div>\n",
       "<style scoped>\n",
       "    .dataframe tbody tr th:only-of-type {\n",
       "        vertical-align: middle;\n",
       "    }\n",
       "\n",
       "    .dataframe tbody tr th {\n",
       "        vertical-align: top;\n",
       "    }\n",
       "\n",
       "    .dataframe thead th {\n",
       "        text-align: right;\n",
       "    }\n",
       "</style>\n",
       "<table border=\"1\" class=\"dataframe\">\n",
       "  <thead>\n",
       "    <tr style=\"text-align: right;\">\n",
       "      <th></th>\n",
       "      <th>YEAR</th>\n",
       "      <th>month</th>\n",
       "      <th>avg_temp</th>\n",
       "    </tr>\n",
       "  </thead>\n",
       "  <tbody>\n",
       "    <tr>\n",
       "      <th>0</th>\n",
       "      <td>1981</td>\n",
       "      <td>1</td>\n",
       "      <td>-2.68</td>\n",
       "    </tr>\n",
       "  </tbody>\n",
       "</table>\n",
       "</div>"
      ],
      "text/plain": [
       "   YEAR  month  avg_temp\n",
       "0  1981      1     -2.68"
      ]
     },
     "execution_count": 64,
     "metadata": {},
     "output_type": "execute_result"
    }
   ],
   "source": [
    "df.head(1)"
   ]
  },
  {
   "cell_type": "code",
   "execution_count": 65,
   "metadata": {},
   "outputs": [],
   "source": [
    "# encoding for months \n",
    "#cyclic encoding from deep learning notebook\n",
    "df['month_sin'] = df['month'].apply(lambda row: make_cyclic_sin(row))\n",
    "df['month_cos'] = df['month'].apply(lambda row: make_cyclic_cos(row))"
   ]
  },
  {
   "cell_type": "code",
   "execution_count": 66,
   "metadata": {},
   "outputs": [
    {
     "data": {
      "text/html": [
       "<div>\n",
       "<style scoped>\n",
       "    .dataframe tbody tr th:only-of-type {\n",
       "        vertical-align: middle;\n",
       "    }\n",
       "\n",
       "    .dataframe tbody tr th {\n",
       "        vertical-align: top;\n",
       "    }\n",
       "\n",
       "    .dataframe thead th {\n",
       "        text-align: right;\n",
       "    }\n",
       "</style>\n",
       "<table border=\"1\" class=\"dataframe\">\n",
       "  <thead>\n",
       "    <tr style=\"text-align: right;\">\n",
       "      <th></th>\n",
       "      <th>YEAR</th>\n",
       "      <th>month</th>\n",
       "      <th>avg_temp</th>\n",
       "      <th>month_sin</th>\n",
       "      <th>month_cos</th>\n",
       "    </tr>\n",
       "  </thead>\n",
       "  <tbody>\n",
       "    <tr>\n",
       "      <th>0</th>\n",
       "      <td>1981</td>\n",
       "      <td>1</td>\n",
       "      <td>-2.68</td>\n",
       "      <td>0.000000</td>\n",
       "      <td>1.000000e+00</td>\n",
       "    </tr>\n",
       "    <tr>\n",
       "      <th>1</th>\n",
       "      <td>1981</td>\n",
       "      <td>2</td>\n",
       "      <td>-1.23</td>\n",
       "      <td>0.500000</td>\n",
       "      <td>8.660254e-01</td>\n",
       "    </tr>\n",
       "    <tr>\n",
       "      <th>2</th>\n",
       "      <td>1981</td>\n",
       "      <td>3</td>\n",
       "      <td>6.74</td>\n",
       "      <td>0.866025</td>\n",
       "      <td>5.000000e-01</td>\n",
       "    </tr>\n",
       "    <tr>\n",
       "      <th>3</th>\n",
       "      <td>1981</td>\n",
       "      <td>4</td>\n",
       "      <td>8.99</td>\n",
       "      <td>1.000000</td>\n",
       "      <td>6.123234e-17</td>\n",
       "    </tr>\n",
       "    <tr>\n",
       "      <th>4</th>\n",
       "      <td>1981</td>\n",
       "      <td>5</td>\n",
       "      <td>12.46</td>\n",
       "      <td>0.866025</td>\n",
       "      <td>-5.000000e-01</td>\n",
       "    </tr>\n",
       "  </tbody>\n",
       "</table>\n",
       "</div>"
      ],
      "text/plain": [
       "   YEAR  month  avg_temp  month_sin     month_cos\n",
       "0  1981      1     -2.68   0.000000  1.000000e+00\n",
       "1  1981      2     -1.23   0.500000  8.660254e-01\n",
       "2  1981      3      6.74   0.866025  5.000000e-01\n",
       "3  1981      4      8.99   1.000000  6.123234e-17\n",
       "4  1981      5     12.46   0.866025 -5.000000e-01"
      ]
     },
     "execution_count": 66,
     "metadata": {},
     "output_type": "execute_result"
    }
   ],
   "source": [
    "df.head()"
   ]
  },
  {
   "cell_type": "code",
   "execution_count": 67,
   "metadata": {},
   "outputs": [],
   "source": [
    "df['date'] = df[['YEAR','month']].astype(str).apply('-'.join, axis=1)"
   ]
  },
  {
   "cell_type": "code",
   "execution_count": 68,
   "metadata": {},
   "outputs": [],
   "source": [
    "df.date = pd.to_datetime(df.date)\n",
    "df = df.set_index('date')"
   ]
  },
  {
   "cell_type": "code",
   "execution_count": 69,
   "metadata": {},
   "outputs": [
    {
     "data": {
      "text/plain": [
       "(468, 5)"
      ]
     },
     "execution_count": 69,
     "metadata": {},
     "output_type": "execute_result"
    }
   ],
   "source": [
    "df.shape"
   ]
  },
  {
   "cell_type": "code",
   "execution_count": 70,
   "metadata": {},
   "outputs": [
    {
     "data": {
      "text/html": [
       "<div>\n",
       "<style scoped>\n",
       "    .dataframe tbody tr th:only-of-type {\n",
       "        vertical-align: middle;\n",
       "    }\n",
       "\n",
       "    .dataframe tbody tr th {\n",
       "        vertical-align: top;\n",
       "    }\n",
       "\n",
       "    .dataframe thead th {\n",
       "        text-align: right;\n",
       "    }\n",
       "</style>\n",
       "<table border=\"1\" class=\"dataframe\">\n",
       "  <thead>\n",
       "    <tr style=\"text-align: right;\">\n",
       "      <th></th>\n",
       "      <th>YEAR</th>\n",
       "      <th>month</th>\n",
       "      <th>avg_temp</th>\n",
       "      <th>month_sin</th>\n",
       "      <th>month_cos</th>\n",
       "    </tr>\n",
       "    <tr>\n",
       "      <th>date</th>\n",
       "      <th></th>\n",
       "      <th></th>\n",
       "      <th></th>\n",
       "      <th></th>\n",
       "      <th></th>\n",
       "    </tr>\n",
       "  </thead>\n",
       "  <tbody>\n",
       "    <tr>\n",
       "      <th>2019-08-01</th>\n",
       "      <td>2019</td>\n",
       "      <td>8</td>\n",
       "      <td>20.02</td>\n",
       "      <td>-0.500000</td>\n",
       "      <td>-8.660254e-01</td>\n",
       "    </tr>\n",
       "    <tr>\n",
       "      <th>2019-09-01</th>\n",
       "      <td>2019</td>\n",
       "      <td>9</td>\n",
       "      <td>15.32</td>\n",
       "      <td>-0.866025</td>\n",
       "      <td>-5.000000e-01</td>\n",
       "    </tr>\n",
       "    <tr>\n",
       "      <th>2019-10-01</th>\n",
       "      <td>2019</td>\n",
       "      <td>10</td>\n",
       "      <td>11.47</td>\n",
       "      <td>-1.000000</td>\n",
       "      <td>-1.836970e-16</td>\n",
       "    </tr>\n",
       "    <tr>\n",
       "      <th>2019-11-01</th>\n",
       "      <td>2019</td>\n",
       "      <td>11</td>\n",
       "      <td>4.60</td>\n",
       "      <td>-0.866025</td>\n",
       "      <td>5.000000e-01</td>\n",
       "    </tr>\n",
       "    <tr>\n",
       "      <th>2019-12-01</th>\n",
       "      <td>2019</td>\n",
       "      <td>12</td>\n",
       "      <td>2.99</td>\n",
       "      <td>-0.500000</td>\n",
       "      <td>8.660254e-01</td>\n",
       "    </tr>\n",
       "  </tbody>\n",
       "</table>\n",
       "</div>"
      ],
      "text/plain": [
       "            YEAR  month  avg_temp  month_sin     month_cos\n",
       "date                                                      \n",
       "2019-08-01  2019      8     20.02  -0.500000 -8.660254e-01\n",
       "2019-09-01  2019      9     15.32  -0.866025 -5.000000e-01\n",
       "2019-10-01  2019     10     11.47  -1.000000 -1.836970e-16\n",
       "2019-11-01  2019     11      4.60  -0.866025  5.000000e-01\n",
       "2019-12-01  2019     12      2.99  -0.500000  8.660254e-01"
      ]
     },
     "execution_count": 70,
     "metadata": {},
     "output_type": "execute_result"
    }
   ],
   "source": [
    "df.tail()"
   ]
  },
  {
   "cell_type": "code",
   "execution_count": 71,
   "metadata": {},
   "outputs": [],
   "source": [
    "unlabelled_dataset['date'] = unlabelled_dataset[['YEAR','month']].astype(str).apply('-'.join, axis=1)\n",
    "unlabelled_dataset.date = pd.to_datetime(unlabelled_dataset.date)\n",
    "unlabelled_dataset = unlabelled_dataset.set_index('date')"
   ]
  },
  {
   "cell_type": "code",
   "execution_count": 72,
   "metadata": {},
   "outputs": [
    {
     "data": {
      "text/html": [
       "<div>\n",
       "<style scoped>\n",
       "    .dataframe tbody tr th:only-of-type {\n",
       "        vertical-align: middle;\n",
       "    }\n",
       "\n",
       "    .dataframe tbody tr th {\n",
       "        vertical-align: top;\n",
       "    }\n",
       "\n",
       "    .dataframe thead th {\n",
       "        text-align: right;\n",
       "    }\n",
       "</style>\n",
       "<table border=\"1\" class=\"dataframe\">\n",
       "  <thead>\n",
       "    <tr style=\"text-align: right;\">\n",
       "      <th></th>\n",
       "      <th>YEAR</th>\n",
       "      <th>month</th>\n",
       "      <th>month_sin</th>\n",
       "      <th>month_cos</th>\n",
       "    </tr>\n",
       "    <tr>\n",
       "      <th>date</th>\n",
       "      <th></th>\n",
       "      <th></th>\n",
       "      <th></th>\n",
       "      <th></th>\n",
       "    </tr>\n",
       "  </thead>\n",
       "  <tbody>\n",
       "    <tr>\n",
       "      <th>2021-08-01</th>\n",
       "      <td>2021</td>\n",
       "      <td>8</td>\n",
       "      <td>-0.500000</td>\n",
       "      <td>-8.660254e-01</td>\n",
       "    </tr>\n",
       "    <tr>\n",
       "      <th>2021-09-01</th>\n",
       "      <td>2021</td>\n",
       "      <td>9</td>\n",
       "      <td>-0.866025</td>\n",
       "      <td>-5.000000e-01</td>\n",
       "    </tr>\n",
       "    <tr>\n",
       "      <th>2021-10-01</th>\n",
       "      <td>2021</td>\n",
       "      <td>10</td>\n",
       "      <td>-1.000000</td>\n",
       "      <td>-1.836970e-16</td>\n",
       "    </tr>\n",
       "    <tr>\n",
       "      <th>2021-11-01</th>\n",
       "      <td>2021</td>\n",
       "      <td>11</td>\n",
       "      <td>-0.866025</td>\n",
       "      <td>5.000000e-01</td>\n",
       "    </tr>\n",
       "    <tr>\n",
       "      <th>2021-12-01</th>\n",
       "      <td>2021</td>\n",
       "      <td>12</td>\n",
       "      <td>-0.500000</td>\n",
       "      <td>8.660254e-01</td>\n",
       "    </tr>\n",
       "  </tbody>\n",
       "</table>\n",
       "</div>"
      ],
      "text/plain": [
       "            YEAR  month  month_sin     month_cos\n",
       "date                                            \n",
       "2021-08-01  2021      8  -0.500000 -8.660254e-01\n",
       "2021-09-01  2021      9  -0.866025 -5.000000e-01\n",
       "2021-10-01  2021     10  -1.000000 -1.836970e-16\n",
       "2021-11-01  2021     11  -0.866025  5.000000e-01\n",
       "2021-12-01  2021     12  -0.500000  8.660254e-01"
      ]
     },
     "execution_count": 72,
     "metadata": {},
     "output_type": "execute_result"
    }
   ],
   "source": [
    "unlabelled_dataset.tail()"
   ]
  },
  {
   "cell_type": "code",
   "execution_count": 73,
   "metadata": {},
   "outputs": [
    {
     "data": {
      "text/plain": [
       "(24, 4)"
      ]
     },
     "execution_count": 73,
     "metadata": {},
     "output_type": "execute_result"
    }
   ],
   "source": [
    "unlabelled_dataset.shape"
   ]
  },
  {
   "cell_type": "code",
   "execution_count": 74,
   "metadata": {},
   "outputs": [],
   "source": [
    "combined_data = pd.concat([df,unlabelled_dataset])"
   ]
  },
  {
   "cell_type": "code",
   "execution_count": 75,
   "metadata": {},
   "outputs": [
    {
     "data": {
      "text/html": [
       "<div>\n",
       "<style scoped>\n",
       "    .dataframe tbody tr th:only-of-type {\n",
       "        vertical-align: middle;\n",
       "    }\n",
       "\n",
       "    .dataframe tbody tr th {\n",
       "        vertical-align: top;\n",
       "    }\n",
       "\n",
       "    .dataframe thead th {\n",
       "        text-align: right;\n",
       "    }\n",
       "</style>\n",
       "<table border=\"1\" class=\"dataframe\">\n",
       "  <thead>\n",
       "    <tr style=\"text-align: right;\">\n",
       "      <th></th>\n",
       "      <th>YEAR</th>\n",
       "      <th>avg_temp</th>\n",
       "      <th>month</th>\n",
       "      <th>month_cos</th>\n",
       "      <th>month_sin</th>\n",
       "    </tr>\n",
       "    <tr>\n",
       "      <th>date</th>\n",
       "      <th></th>\n",
       "      <th></th>\n",
       "      <th></th>\n",
       "      <th></th>\n",
       "      <th></th>\n",
       "    </tr>\n",
       "  </thead>\n",
       "  <tbody>\n",
       "    <tr>\n",
       "      <th>2021-08-01</th>\n",
       "      <td>2021</td>\n",
       "      <td>NaN</td>\n",
       "      <td>8</td>\n",
       "      <td>-8.660254e-01</td>\n",
       "      <td>-0.500000</td>\n",
       "    </tr>\n",
       "    <tr>\n",
       "      <th>2021-09-01</th>\n",
       "      <td>2021</td>\n",
       "      <td>NaN</td>\n",
       "      <td>9</td>\n",
       "      <td>-5.000000e-01</td>\n",
       "      <td>-0.866025</td>\n",
       "    </tr>\n",
       "    <tr>\n",
       "      <th>2021-10-01</th>\n",
       "      <td>2021</td>\n",
       "      <td>NaN</td>\n",
       "      <td>10</td>\n",
       "      <td>-1.836970e-16</td>\n",
       "      <td>-1.000000</td>\n",
       "    </tr>\n",
       "    <tr>\n",
       "      <th>2021-11-01</th>\n",
       "      <td>2021</td>\n",
       "      <td>NaN</td>\n",
       "      <td>11</td>\n",
       "      <td>5.000000e-01</td>\n",
       "      <td>-0.866025</td>\n",
       "    </tr>\n",
       "    <tr>\n",
       "      <th>2021-12-01</th>\n",
       "      <td>2021</td>\n",
       "      <td>NaN</td>\n",
       "      <td>12</td>\n",
       "      <td>8.660254e-01</td>\n",
       "      <td>-0.500000</td>\n",
       "    </tr>\n",
       "  </tbody>\n",
       "</table>\n",
       "</div>"
      ],
      "text/plain": [
       "            YEAR  avg_temp  month     month_cos  month_sin\n",
       "date                                                      \n",
       "2021-08-01  2021       NaN      8 -8.660254e-01  -0.500000\n",
       "2021-09-01  2021       NaN      9 -5.000000e-01  -0.866025\n",
       "2021-10-01  2021       NaN     10 -1.836970e-16  -1.000000\n",
       "2021-11-01  2021       NaN     11  5.000000e-01  -0.866025\n",
       "2021-12-01  2021       NaN     12  8.660254e-01  -0.500000"
      ]
     },
     "execution_count": 75,
     "metadata": {},
     "output_type": "execute_result"
    }
   ],
   "source": [
    "combined_data.tail()"
   ]
  },
  {
   "cell_type": "code",
   "execution_count": 76,
   "metadata": {},
   "outputs": [],
   "source": [
    "labelled = combined_data[:468]\n",
    "unlabelled = combined_data[468:] ## this will be the x_test ( the model that has not seen yet)"
   ]
  },
  {
   "cell_type": "code",
   "execution_count": 77,
   "metadata": {},
   "outputs": [],
   "source": [
    "# shifting the avg_temp to t+1 \n",
    "labelled['avg_temp'] = df['avg_temp'].shift(1)"
   ]
  },
  {
   "cell_type": "code",
   "execution_count": 78,
   "metadata": {},
   "outputs": [
    {
     "data": {
      "text/html": [
       "<div>\n",
       "<style scoped>\n",
       "    .dataframe tbody tr th:only-of-type {\n",
       "        vertical-align: middle;\n",
       "    }\n",
       "\n",
       "    .dataframe tbody tr th {\n",
       "        vertical-align: top;\n",
       "    }\n",
       "\n",
       "    .dataframe thead th {\n",
       "        text-align: right;\n",
       "    }\n",
       "</style>\n",
       "<table border=\"1\" class=\"dataframe\">\n",
       "  <thead>\n",
       "    <tr style=\"text-align: right;\">\n",
       "      <th></th>\n",
       "      <th>YEAR</th>\n",
       "      <th>avg_temp</th>\n",
       "      <th>month</th>\n",
       "      <th>month_cos</th>\n",
       "      <th>month_sin</th>\n",
       "    </tr>\n",
       "    <tr>\n",
       "      <th>date</th>\n",
       "      <th></th>\n",
       "      <th></th>\n",
       "      <th></th>\n",
       "      <th></th>\n",
       "      <th></th>\n",
       "    </tr>\n",
       "  </thead>\n",
       "  <tbody>\n",
       "    <tr>\n",
       "      <th>1981-01-01</th>\n",
       "      <td>1981</td>\n",
       "      <td>NaN</td>\n",
       "      <td>1</td>\n",
       "      <td>1.000000e+00</td>\n",
       "      <td>0.000000e+00</td>\n",
       "    </tr>\n",
       "    <tr>\n",
       "      <th>1981-02-01</th>\n",
       "      <td>1981</td>\n",
       "      <td>-2.68</td>\n",
       "      <td>2</td>\n",
       "      <td>8.660254e-01</td>\n",
       "      <td>5.000000e-01</td>\n",
       "    </tr>\n",
       "    <tr>\n",
       "      <th>1981-03-01</th>\n",
       "      <td>1981</td>\n",
       "      <td>-1.23</td>\n",
       "      <td>3</td>\n",
       "      <td>5.000000e-01</td>\n",
       "      <td>8.660254e-01</td>\n",
       "    </tr>\n",
       "    <tr>\n",
       "      <th>1981-04-01</th>\n",
       "      <td>1981</td>\n",
       "      <td>6.74</td>\n",
       "      <td>4</td>\n",
       "      <td>6.123234e-17</td>\n",
       "      <td>1.000000e+00</td>\n",
       "    </tr>\n",
       "    <tr>\n",
       "      <th>1981-05-01</th>\n",
       "      <td>1981</td>\n",
       "      <td>8.99</td>\n",
       "      <td>5</td>\n",
       "      <td>-5.000000e-01</td>\n",
       "      <td>8.660254e-01</td>\n",
       "    </tr>\n",
       "    <tr>\n",
       "      <th>1981-06-01</th>\n",
       "      <td>1981</td>\n",
       "      <td>12.46</td>\n",
       "      <td>6</td>\n",
       "      <td>-8.660254e-01</td>\n",
       "      <td>5.000000e-01</td>\n",
       "    </tr>\n",
       "    <tr>\n",
       "      <th>1981-07-01</th>\n",
       "      <td>1981</td>\n",
       "      <td>15.47</td>\n",
       "      <td>7</td>\n",
       "      <td>-1.000000e+00</td>\n",
       "      <td>1.224647e-16</td>\n",
       "    </tr>\n",
       "    <tr>\n",
       "      <th>1981-08-01</th>\n",
       "      <td>1981</td>\n",
       "      <td>16.75</td>\n",
       "      <td>8</td>\n",
       "      <td>-8.660254e-01</td>\n",
       "      <td>-5.000000e-01</td>\n",
       "    </tr>\n",
       "    <tr>\n",
       "      <th>1981-09-01</th>\n",
       "      <td>1981</td>\n",
       "      <td>17.32</td>\n",
       "      <td>9</td>\n",
       "      <td>-5.000000e-01</td>\n",
       "      <td>-8.660254e-01</td>\n",
       "    </tr>\n",
       "    <tr>\n",
       "      <th>1981-10-01</th>\n",
       "      <td>1981</td>\n",
       "      <td>14.64</td>\n",
       "      <td>10</td>\n",
       "      <td>-1.836970e-16</td>\n",
       "      <td>-1.000000e+00</td>\n",
       "    </tr>\n",
       "    <tr>\n",
       "      <th>1981-11-01</th>\n",
       "      <td>1981</td>\n",
       "      <td>8.35</td>\n",
       "      <td>11</td>\n",
       "      <td>5.000000e-01</td>\n",
       "      <td>-8.660254e-01</td>\n",
       "    </tr>\n",
       "    <tr>\n",
       "      <th>1981-12-01</th>\n",
       "      <td>1981</td>\n",
       "      <td>3.39</td>\n",
       "      <td>12</td>\n",
       "      <td>8.660254e-01</td>\n",
       "      <td>-5.000000e-01</td>\n",
       "    </tr>\n",
       "  </tbody>\n",
       "</table>\n",
       "</div>"
      ],
      "text/plain": [
       "            YEAR  avg_temp  month     month_cos     month_sin\n",
       "date                                                         \n",
       "1981-01-01  1981       NaN      1  1.000000e+00  0.000000e+00\n",
       "1981-02-01  1981     -2.68      2  8.660254e-01  5.000000e-01\n",
       "1981-03-01  1981     -1.23      3  5.000000e-01  8.660254e-01\n",
       "1981-04-01  1981      6.74      4  6.123234e-17  1.000000e+00\n",
       "1981-05-01  1981      8.99      5 -5.000000e-01  8.660254e-01\n",
       "1981-06-01  1981     12.46      6 -8.660254e-01  5.000000e-01\n",
       "1981-07-01  1981     15.47      7 -1.000000e+00  1.224647e-16\n",
       "1981-08-01  1981     16.75      8 -8.660254e-01 -5.000000e-01\n",
       "1981-09-01  1981     17.32      9 -5.000000e-01 -8.660254e-01\n",
       "1981-10-01  1981     14.64     10 -1.836970e-16 -1.000000e+00\n",
       "1981-11-01  1981      8.35     11  5.000000e-01 -8.660254e-01\n",
       "1981-12-01  1981      3.39     12  8.660254e-01 -5.000000e-01"
      ]
     },
     "execution_count": 78,
     "metadata": {},
     "output_type": "execute_result"
    }
   ],
   "source": [
    "labelled.head(12)"
   ]
  },
  {
   "cell_type": "code",
   "execution_count": 79,
   "metadata": {},
   "outputs": [],
   "source": [
    "df = df[1:] # the labelled data"
   ]
  },
  {
   "cell_type": "code",
   "execution_count": 80,
   "metadata": {},
   "outputs": [],
   "source": [
    "# include the other 3 variables including the year, temp (shift to t+1), month_sin, month_cos\n",
    "\n",
    "y = df.avg_temp\n",
    "X = df.drop('month', axis = 1) # shift temp and include in x dont drop it\n",
    "valid_and_test_size = 0.1\n",
    "X_train, X_valid, y_train, y_valid = train_test_split(X, y, test_size=valid_and_test_size*2, random_state=42, shuffle=False)"
   ]
  },
  {
   "cell_type": "code",
   "execution_count": 81,
   "metadata": {},
   "outputs": [
    {
     "data": {
      "text/html": [
       "<div>\n",
       "<style scoped>\n",
       "    .dataframe tbody tr th:only-of-type {\n",
       "        vertical-align: middle;\n",
       "    }\n",
       "\n",
       "    .dataframe tbody tr th {\n",
       "        vertical-align: top;\n",
       "    }\n",
       "\n",
       "    .dataframe thead th {\n",
       "        text-align: right;\n",
       "    }\n",
       "</style>\n",
       "<table border=\"1\" class=\"dataframe\">\n",
       "  <thead>\n",
       "    <tr style=\"text-align: right;\">\n",
       "      <th></th>\n",
       "      <th>YEAR</th>\n",
       "      <th>avg_temp</th>\n",
       "      <th>month_sin</th>\n",
       "      <th>month_cos</th>\n",
       "    </tr>\n",
       "    <tr>\n",
       "      <th>date</th>\n",
       "      <th></th>\n",
       "      <th></th>\n",
       "      <th></th>\n",
       "      <th></th>\n",
       "    </tr>\n",
       "  </thead>\n",
       "  <tbody>\n",
       "    <tr>\n",
       "      <th>1981-02-01</th>\n",
       "      <td>1981</td>\n",
       "      <td>-1.23</td>\n",
       "      <td>0.500000</td>\n",
       "      <td>8.660254e-01</td>\n",
       "    </tr>\n",
       "    <tr>\n",
       "      <th>1981-03-01</th>\n",
       "      <td>1981</td>\n",
       "      <td>6.74</td>\n",
       "      <td>0.866025</td>\n",
       "      <td>5.000000e-01</td>\n",
       "    </tr>\n",
       "    <tr>\n",
       "      <th>1981-04-01</th>\n",
       "      <td>1981</td>\n",
       "      <td>8.99</td>\n",
       "      <td>1.000000</td>\n",
       "      <td>6.123234e-17</td>\n",
       "    </tr>\n",
       "    <tr>\n",
       "      <th>1981-05-01</th>\n",
       "      <td>1981</td>\n",
       "      <td>12.46</td>\n",
       "      <td>0.866025</td>\n",
       "      <td>-5.000000e-01</td>\n",
       "    </tr>\n",
       "    <tr>\n",
       "      <th>1981-06-01</th>\n",
       "      <td>1981</td>\n",
       "      <td>15.47</td>\n",
       "      <td>0.500000</td>\n",
       "      <td>-8.660254e-01</td>\n",
       "    </tr>\n",
       "  </tbody>\n",
       "</table>\n",
       "</div>"
      ],
      "text/plain": [
       "            YEAR  avg_temp  month_sin     month_cos\n",
       "date                                               \n",
       "1981-02-01  1981     -1.23   0.500000  8.660254e-01\n",
       "1981-03-01  1981      6.74   0.866025  5.000000e-01\n",
       "1981-04-01  1981      8.99   1.000000  6.123234e-17\n",
       "1981-05-01  1981     12.46   0.866025 -5.000000e-01\n",
       "1981-06-01  1981     15.47   0.500000 -8.660254e-01"
      ]
     },
     "metadata": {},
     "output_type": "display_data"
    },
    {
     "name": "stdout",
     "output_type": "stream",
     "text": [
      "(373, 4)\n"
     ]
    }
   ],
   "source": [
    "display(X_train.head())\n",
    "print(X_train.shape)"
   ]
  },
  {
   "cell_type": "code",
   "execution_count": 82,
   "metadata": {},
   "outputs": [
    {
     "data": {
      "text/html": [
       "<div>\n",
       "<style scoped>\n",
       "    .dataframe tbody tr th:only-of-type {\n",
       "        vertical-align: middle;\n",
       "    }\n",
       "\n",
       "    .dataframe tbody tr th {\n",
       "        vertical-align: top;\n",
       "    }\n",
       "\n",
       "    .dataframe thead th {\n",
       "        text-align: right;\n",
       "    }\n",
       "</style>\n",
       "<table border=\"1\" class=\"dataframe\">\n",
       "  <thead>\n",
       "    <tr style=\"text-align: right;\">\n",
       "      <th></th>\n",
       "      <th>YEAR</th>\n",
       "      <th>avg_temp</th>\n",
       "      <th>month_sin</th>\n",
       "      <th>month_cos</th>\n",
       "    </tr>\n",
       "    <tr>\n",
       "      <th>date</th>\n",
       "      <th></th>\n",
       "      <th></th>\n",
       "      <th></th>\n",
       "      <th></th>\n",
       "    </tr>\n",
       "  </thead>\n",
       "  <tbody>\n",
       "    <tr>\n",
       "      <th>2019-08-01</th>\n",
       "      <td>2019</td>\n",
       "      <td>20.02</td>\n",
       "      <td>-0.500000</td>\n",
       "      <td>-8.660254e-01</td>\n",
       "    </tr>\n",
       "    <tr>\n",
       "      <th>2019-09-01</th>\n",
       "      <td>2019</td>\n",
       "      <td>15.32</td>\n",
       "      <td>-0.866025</td>\n",
       "      <td>-5.000000e-01</td>\n",
       "    </tr>\n",
       "    <tr>\n",
       "      <th>2019-10-01</th>\n",
       "      <td>2019</td>\n",
       "      <td>11.47</td>\n",
       "      <td>-1.000000</td>\n",
       "      <td>-1.836970e-16</td>\n",
       "    </tr>\n",
       "    <tr>\n",
       "      <th>2019-11-01</th>\n",
       "      <td>2019</td>\n",
       "      <td>4.60</td>\n",
       "      <td>-0.866025</td>\n",
       "      <td>5.000000e-01</td>\n",
       "    </tr>\n",
       "    <tr>\n",
       "      <th>2019-12-01</th>\n",
       "      <td>2019</td>\n",
       "      <td>2.99</td>\n",
       "      <td>-0.500000</td>\n",
       "      <td>8.660254e-01</td>\n",
       "    </tr>\n",
       "  </tbody>\n",
       "</table>\n",
       "</div>"
      ],
      "text/plain": [
       "            YEAR  avg_temp  month_sin     month_cos\n",
       "date                                               \n",
       "2019-08-01  2019     20.02  -0.500000 -8.660254e-01\n",
       "2019-09-01  2019     15.32  -0.866025 -5.000000e-01\n",
       "2019-10-01  2019     11.47  -1.000000 -1.836970e-16\n",
       "2019-11-01  2019      4.60  -0.866025  5.000000e-01\n",
       "2019-12-01  2019      2.99  -0.500000  8.660254e-01"
      ]
     },
     "metadata": {},
     "output_type": "display_data"
    },
    {
     "name": "stdout",
     "output_type": "stream",
     "text": [
      "(94, 4)\n"
     ]
    }
   ],
   "source": [
    "display(X_valid.tail())\n",
    "print(X_valid.shape)"
   ]
  },
  {
   "cell_type": "code",
   "execution_count": 83,
   "metadata": {},
   "outputs": [
    {
     "data": {
      "text/plain": [
       "(373,)"
      ]
     },
     "execution_count": 83,
     "metadata": {},
     "output_type": "execute_result"
    }
   ],
   "source": [
    "y_train.shape"
   ]
  },
  {
   "cell_type": "code",
   "execution_count": 84,
   "metadata": {},
   "outputs": [
    {
     "data": {
      "text/plain": [
       "(94, 4)"
      ]
     },
     "execution_count": 84,
     "metadata": {},
     "output_type": "execute_result"
    }
   ],
   "source": [
    "X_valid.shape"
   ]
  },
  {
   "cell_type": "code",
   "execution_count": 85,
   "metadata": {},
   "outputs": [
    {
     "data": {
      "text/plain": [
       "(94,)"
      ]
     },
     "execution_count": 85,
     "metadata": {},
     "output_type": "execute_result"
    }
   ],
   "source": [
    "y_valid.shape"
   ]
  },
  {
   "cell_type": "code",
   "execution_count": 86,
   "metadata": {},
   "outputs": [],
   "source": [
    "# from series convert to array\n",
    "y_train = y_train.values.reshape(len(y_train),1)\n",
    "#y_test = y_test.values.reshape(len(y_test),1)\n",
    "y_valid = y_valid.values.reshape(len(y_valid),1)"
   ]
  },
  {
   "cell_type": "code",
   "execution_count": 87,
   "metadata": {},
   "outputs": [],
   "source": [
    "# normalize using minmax scaler\n",
    "scaler = MinMaxScaler()\n",
    "scaler_y = MinMaxScaler()\n",
    "X_train[['YEAR','avg_temp','month_cos','month_sin']] = scaler.fit_transform(X_train)\n",
    "#X_test[['YEAR','month_sin','month_cos']] = scaler.fit_transform(X_test)\n",
    "X_valid[['YEAR','avg_temp','month_cos','month_sin']] = scaler.fit_transform(X_valid)\n",
    "y_train = scaler_y.fit_transform(y_train)\n",
    "#y_test = scaler.fit_transform(y_test)\n",
    "y_valid = scaler_y.fit_transform(y_valid)"
   ]
  },
  {
   "cell_type": "code",
   "execution_count": 89,
   "metadata": {},
   "outputs": [
    {
     "data": {
      "text/html": [
       "<div>\n",
       "<style scoped>\n",
       "    .dataframe tbody tr th:only-of-type {\n",
       "        vertical-align: middle;\n",
       "    }\n",
       "\n",
       "    .dataframe tbody tr th {\n",
       "        vertical-align: top;\n",
       "    }\n",
       "\n",
       "    .dataframe thead th {\n",
       "        text-align: right;\n",
       "    }\n",
       "</style>\n",
       "<table border=\"1\" class=\"dataframe\">\n",
       "  <thead>\n",
       "    <tr style=\"text-align: right;\">\n",
       "      <th></th>\n",
       "      <th>YEAR</th>\n",
       "      <th>avg_temp</th>\n",
       "      <th>month_sin</th>\n",
       "      <th>month_cos</th>\n",
       "    </tr>\n",
       "    <tr>\n",
       "      <th>date</th>\n",
       "      <th></th>\n",
       "      <th></th>\n",
       "      <th></th>\n",
       "      <th></th>\n",
       "    </tr>\n",
       "  </thead>\n",
       "  <tbody>\n",
       "    <tr>\n",
       "      <th>1981-02-01</th>\n",
       "      <td>0.0</td>\n",
       "      <td>0.173813</td>\n",
       "      <td>0.933013</td>\n",
       "      <td>0.750000</td>\n",
       "    </tr>\n",
       "    <tr>\n",
       "      <th>1981-03-01</th>\n",
       "      <td>0.0</td>\n",
       "      <td>0.434697</td>\n",
       "      <td>0.750000</td>\n",
       "      <td>0.933013</td>\n",
       "    </tr>\n",
       "    <tr>\n",
       "      <th>1981-04-01</th>\n",
       "      <td>0.0</td>\n",
       "      <td>0.508347</td>\n",
       "      <td>0.500000</td>\n",
       "      <td>1.000000</td>\n",
       "    </tr>\n",
       "    <tr>\n",
       "      <th>1981-05-01</th>\n",
       "      <td>0.0</td>\n",
       "      <td>0.621931</td>\n",
       "      <td>0.250000</td>\n",
       "      <td>0.933013</td>\n",
       "    </tr>\n",
       "    <tr>\n",
       "      <th>1981-06-01</th>\n",
       "      <td>0.0</td>\n",
       "      <td>0.720458</td>\n",
       "      <td>0.066987</td>\n",
       "      <td>0.750000</td>\n",
       "    </tr>\n",
       "  </tbody>\n",
       "</table>\n",
       "</div>"
      ],
      "text/plain": [
       "            YEAR  avg_temp  month_sin  month_cos\n",
       "date                                            \n",
       "1981-02-01   0.0  0.173813   0.933013   0.750000\n",
       "1981-03-01   0.0  0.434697   0.750000   0.933013\n",
       "1981-04-01   0.0  0.508347   0.500000   1.000000\n",
       "1981-05-01   0.0  0.621931   0.250000   0.933013\n",
       "1981-06-01   0.0  0.720458   0.066987   0.750000"
      ]
     },
     "execution_count": 89,
     "metadata": {},
     "output_type": "execute_result"
    }
   ],
   "source": [
    "X_train.head()"
   ]
  },
  {
   "cell_type": "code",
   "execution_count": 90,
   "metadata": {},
   "outputs": [
    {
     "data": {
      "text/plain": [
       "(373, 1)"
      ]
     },
     "execution_count": 90,
     "metadata": {},
     "output_type": "execute_result"
    }
   ],
   "source": [
    "y_train.shape"
   ]
  },
  {
   "cell_type": "code",
   "execution_count": 91,
   "metadata": {},
   "outputs": [
    {
     "data": {
      "text/plain": [
       "(94, 4)"
      ]
     },
     "execution_count": 91,
     "metadata": {},
     "output_type": "execute_result"
    }
   ],
   "source": [
    "X_valid.shape"
   ]
  },
  {
   "cell_type": "code",
   "execution_count": 92,
   "metadata": {},
   "outputs": [
    {
     "data": {
      "text/plain": [
       "(94, 1)"
      ]
     },
     "execution_count": 92,
     "metadata": {},
     "output_type": "execute_result"
    }
   ],
   "source": [
    "y_valid.shape"
   ]
  },
  {
   "cell_type": "code",
   "execution_count": 93,
   "metadata": {},
   "outputs": [],
   "source": [
    "look_back=12\n",
    "FORECAST_DISTANCE=1 # forecast on the next month\n",
    "n_features = len(X_train.columns)\n"
   ]
  },
  {
   "cell_type": "code",
   "execution_count": 94,
   "metadata": {},
   "outputs": [],
   "source": [
    "from seglearn.transform import FeatureRep, SegmentXYForecast, last"
   ]
  },
  {
   "cell_type": "code",
   "execution_count": 95,
   "metadata": {},
   "outputs": [],
   "source": [
    "segmenter = SegmentXYForecast(width=look_back, step=1, y_func=last, forecast=FORECAST_DISTANCE) "
   ]
  },
  {
   "cell_type": "code",
   "execution_count": 96,
   "metadata": {},
   "outputs": [],
   "source": [
    "# the segmenter will segment the data according to the parameters set.\n",
    "X_train_rolled, y_train_rolled,_=segmenter.fit_transform([X_train.values],[y_train.flatten()])\n",
    "X_valid_rolled, y_valid_rolled,_=segmenter.fit_transform([X_valid.values],[y_valid.flatten()])\n",
    "#X_test_rolled,  y_test_rolled,_ = segmenter.fit_transform([X_test.values],[y_test.flatten()]) # 2016-02-01 -> 2019-12-01"
   ]
  },
  {
   "cell_type": "code",
   "execution_count": 97,
   "metadata": {},
   "outputs": [
    {
     "data": {
      "text/plain": [
       "(361, 12, 4)"
      ]
     },
     "execution_count": 97,
     "metadata": {},
     "output_type": "execute_result"
    }
   ],
   "source": [
    "X_train_rolled.shape"
   ]
  },
  {
   "cell_type": "code",
   "execution_count": 98,
   "metadata": {},
   "outputs": [
    {
     "data": {
      "text/plain": [
       "(361,)"
      ]
     },
     "execution_count": 98,
     "metadata": {},
     "output_type": "execute_result"
    }
   ],
   "source": [
    "y_train_rolled.shape"
   ]
  },
  {
   "cell_type": "code",
   "execution_count": 99,
   "metadata": {},
   "outputs": [
    {
     "data": {
      "text/plain": [
       "(82, 12, 4)"
      ]
     },
     "execution_count": 99,
     "metadata": {},
     "output_type": "execute_result"
    }
   ],
   "source": [
    "X_valid_rolled.shape"
   ]
  },
  {
   "cell_type": "code",
   "execution_count": 100,
   "metadata": {},
   "outputs": [
    {
     "data": {
      "text/plain": [
       "(82,)"
      ]
     },
     "execution_count": 100,
     "metadata": {},
     "output_type": "execute_result"
    }
   ],
   "source": [
    "y_valid_rolled.shape"
   ]
  },
  {
   "cell_type": "code",
   "execution_count": 101,
   "metadata": {},
   "outputs": [],
   "source": [
    "#####"
   ]
  },
  {
   "cell_type": "code",
   "execution_count": 105,
   "metadata": {},
   "outputs": [
    {
     "name": "stdout",
     "output_type": "stream",
     "text": [
      "Train on 361 samples, validate on 82 samples\n",
      "Epoch 1/30\n",
      "361/361 [==============================] - 1s 2ms/step - loss: 0.1481 - val_loss: 0.0732\n",
      "\n",
      "Epoch 00001: val_loss improved from inf to 0.07320, saving model to best_model_mult.h5\n",
      "Epoch 2/30\n",
      "361/361 [==============================] - 0s 1ms/step - loss: 0.0449 - val_loss: 0.0506\n",
      "\n",
      "Epoch 00002: val_loss improved from 0.07320 to 0.05062, saving model to best_model_mult.h5\n",
      "Epoch 3/30\n",
      "361/361 [==============================] - 0s 1ms/step - loss: 0.0301 - val_loss: 0.0373\n",
      "\n",
      "Epoch 00003: val_loss improved from 0.05062 to 0.03726, saving model to best_model_mult.h5\n",
      "Epoch 4/30\n",
      "361/361 [==============================] - 0s 1ms/step - loss: 0.0207 - val_loss: 0.0282\n",
      "\n",
      "Epoch 00004: val_loss improved from 0.03726 to 0.02820, saving model to best_model_mult.h5\n",
      "Epoch 5/30\n",
      "361/361 [==============================] - 0s 1ms/step - loss: 0.0168 - val_loss: 0.0208\n",
      "\n",
      "Epoch 00005: val_loss improved from 0.02820 to 0.02080, saving model to best_model_mult.h5\n",
      "Epoch 6/30\n",
      "361/361 [==============================] - 0s 1ms/step - loss: 0.0092 - val_loss: 0.0151\n",
      "\n",
      "Epoch 00006: val_loss improved from 0.02080 to 0.01506, saving model to best_model_mult.h5\n",
      "Epoch 7/30\n",
      "361/361 [==============================] - 0s 1ms/step - loss: 0.0087 - val_loss: 0.0119\n",
      "\n",
      "Epoch 00007: val_loss improved from 0.01506 to 0.01187, saving model to best_model_mult.h5\n",
      "Epoch 8/30\n",
      "361/361 [==============================] - 0s 1ms/step - loss: 0.0102 - val_loss: 0.0110\n",
      "\n",
      "Epoch 00008: val_loss improved from 0.01187 to 0.01100, saving model to best_model_mult.h5\n",
      "Epoch 9/30\n",
      "361/361 [==============================] - 0s 1ms/step - loss: 0.0059 - val_loss: 0.0083\n",
      "\n",
      "Epoch 00009: val_loss improved from 0.01100 to 0.00829, saving model to best_model_mult.h5\n",
      "Epoch 10/30\n",
      "361/361 [==============================] - 0s 1ms/step - loss: 0.0043 - val_loss: 0.0079\n",
      "\n",
      "Epoch 00010: val_loss improved from 0.00829 to 0.00788, saving model to best_model_mult.h5\n",
      "Epoch 11/30\n",
      "361/361 [==============================] - 0s 1ms/step - loss: 0.0077 - val_loss: 0.0085\n",
      "\n",
      "Epoch 00011: val_loss did not improve from 0.00788\n",
      "Epoch 12/30\n",
      "361/361 [==============================] - 0s 1ms/step - loss: 0.0077 - val_loss: 0.0074\n",
      "\n",
      "Epoch 00012: val_loss improved from 0.00788 to 0.00742, saving model to best_model_mult.h5\n",
      "Epoch 13/30\n",
      "361/361 [==============================] - 0s 1ms/step - loss: 0.0047 - val_loss: 0.0070\n",
      "\n",
      "Epoch 00013: val_loss improved from 0.00742 to 0.00695, saving model to best_model_mult.h5\n",
      "Epoch 14/30\n",
      "361/361 [==============================] - 0s 1ms/step - loss: 0.0067 - val_loss: 0.0071\n",
      "\n",
      "Epoch 00014: val_loss did not improve from 0.00695\n",
      "Epoch 15/30\n",
      "361/361 [==============================] - 0s 1ms/step - loss: 0.0040 - val_loss: 0.0073\n",
      "\n",
      "Epoch 00015: val_loss did not improve from 0.00695\n",
      "Epoch 16/30\n",
      "361/361 [==============================] - 0s 1ms/step - loss: 0.0049 - val_loss: 0.0068\n",
      "\n",
      "Epoch 00016: val_loss improved from 0.00695 to 0.00675, saving model to best_model_mult.h5\n",
      "Epoch 17/30\n",
      "361/361 [==============================] - 0s 1ms/step - loss: 0.0057 - val_loss: 0.0071\n",
      "\n",
      "Epoch 00017: val_loss did not improve from 0.00675\n",
      "Epoch 18/30\n",
      "361/361 [==============================] - 0s 1ms/step - loss: 0.0089 - val_loss: 0.0082\n",
      "\n",
      "Epoch 00018: val_loss did not improve from 0.00675\n",
      "Epoch 19/30\n",
      "361/361 [==============================] - 0s 1ms/step - loss: 0.0036 - val_loss: 0.0067\n",
      "\n",
      "Epoch 00019: val_loss improved from 0.00675 to 0.00666, saving model to best_model_mult.h5\n",
      "Epoch 20/30\n",
      "361/361 [==============================] - 0s 1ms/step - loss: 0.0076 - val_loss: 0.0067\n",
      "\n",
      "Epoch 00020: val_loss did not improve from 0.00666\n",
      "Epoch 21/30\n",
      "361/361 [==============================] - 0s 1ms/step - loss: 0.0066 - val_loss: 0.0073\n",
      "\n",
      "Epoch 00021: val_loss did not improve from 0.00666\n",
      "Epoch 22/30\n",
      "361/361 [==============================] - 0s 1ms/step - loss: 0.0070 - val_loss: 0.0069\n",
      "\n",
      "Epoch 00022: val_loss did not improve from 0.00666\n",
      "Epoch 23/30\n",
      "361/361 [==============================] - 0s 1ms/step - loss: 0.0057 - val_loss: 0.0073\n",
      "\n",
      "Epoch 00023: val_loss did not improve from 0.00666\n",
      "Epoch 24/30\n",
      "361/361 [==============================] - 0s 1ms/step - loss: 0.0043 - val_loss: 0.0078\n",
      "\n",
      "Epoch 00024: val_loss did not improve from 0.00666\n",
      "Epoch 00024: early stopping\n"
     ]
    }
   ],
   "source": [
    "BATCH_SIZE = 5\n",
    "EPOCHS = 30\n",
    "DROPOUT_RATE= 0.01\n",
    "LSTM_UNIT_SIZE = 5\n",
    "\n",
    "# Build the model \n",
    "model = Sequential()\n",
    "model.add(LSTM(LSTM_UNIT_SIZE, activation = 'relu',input_shape = (look_back, n_features)))\n",
    "model.add(Dropout(DROPOUT_RATE))\n",
    "model.add(Dense(1))\n",
    "\n",
    "\n",
    "#compile the model\n",
    "#opt = Adam(lr=0.01, clipnorm=1.0)\n",
    "#model.compile(loss='mean_squared_error', optimizer=opt)\n",
    "model.compile(optimizer = 'adam', loss = 'mse')\n",
    "\n",
    "# fit the model\n",
    "\n",
    "es = EarlyStopping(monitor='val_loss', mode='min', verbose=1, patience = 5)\n",
    "mc = ModelCheckpoint('best_model_mult.h5', monitor='val_loss', mode='min', verbose=1, save_best_only=True)\n",
    "                    \n",
    "history = model.fit(X_train_rolled, y_train_rolled, batch_size = BATCH_SIZE, epochs = EPOCHS, validation_data = (X_valid_rolled,y_valid_rolled), callbacks = [es,mc]) #, callbacks = es"
   ]
  },
  {
   "cell_type": "code",
   "execution_count": 106,
   "metadata": {},
   "outputs": [
    {
     "data": {
      "image/png": "[encoded data removed]",
      "text/plain": [
       "<Figure size 432x288 with 1 Axes>"
      ]
     },
     "metadata": {
      "needs_background": "light"
     },
     "output_type": "display_data"
    }
   ],
   "source": [
    "plt.plot(history.history['loss'], label='train')\n",
    "plt.plot(history.history['val_loss'], label='validation')\n",
    "plt.legend()\n",
    "plt.show()"
   ]
  },
  {
   "cell_type": "code",
   "execution_count": 107,
   "metadata": {},
   "outputs": [],
   "source": [
    "#from sklearn.metrics import mean_squared_error\n",
    "#from math import sqrt\n",
    "\n",
    "\n",
    "# WHAT IS HAPPENING HERE?\n",
    "#def evaluate_model(model, X_valid, y_valid_true):\n",
    "#    predictions = model.predict(X_valid)\n",
    "#    rms = sqrt(mean_squared_error(y_valid_true, predictions))\n",
    "#    print(rms)\n",
    "#    normalized_rms = scaler.inverse_transform(np.array(rms).reshape(1,-1))[0][0]\n",
    "#    return print(\"Root mean squared error on valid inverse transformed from normalization:\",normalized_rms)\n"
   ]
  },
  {
   "cell_type": "code",
   "execution_count": 108,
   "metadata": {},
   "outputs": [],
   "source": [
    "train_predict = model.predict(X_train_rolled) "
   ]
  },
  {
   "cell_type": "code",
   "execution_count": 109,
   "metadata": {},
   "outputs": [
    {
     "ename": "ValueError",
     "evalue": "non-broadcastable output operand with shape (361,1) doesn't match the broadcast shape (361,4)",
     "output_type": "error",
     "traceback": [
      "\u001b[1;31m---------------------------------------------------------------------------\u001b[0m",
      "\u001b[1;31mValueError\u001b[0m                                Traceback (most recent call last)",
      "\u001b[1;32m<ipython-input-109-718c1a299199>\u001b[0m in \u001b[0;36m<module>\u001b[1;34m\u001b[0m\n\u001b[1;32m----> 1\u001b[1;33m \u001b[0mtrain_predict_inverse\u001b[0m \u001b[1;33m=\u001b[0m \u001b[0mscaler\u001b[0m\u001b[1;33m.\u001b[0m\u001b[0minverse_transform\u001b[0m\u001b[1;33m(\u001b[0m\u001b[0mtrain_predict\u001b[0m\u001b[1;33m)\u001b[0m\u001b[1;33m\u001b[0m\u001b[1;33m\u001b[0m\u001b[0m\n\u001b[0m",
      "\u001b[1;32m~\\AppData\\Local\\Continuum\\anaconda3\\envs\\thesis_env\\lib\\site-packages\\sklearn\\preprocessing\\_data.py\u001b[0m in \u001b[0;36minverse_transform\u001b[1;34m(self, X)\u001b[0m\n\u001b[0;32m    434\u001b[0m                         force_all_finite=\"allow-nan\")\n\u001b[0;32m    435\u001b[0m \u001b[1;33m\u001b[0m\u001b[0m\n\u001b[1;32m--> 436\u001b[1;33m         \u001b[0mX\u001b[0m \u001b[1;33m-=\u001b[0m \u001b[0mself\u001b[0m\u001b[1;33m.\u001b[0m\u001b[0mmin_\u001b[0m\u001b[1;33m\u001b[0m\u001b[1;33m\u001b[0m\u001b[0m\n\u001b[0m\u001b[0;32m    437\u001b[0m         \u001b[0mX\u001b[0m \u001b[1;33m/=\u001b[0m \u001b[0mself\u001b[0m\u001b[1;33m.\u001b[0m\u001b[0mscale_\u001b[0m\u001b[1;33m\u001b[0m\u001b[1;33m\u001b[0m\u001b[0m\n\u001b[0;32m    438\u001b[0m         \u001b[1;32mreturn\u001b[0m \u001b[0mX\u001b[0m\u001b[1;33m\u001b[0m\u001b[1;33m\u001b[0m\u001b[0m\n",
      "\u001b[1;31mValueError\u001b[0m: non-broadcastable output operand with shape (361,1) doesn't match the broadcast shape (361,4)"
     ]
    }
   ],
   "source": [
    "train_predict_inverse = scaler.inverse_transform(train_predict)"
   ]
  },
  {
   "cell_type": "code",
   "execution_count": 524,
   "metadata": {},
   "outputs": [],
   "source": [
    "train_predict = model.predict(X_train_rolled) # predict the train data \n",
    "test_predict_valid = model.predict(X_valid_rolled)\n",
    "\n",
    "train_predict_orig = scaler.inverse_transform(train_predict) # to get the true value\n",
    "test_predict_valid_origina = scaler.inverse_transform(test_predict_valid) # to get the true value\n",
    "#test_predict = scaler.inverse_transform(test_predict) # this is the actual X_test\n",
    "\n",
    "y_train = scaler.inverse_transform([y_train_rolled]) # to get the true value\n",
    "y_valid = scaler.inverse_transform([y_valid_rolled]) # to get the true value\n",
    "#y_test = scaler.inverse_transform([y_test_rolled])"
   ]
  },
  {
   "cell_type": "code",
   "execution_count": 525,
   "metadata": {},
   "outputs": [
    {
     "data": {
      "text/plain": [
       "(362, 1)"
      ]
     },
     "execution_count": 525,
     "metadata": {},
     "output_type": "execute_result"
    }
   ],
   "source": [
    "train_predict.shape"
   ]
  },
  {
   "cell_type": "code",
   "execution_count": 526,
   "metadata": {},
   "outputs": [
    {
     "name": "stdout",
     "output_type": "stream",
     "text": [
      "Train Mean Absolute Error: 1.1366350943791632\n",
      "Train Root Mean Squared Error: 1.4492035054201058\n",
      "valid Mean Absolute Error: 1.7851629021691113\n",
      "valid Root Mean Squared Error: 2.1593581756733373\n",
      "\n",
      "\n"
     ]
    }
   ],
   "source": [
    "print('Train Mean Absolute Error:', mean_absolute_error(y_train[0], train_predict_orig[:,0]))\n",
    "print('Train Root Mean Squared Error:',np.sqrt(mean_squared_error(y_train[0], train_predict_orig[:,0])))\n",
    "print('valid Mean Absolute Error:', mean_absolute_error(y_valid[0], test_predict_valid_origina[:,0]))\n",
    "print('valid Root Mean Squared Error:',np.sqrt(mean_squared_error(y_valid[0], test_predict_valid_origina[:,0])))\n",
    "print('\\n')\n",
    "#print('The data the model has not yet seen: ')\n",
    "#print('test Mean Absolute Error:', mean_absolute_error(y_test[0], test_predict[:,0]))\n",
    "#print('test Root Mean Squared Error:',np.sqrt(mean_squared_error(y_test[0], test_predict[:,0])))"
   ]
  },
  {
   "cell_type": "code",
   "execution_count": 532,
   "metadata": {},
   "outputs": [
    {
     "data": {
      "image/png": "[encoded data removed]",
      "text/plain": [
       "<Figure size 576x288 with 1 Axes>"
      ]
     },
     "metadata": {
      "needs_background": "light"
     },
     "output_type": "display_data"
    }
   ],
   "source": [
    "# validation\n",
    "\n",
    "import seaborn as sns\n",
    "\n",
    "aa=[x for x in range(24)]\n",
    "plt.figure(figsize=(8,4))\n",
    "plt.plot(aa, y_valid[0][:24], marker='.', label=\"actual\") \n",
    "plt.plot(aa, test_predict_valid_origina[:,0][:24], 'r', label=\"prediction for the valid\")\n",
    "# plt.tick_params(left=False, labelleft=True) #remove ticks\n",
    "plt.tight_layout()\n",
    "sns.despine(top=True)\n",
    "plt.subplots_adjust(left=0.07)\n",
    "plt.ylabel('Temp', size=15)\n",
    "plt.xlabel('Time step', size=15)\n",
    "plt.legend(fontsize=15)\n",
    "plt.show();"
   ]
  },
  {
   "cell_type": "code",
   "execution_count": 529,
   "metadata": {},
   "outputs": [
    {
     "data": {
      "image/png": "[encoded data removed]",
      "text/plain": [
       "<Figure size 576x288 with 1 Axes>"
      ]
     },
     "metadata": {
      "needs_background": "light"
     },
     "output_type": "display_data"
    }
   ],
   "source": [
    "\n",
    "# training\n",
    "\n",
    "import seaborn as sns\n",
    "\n",
    "aa=[x for x in range(48)]\n",
    "plt.figure(figsize=(8,4))\n",
    "plt.plot(aa, y_train[0][:48], marker='.', label=\"actual\") \n",
    "plt.plot(aa, train_predict_orig[:,0][:48], 'r', label=\"prediction for the valid\")\n",
    "# plt.tick_params(left=False, labelleft=True) #remove ticks\n",
    "plt.tight_layout()\n",
    "sns.despine(top=True)\n",
    "plt.subplots_adjust(left=0.07)\n",
    "plt.ylabel('Temp', size=15)\n",
    "plt.xlabel('Time step', size=15)\n",
    "plt.legend(fontsize=15)\n",
    "plt.show();"
   ]
  },
  {
   "cell_type": "code",
   "execution_count": null,
   "metadata": {},
   "outputs": [],
   "source": []
  }
 ],
 "metadata": {
  "kernelspec": {
   "display_name": "Python 3",
   "language": "python",
   "name": "python3"
  },
  "language_info": {
   "codemirror_mode": {
    "name": "ipython",
    "version": 3
   },
   "file_extension": ".py",
   "mimetype": "text/x-python",
   "name": "python",
   "nbconvert_exporter": "python",
   "pygments_lexer": "ipython3",
   "version": "3.7.1"
  }
 },
 "nbformat": 4,
 "nbformat_minor": 4
}
