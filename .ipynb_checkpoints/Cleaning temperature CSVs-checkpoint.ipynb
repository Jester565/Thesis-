{
 "cells": [
  {
   "cell_type": "code",
   "execution_count": 1,
   "metadata": {},
   "outputs": [],
   "source": [
    "import pandas as pd\n",
    "import numpy as np\n",
    "import os\n",
    "import re"
   ]
  },
  {
   "cell_type": "markdown",
   "metadata": {},
   "source": [
    "# France"
   ]
  },
  {
   "cell_type": "code",
   "execution_count": 4,
   "metadata": {},
   "outputs": [
    {
     "name": "stdout",
     "output_type": "stream",
     "text": [
      "C:\\Users\\rezan\\Documents\\Master in Applied Data Science\\2nd Year\\MASTER THESIS\\GIT THESIS\\geopy\\france_cleaned\\Alsace.csv\n",
      "C:\\Users\\rezan\\Documents\\Master in Applied Data Science\\2nd Year\\MASTER THESIS\\GIT THESIS\\geopy\\france_cleaned\\Armagnac.csv\n",
      "C:\\Users\\rezan\\Documents\\Master in Applied Data Science\\2nd Year\\MASTER THESIS\\GIT THESIS\\geopy\\france_cleaned\\Bordeaux.csv\n",
      "C:\\Users\\rezan\\Documents\\Master in Applied Data Science\\2nd Year\\MASTER THESIS\\GIT THESIS\\geopy\\france_cleaned\\Bourgogne.csv\n",
      "C:\\Users\\rezan\\Documents\\Master in Applied Data Science\\2nd Year\\MASTER THESIS\\GIT THESIS\\geopy\\france_cleaned\\Burgundy.csv\n",
      "C:\\Users\\rezan\\Documents\\Master in Applied Data Science\\2nd Year\\MASTER THESIS\\GIT THESIS\\geopy\\france_cleaned\\Corse.csv\n",
      "C:\\Users\\rezan\\Documents\\Master in Applied Data Science\\2nd Year\\MASTER THESIS\\GIT THESIS\\geopy\\france_cleaned\\Jura.csv\n",
      "C:\\Users\\rezan\\Documents\\Master in Applied Data Science\\2nd Year\\MASTER THESIS\\GIT THESIS\\geopy\\france_cleaned\\Languedoc-Roussillon.csv\n",
      "C:\\Users\\rezan\\Documents\\Master in Applied Data Science\\2nd Year\\MASTER THESIS\\GIT THESIS\\geopy\\france_cleaned\\Nouvelle-Aquitaine.csv\n",
      "C:\\Users\\rezan\\Documents\\Master in Applied Data Science\\2nd Year\\MASTER THESIS\\GIT THESIS\\geopy\\france_cleaned\\Occitanie.csv\n",
      "C:\\Users\\rezan\\Documents\\Master in Applied Data Science\\2nd Year\\MASTER THESIS\\GIT THESIS\\geopy\\france_cleaned\\Provence.csv\n",
      "C:\\Users\\rezan\\Documents\\Master in Applied Data Science\\2nd Year\\MASTER THESIS\\GIT THESIS\\geopy\\france_cleaned\\Rhône.csv\n",
      "C:\\Users\\rezan\\Documents\\Master in Applied Data Science\\2nd Year\\MASTER THESIS\\GIT THESIS\\geopy\\france_cleaned\\Savoie.csv\n",
      "C:\\Users\\rezan\\Documents\\Master in Applied Data Science\\2nd Year\\MASTER THESIS\\GIT THESIS\\geopy\\france_cleaned\\Sud-Ouest.csv\n"
     ]
    }
   ],
   "source": [
    "rootdir = r\"C:\\Users\\rezan\\Documents\\Master in Applied Data Science\\2nd Year\\MASTER THESIS\\GIT THESIS\\geopy\\new france\"\n",
    "for subdir, dirs, files in os.walk(rootdir):\n",
    "    for file in files:\n",
    "        filepath = os.path.join(subdir, file)\n",
    "        with open(filepath) as f:\n",
    "            lines = f.readlines()\n",
    "        next_file_path = re.sub('new france','france_cleaned',filepath)\n",
    "        print(next_file_path)\n",
    "        with open(next_file_path, \"w\") as outfile:\n",
    "            outfile.write(\"\".join(lines[11:]))"
   ]
  },
  {
   "cell_type": "markdown",
   "metadata": {},
   "source": [
    "# Italy"
   ]
  },
  {
   "cell_type": "code",
   "execution_count": 5,
   "metadata": {},
   "outputs": [
    {
     "name": "stdout",
     "output_type": "stream",
     "text": [
      "C:\\Users\\rezan\\Documents\\Master in Applied Data Science\\2nd Year\\MASTER THESIS\\GIT THESIS\\geopy\\italy_cleaned\\Abruzzo.csv\n",
      "C:\\Users\\rezan\\Documents\\Master in Applied Data Science\\2nd Year\\MASTER THESIS\\GIT THESIS\\geopy\\italy_cleaned\\Basilicata.csv\n",
      "C:\\Users\\rezan\\Documents\\Master in Applied Data Science\\2nd Year\\MASTER THESIS\\GIT THESIS\\geopy\\italy_cleaned\\Calabria.csv\n",
      "C:\\Users\\rezan\\Documents\\Master in Applied Data Science\\2nd Year\\MASTER THESIS\\GIT THESIS\\geopy\\italy_cleaned\\Campania.csv\n",
      "C:\\Users\\rezan\\Documents\\Master in Applied Data Science\\2nd Year\\MASTER THESIS\\GIT THESIS\\geopy\\italy_cleaned\\Emilia-Romagna.csv\n",
      "C:\\Users\\rezan\\Documents\\Master in Applied Data Science\\2nd Year\\MASTER THESIS\\GIT THESIS\\geopy\\italy_cleaned\\Lazio.csv\n",
      "C:\\Users\\rezan\\Documents\\Master in Applied Data Science\\2nd Year\\MASTER THESIS\\GIT THESIS\\geopy\\italy_cleaned\\Lombardia.csv\n",
      "C:\\Users\\rezan\\Documents\\Master in Applied Data Science\\2nd Year\\MASTER THESIS\\GIT THESIS\\geopy\\italy_cleaned\\Molise.csv\n",
      "C:\\Users\\rezan\\Documents\\Master in Applied Data Science\\2nd Year\\MASTER THESIS\\GIT THESIS\\geopy\\italy_cleaned\\nan.csv\n",
      "C:\\Users\\rezan\\Documents\\Master in Applied Data Science\\2nd Year\\MASTER THESIS\\GIT THESIS\\geopy\\italy_cleaned\\Piemonte.csv\n",
      "C:\\Users\\rezan\\Documents\\Master in Applied Data Science\\2nd Year\\MASTER THESIS\\GIT THESIS\\geopy\\italy_cleaned\\Puglia.csv\n",
      "C:\\Users\\rezan\\Documents\\Master in Applied Data Science\\2nd Year\\MASTER THESIS\\GIT THESIS\\geopy\\italy_cleaned\\Sardegna.csv\n",
      "C:\\Users\\rezan\\Documents\\Master in Applied Data Science\\2nd Year\\MASTER THESIS\\GIT THESIS\\geopy\\italy_cleaned\\Sicilia.csv\n",
      "C:\\Users\\rezan\\Documents\\Master in Applied Data Science\\2nd Year\\MASTER THESIS\\GIT THESIS\\geopy\\italy_cleaned\\Toscana.csv\n",
      "C:\\Users\\rezan\\Documents\\Master in Applied Data Science\\2nd Year\\MASTER THESIS\\GIT THESIS\\geopy\\italy_cleaned\\Umbria.csv\n",
      "C:\\Users\\rezan\\Documents\\Master in Applied Data Science\\2nd Year\\MASTER THESIS\\GIT THESIS\\geopy\\italy_cleaned\\Veneto.csv\n"
     ]
    }
   ],
   "source": [
    "rootdir = r\"C:\\Users\\rezan\\Documents\\Master in Applied Data Science\\2nd Year\\MASTER THESIS\\GIT THESIS\\geopy\\new italy\"\n",
    "for subdir, dirs, files in os.walk(rootdir):\n",
    "    for file in files:\n",
    "        filepath = os.path.join(subdir, file)\n",
    "        with open(filepath) as f:\n",
    "            lines = f.readlines()\n",
    "        next_file_path = re.sub('new italy','italy_cleaned',filepath)\n",
    "        print(next_file_path)\n",
    "        with open(next_file_path, \"w\") as outfile:\n",
    "            outfile.write(\"\".join(lines[11:]))"
   ]
  },
  {
   "cell_type": "markdown",
   "metadata": {},
   "source": [
    "# Spain "
   ]
  },
  {
   "cell_type": "code",
   "execution_count": 6,
   "metadata": {},
   "outputs": [
    {
     "name": "stdout",
     "output_type": "stream",
     "text": [
      "C:\\Users\\rezan\\Documents\\Master in Applied Data Science\\2nd Year\\MASTER THESIS\\GIT THESIS\\geopy\\spain_cleaned\\Andalusia.csv\n",
      "C:\\Users\\rezan\\Documents\\Master in Applied Data Science\\2nd Year\\MASTER THESIS\\GIT THESIS\\geopy\\spain_cleaned\\Aragón.csv\n",
      "C:\\Users\\rezan\\Documents\\Master in Applied Data Science\\2nd Year\\MASTER THESIS\\GIT THESIS\\geopy\\spain_cleaned\\Balearic Islands.csv\n",
      "C:\\Users\\rezan\\Documents\\Master in Applied Data Science\\2nd Year\\MASTER THESIS\\GIT THESIS\\geopy\\spain_cleaned\\Basque Country.csv\n",
      "C:\\Users\\rezan\\Documents\\Master in Applied Data Science\\2nd Year\\MASTER THESIS\\GIT THESIS\\geopy\\spain_cleaned\\Castilla y León.csv\n",
      "C:\\Users\\rezan\\Documents\\Master in Applied Data Science\\2nd Year\\MASTER THESIS\\GIT THESIS\\geopy\\spain_cleaned\\Castilla-La Mancha.csv\n",
      "C:\\Users\\rezan\\Documents\\Master in Applied Data Science\\2nd Year\\MASTER THESIS\\GIT THESIS\\geopy\\spain_cleaned\\Catalonia.csv\n",
      "C:\\Users\\rezan\\Documents\\Master in Applied Data Science\\2nd Year\\MASTER THESIS\\GIT THESIS\\geopy\\spain_cleaned\\Navarre.csv\n",
      "C:\\Users\\rezan\\Documents\\Master in Applied Data Science\\2nd Year\\MASTER THESIS\\GIT THESIS\\geopy\\spain_cleaned\\Valencia.csv\n"
     ]
    }
   ],
   "source": [
    "rootdir = r\"C:\\Users\\rezan\\Documents\\Master in Applied Data Science\\2nd Year\\MASTER THESIS\\GIT THESIS\\geopy\\new spain\"\n",
    "for subdir, dirs, files in os.walk(rootdir):\n",
    "    for file in files:\n",
    "        filepath = os.path.join(subdir, file)\n",
    "        with open(filepath) as f:\n",
    "            lines = f.readlines()\n",
    "        next_file_path = re.sub('new spain','spain_cleaned',filepath)\n",
    "        print(next_file_path)\n",
    "        with open(next_file_path, \"w\") as outfile:\n",
    "            outfile.write(\"\".join(lines[11:]))"
   ]
  },
  {
   "cell_type": "code",
   "execution_count": null,
   "metadata": {},
   "outputs": [],
   "source": []
  }
 ],
 "metadata": {
  "kernelspec": {
   "display_name": "Python 3",
   "language": "python",
   "name": "python3"
  },
  "language_info": {
   "codemirror_mode": {
    "name": "ipython",
    "version": 3
   },
   "file_extension": ".py",
   "mimetype": "text/x-python",
   "name": "python",
   "nbconvert_exporter": "python",
   "pygments_lexer": "ipython3",
   "version": "3.7.7"
  }
 },
 "nbformat": 4,
 "nbformat_minor": 4
}
