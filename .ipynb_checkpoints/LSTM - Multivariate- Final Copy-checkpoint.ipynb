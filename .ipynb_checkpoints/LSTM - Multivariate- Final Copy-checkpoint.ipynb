{
 "cells": [
  {
   "cell_type": "markdown",
   "metadata": {},
   "source": [
    "Another approach: \n",
    "\n",
    "* include the other 3 variables including the year, temp (shift to t+1), month_sin, month_cos\n",
    "* Do the early stopping where the validation is minimum. \n",
    "* plot the residual "
   ]
  },
  {
   "cell_type": "code",
   "execution_count": 1,
   "metadata": {},
   "outputs": [
    {
     "name": "stderr",
     "output_type": "stream",
     "text": [
      "Using TensorFlow backend.\n"
     ]
    }
   ],
   "source": [
    "import numpy as np\n",
    "import pandas as pd\n",
    "import matplotlib.pyplot as plt\n",
    "%matplotlib inline\n",
    "from statsmodels.tools.eval_measures import rmse\n",
    "from keras.preprocessing.sequence import TimeseriesGenerator\n",
    "from sklearn.preprocessing import MinMaxScaler\n",
    "from sklearn.model_selection import train_test_split\n",
    "from sklearn import preprocessing\n",
    "from keras.models import Sequential\n",
    "from keras.layers import Dense\n",
    "from keras.layers import LSTM\n",
    "from keras.layers import Dropout\n",
    "from tensorflow.python import keras\n",
    "from keras.callbacks import EarlyStopping\n",
    "from keras.optimizers import SGD, Adam\n",
    "import tensorflow as tf\n",
    "from keras.layers import LeakyReLU\n",
    "from keras.callbacks import ModelCheckpoint\n",
    "from keras.models import load_model\n",
    "import warnings\n",
    "warnings.filterwarnings('ignore')\n",
    "\n",
    "from sklearn.preprocessing import MinMaxScaler\n",
    "from sklearn.metrics import mean_squared_error\n",
    "from sklearn.metrics import mean_absolute_error\n",
    "\n",
    "np.random.seed(7)"
   ]
  },
  {
   "cell_type": "code",
   "execution_count": 2,
   "metadata": {},
   "outputs": [],
   "source": [
    "path = r\"C:\\Users\\rezan\\Documents\\Master in Applied Data Science\\2nd Year\\MASTER THESIS\\GIT THESIS\\geopy\\france_cleaned\"\n",
    "\n",
    "region = \"Alsace.csv\"\n",
    "region_name = region.split('.')[0]\n",
    "df = pd.read_csv(path+'\\\\'+region)\n"
   ]
  },
  {
   "cell_type": "code",
   "execution_count": 3,
   "metadata": {},
   "outputs": [],
   "source": [
    "def make_cyclic_sin(month):\n",
    "    a = np.sin((month-1)*(2.*np.pi/12))\n",
    "    return a\n",
    "def make_cyclic_cos(month):\n",
    "    b = np.cos((month-1)*(2.*np.pi/12))\n",
    "    return b "
   ]
  },
  {
   "cell_type": "code",
   "execution_count": 4,
   "metadata": {},
   "outputs": [],
   "source": [
    "temp_df = df[df['PARAMETER'] == 'T2M']\n",
    "temp_df = temp_df.drop('ANN', axis = 1)\n",
    "#hum_df = data[data['PARAMETER'] == 'RH2M']"
   ]
  },
  {
   "cell_type": "code",
   "execution_count": 5,
   "metadata": {},
   "outputs": [],
   "source": [
    "temp_df = temp_df.rename(columns = {'YEAR':'year','JAN':1, 'FEB':2,'MAR':3, 'APR':4, 'MAY':5,'JUN':6,\n",
    "                         'JUL':7, 'AUG':8, 'SEP':9, 'OCT':10, 'NOV':11, 'DEC':12})\n",
    "temp_df = temp_df.drop(['PARAMETER','LAT','LON'], axis = 1)\n",
    "\n",
    "temp_df.set_index('year', inplace = True)\n",
    "df = pd.concat([temp_df.stack()], axis=1)\n",
    "df.reset_index(inplace = True)\n",
    "\n",
    "df.rename(columns = {'level_1':'month',0:'avg_temp'}, inplace = True)\n",
    "\n",
    "# encoding for months \n",
    "#cyclic encoding from deep learning notebook\n",
    "df['month_sin'] = df['month'].apply(lambda row: make_cyclic_sin(row))\n",
    "df['month_cos'] = df['month'].apply(lambda row: make_cyclic_cos(row))\n",
    "\n",
    "df['date'] = df[['year','month']].astype(str).apply('-'.join, axis=1)\n",
    "\n",
    "df.date = pd.to_datetime(df.date)\n",
    "df = df.set_index('date')"
   ]
  },
  {
   "cell_type": "code",
   "execution_count": 6,
   "metadata": {},
   "outputs": [
    {
     "data": {
      "text/html": [
       "<div>\n",
       "<style scoped>\n",
       "    .dataframe tbody tr th:only-of-type {\n",
       "        vertical-align: middle;\n",
       "    }\n",
       "\n",
       "    .dataframe tbody tr th {\n",
       "        vertical-align: top;\n",
       "    }\n",
       "\n",
       "    .dataframe thead th {\n",
       "        text-align: right;\n",
       "    }\n",
       "</style>\n",
       "<table border=\"1\" class=\"dataframe\">\n",
       "  <thead>\n",
       "    <tr style=\"text-align: right;\">\n",
       "      <th></th>\n",
       "      <th>year</th>\n",
       "      <th>month</th>\n",
       "      <th>avg_temp</th>\n",
       "      <th>month_sin</th>\n",
       "      <th>month_cos</th>\n",
       "    </tr>\n",
       "    <tr>\n",
       "      <th>date</th>\n",
       "      <th></th>\n",
       "      <th></th>\n",
       "      <th></th>\n",
       "      <th></th>\n",
       "      <th></th>\n",
       "    </tr>\n",
       "  </thead>\n",
       "  <tbody>\n",
       "    <tr>\n",
       "      <th>1981-01-01</th>\n",
       "      <td>1981</td>\n",
       "      <td>1</td>\n",
       "      <td>-2.68</td>\n",
       "      <td>0.000000</td>\n",
       "      <td>1.000000e+00</td>\n",
       "    </tr>\n",
       "    <tr>\n",
       "      <th>1981-02-01</th>\n",
       "      <td>1981</td>\n",
       "      <td>2</td>\n",
       "      <td>-1.23</td>\n",
       "      <td>0.500000</td>\n",
       "      <td>8.660254e-01</td>\n",
       "    </tr>\n",
       "    <tr>\n",
       "      <th>1981-03-01</th>\n",
       "      <td>1981</td>\n",
       "      <td>3</td>\n",
       "      <td>6.74</td>\n",
       "      <td>0.866025</td>\n",
       "      <td>5.000000e-01</td>\n",
       "    </tr>\n",
       "    <tr>\n",
       "      <th>1981-04-01</th>\n",
       "      <td>1981</td>\n",
       "      <td>4</td>\n",
       "      <td>8.99</td>\n",
       "      <td>1.000000</td>\n",
       "      <td>6.123234e-17</td>\n",
       "    </tr>\n",
       "    <tr>\n",
       "      <th>1981-05-01</th>\n",
       "      <td>1981</td>\n",
       "      <td>5</td>\n",
       "      <td>12.46</td>\n",
       "      <td>0.866025</td>\n",
       "      <td>-5.000000e-01</td>\n",
       "    </tr>\n",
       "  </tbody>\n",
       "</table>\n",
       "</div>"
      ],
      "text/plain": [
       "            year  month  avg_temp  month_sin     month_cos\n",
       "date                                                      \n",
       "1981-01-01  1981      1     -2.68   0.000000  1.000000e+00\n",
       "1981-02-01  1981      2     -1.23   0.500000  8.660254e-01\n",
       "1981-03-01  1981      3      6.74   0.866025  5.000000e-01\n",
       "1981-04-01  1981      4      8.99   1.000000  6.123234e-17\n",
       "1981-05-01  1981      5     12.46   0.866025 -5.000000e-01"
      ]
     },
     "execution_count": 6,
     "metadata": {},
     "output_type": "execute_result"
    }
   ],
   "source": [
    "df.head()"
   ]
  },
  {
   "cell_type": "code",
   "execution_count": 7,
   "metadata": {},
   "outputs": [
    {
     "data": {
      "text/html": [
       "<div>\n",
       "<style scoped>\n",
       "    .dataframe tbody tr th:only-of-type {\n",
       "        vertical-align: middle;\n",
       "    }\n",
       "\n",
       "    .dataframe tbody tr th {\n",
       "        vertical-align: top;\n",
       "    }\n",
       "\n",
       "    .dataframe thead th {\n",
       "        text-align: right;\n",
       "    }\n",
       "</style>\n",
       "<table border=\"1\" class=\"dataframe\">\n",
       "  <thead>\n",
       "    <tr style=\"text-align: right;\">\n",
       "      <th></th>\n",
       "      <th>year</th>\n",
       "      <th>avg_temp</th>\n",
       "      <th>month</th>\n",
       "      <th>month_sin</th>\n",
       "      <th>month_cos</th>\n",
       "    </tr>\n",
       "    <tr>\n",
       "      <th>date</th>\n",
       "      <th></th>\n",
       "      <th></th>\n",
       "      <th></th>\n",
       "      <th></th>\n",
       "      <th></th>\n",
       "    </tr>\n",
       "  </thead>\n",
       "  <tbody>\n",
       "    <tr>\n",
       "      <th>2020-01-01</th>\n",
       "      <td>2020</td>\n",
       "      <td>NaN</td>\n",
       "      <td>1</td>\n",
       "      <td>0.000000</td>\n",
       "      <td>1.000000e+00</td>\n",
       "    </tr>\n",
       "    <tr>\n",
       "      <th>2020-02-01</th>\n",
       "      <td>2020</td>\n",
       "      <td>NaN</td>\n",
       "      <td>2</td>\n",
       "      <td>0.500000</td>\n",
       "      <td>8.660254e-01</td>\n",
       "    </tr>\n",
       "    <tr>\n",
       "      <th>2020-03-01</th>\n",
       "      <td>2020</td>\n",
       "      <td>NaN</td>\n",
       "      <td>3</td>\n",
       "      <td>0.866025</td>\n",
       "      <td>5.000000e-01</td>\n",
       "    </tr>\n",
       "    <tr>\n",
       "      <th>2020-04-01</th>\n",
       "      <td>2020</td>\n",
       "      <td>NaN</td>\n",
       "      <td>4</td>\n",
       "      <td>1.000000</td>\n",
       "      <td>6.123234e-17</td>\n",
       "    </tr>\n",
       "    <tr>\n",
       "      <th>2020-05-01</th>\n",
       "      <td>2020</td>\n",
       "      <td>NaN</td>\n",
       "      <td>5</td>\n",
       "      <td>0.866025</td>\n",
       "      <td>-5.000000e-01</td>\n",
       "    </tr>\n",
       "  </tbody>\n",
       "</table>\n",
       "</div>"
      ],
      "text/plain": [
       "            year  avg_temp  month  month_sin     month_cos\n",
       "date                                                      \n",
       "2020-01-01  2020       NaN      1   0.000000  1.000000e+00\n",
       "2020-02-01  2020       NaN      2   0.500000  8.660254e-01\n",
       "2020-03-01  2020       NaN      3   0.866025  5.000000e-01\n",
       "2020-04-01  2020       NaN      4   1.000000  6.123234e-17\n",
       "2020-05-01  2020       NaN      5   0.866025 -5.000000e-01"
      ]
     },
     "execution_count": 7,
     "metadata": {},
     "output_type": "execute_result"
    }
   ],
   "source": [
    "# add the unlablled data\n",
    "unlabelled_dataset = pd.read_excel('to_predict_mult.xlsx')\n",
    "unlabelled_dataset['date'] = unlabelled_dataset[['year','month']].astype(str).apply('-'.join, axis=1)\n",
    "unlabelled_dataset.date = pd.to_datetime(unlabelled_dataset.date)\n",
    "unlabelled_dataset = unlabelled_dataset.set_index('date')\n",
    "unlabelled_dataset.head()"
   ]
  },
  {
   "cell_type": "code",
   "execution_count": 8,
   "metadata": {},
   "outputs": [],
   "source": [
    "# combine all the data and divide\n",
    "df = df[['year','avg_temp','month_sin','month_cos']]\n",
    "unlabelled_dataset = unlabelled_dataset[['year','avg_temp','month_sin','month_cos']]\n",
    "# fit_transform all the data including the train, valid, and test \n",
    "combined_data = pd.concat([df,unlabelled_dataset])"
   ]
  },
  {
   "cell_type": "code",
   "execution_count": 9,
   "metadata": {},
   "outputs": [],
   "source": [
    "# shifting the avg_temp to t+1 \n",
    "combined_data['avg_temp'] = combined_data['avg_temp'].shift(1)"
   ]
  },
  {
   "cell_type": "code",
   "execution_count": 10,
   "metadata": {},
   "outputs": [],
   "source": [
    "# removing the nan value\n",
    "scaler = MinMaxScaler()\n",
    "combined_data = combined_data[1:]\n",
    "combined_data[['year','avg_temp','month_sin','month_cos']] = scaler.fit_transform(combined_data)"
   ]
  },
  {
   "cell_type": "code",
   "execution_count": 11,
   "metadata": {},
   "outputs": [],
   "source": [
    "data = combined_data[0:467] # all the labelled data"
   ]
  },
  {
   "cell_type": "code",
   "execution_count": 12,
   "metadata": {},
   "outputs": [],
   "source": [
    "# 80 percent for the training set and 20 percent for the validation on the labelled data\n",
    "y = data.avg_temp\n",
    "X = data\n",
    "valid_and_test_size = 0.1\n",
    "X_train, X_valid, y_train, y_valid = train_test_split(X, y, test_size=valid_and_test_size*2, random_state=42, shuffle=False)"
   ]
  },
  {
   "cell_type": "code",
   "execution_count": 13,
   "metadata": {},
   "outputs": [
    {
     "name": "stdout",
     "output_type": "stream",
     "text": [
      "(373, 4)\n",
      "(373,)\n",
      "(94, 4)\n",
      "(94,)\n"
     ]
    }
   ],
   "source": [
    "print(X_train.shape)\n",
    "print(y_train.shape)\n",
    "print(X_valid.shape)\n",
    "print(y_valid.shape)"
   ]
  },
  {
   "cell_type": "code",
   "execution_count": 14,
   "metadata": {},
   "outputs": [
    {
     "data": {
      "text/html": [
       "<div>\n",
       "<style scoped>\n",
       "    .dataframe tbody tr th:only-of-type {\n",
       "        vertical-align: middle;\n",
       "    }\n",
       "\n",
       "    .dataframe tbody tr th {\n",
       "        vertical-align: top;\n",
       "    }\n",
       "\n",
       "    .dataframe thead th {\n",
       "        text-align: right;\n",
       "    }\n",
       "</style>\n",
       "<table border=\"1\" class=\"dataframe\">\n",
       "  <thead>\n",
       "    <tr style=\"text-align: right;\">\n",
       "      <th></th>\n",
       "      <th>year</th>\n",
       "      <th>avg_temp</th>\n",
       "      <th>month_sin</th>\n",
       "      <th>month_cos</th>\n",
       "    </tr>\n",
       "    <tr>\n",
       "      <th>date</th>\n",
       "      <th></th>\n",
       "      <th></th>\n",
       "      <th></th>\n",
       "      <th></th>\n",
       "    </tr>\n",
       "  </thead>\n",
       "  <tbody>\n",
       "    <tr>\n",
       "      <th>1981-02-01</th>\n",
       "      <td>0.0</td>\n",
       "      <td>0.126350</td>\n",
       "      <td>0.750000</td>\n",
       "      <td>0.933013</td>\n",
       "    </tr>\n",
       "    <tr>\n",
       "      <th>1981-03-01</th>\n",
       "      <td>0.0</td>\n",
       "      <td>0.173813</td>\n",
       "      <td>0.933013</td>\n",
       "      <td>0.750000</td>\n",
       "    </tr>\n",
       "    <tr>\n",
       "      <th>1981-04-01</th>\n",
       "      <td>0.0</td>\n",
       "      <td>0.434697</td>\n",
       "      <td>1.000000</td>\n",
       "      <td>0.500000</td>\n",
       "    </tr>\n",
       "    <tr>\n",
       "      <th>1981-05-01</th>\n",
       "      <td>0.0</td>\n",
       "      <td>0.508347</td>\n",
       "      <td>0.933013</td>\n",
       "      <td>0.250000</td>\n",
       "    </tr>\n",
       "    <tr>\n",
       "      <th>1981-06-01</th>\n",
       "      <td>0.0</td>\n",
       "      <td>0.621931</td>\n",
       "      <td>0.750000</td>\n",
       "      <td>0.066987</td>\n",
       "    </tr>\n",
       "  </tbody>\n",
       "</table>\n",
       "</div>"
      ],
      "text/plain": [
       "            year  avg_temp  month_sin  month_cos\n",
       "date                                            \n",
       "1981-02-01   0.0  0.126350   0.750000   0.933013\n",
       "1981-03-01   0.0  0.173813   0.933013   0.750000\n",
       "1981-04-01   0.0  0.434697   1.000000   0.500000\n",
       "1981-05-01   0.0  0.508347   0.933013   0.250000\n",
       "1981-06-01   0.0  0.621931   0.750000   0.066987"
      ]
     },
     "execution_count": 14,
     "metadata": {},
     "output_type": "execute_result"
    }
   ],
   "source": [
    "X_train.head()"
   ]
  },
  {
   "cell_type": "code",
   "execution_count": 15,
   "metadata": {},
   "outputs": [],
   "source": [
    "# from series convert to array\n",
    "y_train = y_train.values.reshape(len(y_train),1)\n",
    "#y_test = y_test.values.reshape(len(y_test),1)\n",
    "y_valid = y_valid.values.reshape(len(y_valid),1)"
   ]
  },
  {
   "cell_type": "code",
   "execution_count": 16,
   "metadata": {},
   "outputs": [
    {
     "data": {
      "text/html": [
       "<div>\n",
       "<style scoped>\n",
       "    .dataframe tbody tr th:only-of-type {\n",
       "        vertical-align: middle;\n",
       "    }\n",
       "\n",
       "    .dataframe tbody tr th {\n",
       "        vertical-align: top;\n",
       "    }\n",
       "\n",
       "    .dataframe thead th {\n",
       "        text-align: right;\n",
       "    }\n",
       "</style>\n",
       "<table border=\"1\" class=\"dataframe\">\n",
       "  <thead>\n",
       "    <tr style=\"text-align: right;\">\n",
       "      <th></th>\n",
       "      <th>year</th>\n",
       "      <th>avg_temp</th>\n",
       "      <th>month_sin</th>\n",
       "      <th>month_cos</th>\n",
       "    </tr>\n",
       "    <tr>\n",
       "      <th>date</th>\n",
       "      <th></th>\n",
       "      <th></th>\n",
       "      <th></th>\n",
       "      <th></th>\n",
       "    </tr>\n",
       "  </thead>\n",
       "  <tbody>\n",
       "    <tr>\n",
       "      <th>2011-10-01</th>\n",
       "      <td>0.750</td>\n",
       "      <td>0.747300</td>\n",
       "      <td>0.000000</td>\n",
       "      <td>0.500000</td>\n",
       "    </tr>\n",
       "    <tr>\n",
       "      <th>2011-11-01</th>\n",
       "      <td>0.750</td>\n",
       "      <td>0.532242</td>\n",
       "      <td>0.066987</td>\n",
       "      <td>0.750000</td>\n",
       "    </tr>\n",
       "    <tr>\n",
       "      <th>2011-12-01</th>\n",
       "      <td>0.750</td>\n",
       "      <td>0.391489</td>\n",
       "      <td>0.250000</td>\n",
       "      <td>0.933013</td>\n",
       "    </tr>\n",
       "    <tr>\n",
       "      <th>2012-01-01</th>\n",
       "      <td>0.775</td>\n",
       "      <td>0.316530</td>\n",
       "      <td>0.500000</td>\n",
       "      <td>1.000000</td>\n",
       "    </tr>\n",
       "    <tr>\n",
       "      <th>2012-02-01</th>\n",
       "      <td>0.775</td>\n",
       "      <td>0.270704</td>\n",
       "      <td>0.750000</td>\n",
       "      <td>0.933013</td>\n",
       "    </tr>\n",
       "  </tbody>\n",
       "</table>\n",
       "</div>"
      ],
      "text/plain": [
       "             year  avg_temp  month_sin  month_cos\n",
       "date                                             \n",
       "2011-10-01  0.750  0.747300   0.000000   0.500000\n",
       "2011-11-01  0.750  0.532242   0.066987   0.750000\n",
       "2011-12-01  0.750  0.391489   0.250000   0.933013\n",
       "2012-01-01  0.775  0.316530   0.500000   1.000000\n",
       "2012-02-01  0.775  0.270704   0.750000   0.933013"
      ]
     },
     "execution_count": 16,
     "metadata": {},
     "output_type": "execute_result"
    }
   ],
   "source": [
    "X_train.tail()"
   ]
  },
  {
   "cell_type": "code",
   "execution_count": 17,
   "metadata": {},
   "outputs": [
    {
     "data": {
      "text/html": [
       "<div>\n",
       "<style scoped>\n",
       "    .dataframe tbody tr th:only-of-type {\n",
       "        vertical-align: middle;\n",
       "    }\n",
       "\n",
       "    .dataframe tbody tr th {\n",
       "        vertical-align: top;\n",
       "    }\n",
       "\n",
       "    .dataframe thead th {\n",
       "        text-align: right;\n",
       "    }\n",
       "</style>\n",
       "<table border=\"1\" class=\"dataframe\">\n",
       "  <thead>\n",
       "    <tr style=\"text-align: right;\">\n",
       "      <th></th>\n",
       "      <th>year</th>\n",
       "      <th>avg_temp</th>\n",
       "      <th>month_sin</th>\n",
       "      <th>month_cos</th>\n",
       "    </tr>\n",
       "    <tr>\n",
       "      <th>date</th>\n",
       "      <th></th>\n",
       "      <th></th>\n",
       "      <th></th>\n",
       "      <th></th>\n",
       "    </tr>\n",
       "  </thead>\n",
       "  <tbody>\n",
       "    <tr>\n",
       "      <th>2019-08-01</th>\n",
       "      <td>0.95</td>\n",
       "      <td>0.899836</td>\n",
       "      <td>0.250000</td>\n",
       "      <td>0.066987</td>\n",
       "    </tr>\n",
       "    <tr>\n",
       "      <th>2019-09-01</th>\n",
       "      <td>0.95</td>\n",
       "      <td>0.869394</td>\n",
       "      <td>0.066987</td>\n",
       "      <td>0.250000</td>\n",
       "    </tr>\n",
       "    <tr>\n",
       "      <th>2019-10-01</th>\n",
       "      <td>0.95</td>\n",
       "      <td>0.715548</td>\n",
       "      <td>0.000000</td>\n",
       "      <td>0.500000</td>\n",
       "    </tr>\n",
       "    <tr>\n",
       "      <th>2019-11-01</th>\n",
       "      <td>0.95</td>\n",
       "      <td>0.589525</td>\n",
       "      <td>0.066987</td>\n",
       "      <td>0.750000</td>\n",
       "    </tr>\n",
       "    <tr>\n",
       "      <th>2019-12-01</th>\n",
       "      <td>0.95</td>\n",
       "      <td>0.364648</td>\n",
       "      <td>0.250000</td>\n",
       "      <td>0.933013</td>\n",
       "    </tr>\n",
       "  </tbody>\n",
       "</table>\n",
       "</div>"
      ],
      "text/plain": [
       "            year  avg_temp  month_sin  month_cos\n",
       "date                                            \n",
       "2019-08-01  0.95  0.899836   0.250000   0.066987\n",
       "2019-09-01  0.95  0.869394   0.066987   0.250000\n",
       "2019-10-01  0.95  0.715548   0.000000   0.500000\n",
       "2019-11-01  0.95  0.589525   0.066987   0.750000\n",
       "2019-12-01  0.95  0.364648   0.250000   0.933013"
      ]
     },
     "execution_count": 17,
     "metadata": {},
     "output_type": "execute_result"
    }
   ],
   "source": [
    "X_valid.tail()"
   ]
  },
  {
   "cell_type": "code",
   "execution_count": 18,
   "metadata": {},
   "outputs": [
    {
     "data": {
      "text/plain": [
       "(94, 1)"
      ]
     },
     "execution_count": 18,
     "metadata": {},
     "output_type": "execute_result"
    }
   ],
   "source": [
    "y_valid.shape"
   ]
  },
  {
   "cell_type": "code",
   "execution_count": 19,
   "metadata": {},
   "outputs": [],
   "source": [
    "look_back=12\n",
    "FORECAST_DISTANCE=1 # forecast on the next month\n",
    "n_features = len(X_train.columns)\n"
   ]
  },
  {
   "cell_type": "code",
   "execution_count": 20,
   "metadata": {},
   "outputs": [],
   "source": [
    "from seglearn.transform import FeatureRep, SegmentXYForecast, last"
   ]
  },
  {
   "cell_type": "code",
   "execution_count": 21,
   "metadata": {},
   "outputs": [],
   "source": [
    "segmenter = SegmentXYForecast(width=look_back, step=1, y_func=last, forecast=FORECAST_DISTANCE) "
   ]
  },
  {
   "cell_type": "code",
   "execution_count": 22,
   "metadata": {},
   "outputs": [],
   "source": [
    "# the segmenter will segment the data according to the parameters set.\n",
    "X_train_rolled, y_train_rolled,_=segmenter.fit_transform([X_train.values],[y_train.flatten()])\n",
    "X_valid_rolled, y_valid_rolled,_=segmenter.fit_transform([X_valid.values],[y_valid.flatten()])"
   ]
  },
  {
   "cell_type": "code",
   "execution_count": 23,
   "metadata": {},
   "outputs": [
    {
     "name": "stdout",
     "output_type": "stream",
     "text": [
      "Train on 361 samples, validate on 82 samples\n",
      "Epoch 1/30\n",
      "361/361 [==============================] - 1s 2ms/step - loss: 0.1932 - val_loss: 0.1106\n",
      "\n",
      "Epoch 00001: val_loss improved from inf to 0.11058, saving model to C:\\Users\\rezan\\Documents\\Master in Applied Data Science\\2nd Year\\MASTER THESIS\\GIT THESIS\\Multivariate LSTM\\France models\\\\Alsace.h5\n",
      "Epoch 2/30\n",
      "361/361 [==============================] - 0s 972us/step - loss: 0.0758 - val_loss: 0.0627\n",
      "\n",
      "Epoch 00002: val_loss improved from 0.11058 to 0.06265, saving model to C:\\Users\\rezan\\Documents\\Master in Applied Data Science\\2nd Year\\MASTER THESIS\\GIT THESIS\\Multivariate LSTM\\France models\\\\Alsace.h5\n",
      "Epoch 3/30\n",
      "361/361 [==============================] - 0s 829us/step - loss: 0.0589 - val_loss: 0.0470\n",
      "\n",
      "Epoch 00003: val_loss improved from 0.06265 to 0.04703, saving model to C:\\Users\\rezan\\Documents\\Master in Applied Data Science\\2nd Year\\MASTER THESIS\\GIT THESIS\\Multivariate LSTM\\France models\\\\Alsace.h5\n",
      "Epoch 4/30\n",
      "361/361 [==============================] - 0s 1ms/step - loss: 0.0452 - val_loss: 0.0364\n",
      "\n",
      "Epoch 00004: val_loss improved from 0.04703 to 0.03638, saving model to C:\\Users\\rezan\\Documents\\Master in Applied Data Science\\2nd Year\\MASTER THESIS\\GIT THESIS\\Multivariate LSTM\\France models\\\\Alsace.h5\n",
      "Epoch 5/30\n",
      "361/361 [==============================] - 1s 1ms/step - loss: 0.0324 - val_loss: 0.0277\n",
      "\n",
      "Epoch 00005: val_loss improved from 0.03638 to 0.02769, saving model to C:\\Users\\rezan\\Documents\\Master in Applied Data Science\\2nd Year\\MASTER THESIS\\GIT THESIS\\Multivariate LSTM\\France models\\\\Alsace.h5\n",
      "Epoch 6/30\n",
      "361/361 [==============================] - 1s 2ms/step - loss: 0.0152 - val_loss: 0.0110\n",
      "\n",
      "Epoch 00006: val_loss improved from 0.02769 to 0.01104, saving model to C:\\Users\\rezan\\Documents\\Master in Applied Data Science\\2nd Year\\MASTER THESIS\\GIT THESIS\\Multivariate LSTM\\France models\\\\Alsace.h5\n",
      "Epoch 7/30\n",
      "361/361 [==============================] - 1s 2ms/step - loss: 0.0076 - val_loss: 0.0050\n",
      "\n",
      "Epoch 00007: val_loss improved from 0.01104 to 0.00501, saving model to C:\\Users\\rezan\\Documents\\Master in Applied Data Science\\2nd Year\\MASTER THESIS\\GIT THESIS\\Multivariate LSTM\\France models\\\\Alsace.h5\n",
      "Epoch 8/30\n",
      "361/361 [==============================] - 1s 2ms/step - loss: 0.0063 - val_loss: 0.0052\n",
      "\n",
      "Epoch 00008: val_loss did not improve from 0.00501\n",
      "Epoch 9/30\n",
      "361/361 [==============================] - 1s 2ms/step - loss: 0.0050 - val_loss: 0.0046\n",
      "\n",
      "Epoch 00009: val_loss improved from 0.00501 to 0.00458, saving model to C:\\Users\\rezan\\Documents\\Master in Applied Data Science\\2nd Year\\MASTER THESIS\\GIT THESIS\\Multivariate LSTM\\France models\\\\Alsace.h5\n",
      "Epoch 10/30\n",
      "361/361 [==============================] - 1s 2ms/step - loss: 0.0048 - val_loss: 0.0046\n",
      "\n",
      "Epoch 00010: val_loss did not improve from 0.00458\n",
      "Epoch 11/30\n",
      "361/361 [==============================] - 1s 2ms/step - loss: 0.0049 - val_loss: 0.0044\n",
      "\n",
      "Epoch 00011: val_loss improved from 0.00458 to 0.00437, saving model to C:\\Users\\rezan\\Documents\\Master in Applied Data Science\\2nd Year\\MASTER THESIS\\GIT THESIS\\Multivariate LSTM\\France models\\\\Alsace.h5\n",
      "Epoch 12/30\n",
      "361/361 [==============================] - 1s 2ms/step - loss: 0.0066 - val_loss: 0.0041\n",
      "\n",
      "Epoch 00012: val_loss improved from 0.00437 to 0.00407, saving model to C:\\Users\\rezan\\Documents\\Master in Applied Data Science\\2nd Year\\MASTER THESIS\\GIT THESIS\\Multivariate LSTM\\France models\\\\Alsace.h5\n",
      "Epoch 13/30\n",
      "361/361 [==============================] - 1s 2ms/step - loss: 0.0057 - val_loss: 0.0037\n",
      "\n",
      "Epoch 00013: val_loss improved from 0.00407 to 0.00369, saving model to C:\\Users\\rezan\\Documents\\Master in Applied Data Science\\2nd Year\\MASTER THESIS\\GIT THESIS\\Multivariate LSTM\\France models\\\\Alsace.h5\n",
      "Epoch 14/30\n",
      "361/361 [==============================] - 1s 2ms/step - loss: 0.0040 - val_loss: 0.0036\n",
      "\n",
      "Epoch 00014: val_loss improved from 0.00369 to 0.00360, saving model to C:\\Users\\rezan\\Documents\\Master in Applied Data Science\\2nd Year\\MASTER THESIS\\GIT THESIS\\Multivariate LSTM\\France models\\\\Alsace.h5\n",
      "Epoch 15/30\n",
      "361/361 [==============================] - 1s 2ms/step - loss: 0.0042 - val_loss: 0.0042\n",
      "\n",
      "Epoch 00015: val_loss did not improve from 0.00360\n",
      "Epoch 16/30\n",
      "361/361 [==============================] - 1s 2ms/step - loss: 0.0055 - val_loss: 0.0035\n",
      "\n",
      "Epoch 00016: val_loss improved from 0.00360 to 0.00355, saving model to C:\\Users\\rezan\\Documents\\Master in Applied Data Science\\2nd Year\\MASTER THESIS\\GIT THESIS\\Multivariate LSTM\\France models\\\\Alsace.h5\n",
      "Epoch 17/30\n",
      "361/361 [==============================] - 1s 2ms/step - loss: 0.0055 - val_loss: 0.0036\n",
      "\n",
      "Epoch 00017: val_loss did not improve from 0.00355\n",
      "Epoch 18/30\n",
      "361/361 [==============================] - 1s 2ms/step - loss: 0.0050 - val_loss: 0.0038\n",
      "\n",
      "Epoch 00018: val_loss did not improve from 0.00355\n",
      "Epoch 19/30\n",
      "361/361 [==============================] - 1s 2ms/step - loss: 0.0043 - val_loss: 0.0034\n",
      "\n",
      "Epoch 00019: val_loss improved from 0.00355 to 0.00342, saving model to C:\\Users\\rezan\\Documents\\Master in Applied Data Science\\2nd Year\\MASTER THESIS\\GIT THESIS\\Multivariate LSTM\\France models\\\\Alsace.h5\n",
      "Epoch 20/30\n",
      "361/361 [==============================] - 1s 2ms/step - loss: 0.0050 - val_loss: 0.0034\n",
      "\n",
      "Epoch 00020: val_loss did not improve from 0.00342\n",
      "Epoch 21/30\n",
      "361/361 [==============================] - 1s 2ms/step - loss: 0.0048 - val_loss: 0.0042\n",
      "\n",
      "Epoch 00021: val_loss did not improve from 0.00342\n",
      "Epoch 22/30\n",
      "361/361 [==============================] - 1s 1ms/step - loss: 0.0060 - val_loss: 0.0037\n",
      "\n",
      "Epoch 00022: val_loss did not improve from 0.00342\n",
      "Epoch 23/30\n",
      "361/361 [==============================] - 1s 2ms/step - loss: 0.0047 - val_loss: 0.0033\n",
      "\n",
      "Epoch 00023: val_loss improved from 0.00342 to 0.00330, saving model to C:\\Users\\rezan\\Documents\\Master in Applied Data Science\\2nd Year\\MASTER THESIS\\GIT THESIS\\Multivariate LSTM\\France models\\\\Alsace.h5\n",
      "Epoch 24/30\n",
      "361/361 [==============================] - 1s 1ms/step - loss: 0.0059 - val_loss: 0.0034\n",
      "\n",
      "Epoch 00024: val_loss did not improve from 0.00330\n",
      "Epoch 25/30\n",
      "361/361 [==============================] - 1s 2ms/step - loss: 0.0042 - val_loss: 0.0034\n",
      "\n",
      "Epoch 00025: val_loss did not improve from 0.00330\n",
      "Epoch 26/30\n",
      "361/361 [==============================] - 1s 2ms/step - loss: 0.0043 - val_loss: 0.0034\n",
      "\n",
      "Epoch 00026: val_loss did not improve from 0.00330\n",
      "Epoch 27/30\n",
      "361/361 [==============================] - 1s 2ms/step - loss: 0.0040 - val_loss: 0.0042\n",
      "\n",
      "Epoch 00027: val_loss did not improve from 0.00330\n",
      "Epoch 28/30\n",
      "361/361 [==============================] - 1s 1ms/step - loss: 0.0046 - val_loss: 0.0034\n",
      "\n",
      "Epoch 00028: val_loss did not improve from 0.00330\n",
      "Epoch 00028: early stopping\n"
     ]
    }
   ],
   "source": [
    "BATCH_SIZE = 5\n",
    "EPOCHS = 30\n",
    "DROPOUT_RATE= 0.01\n",
    "LSTM_UNIT_SIZE = 5\n",
    "\n",
    "# Build the model \n",
    "model = Sequential()\n",
    "model.add(LSTM(LSTM_UNIT_SIZE, activation = 'relu',input_shape = (look_back, n_features)))\n",
    "model.add(Dropout(DROPOUT_RATE))\n",
    "model.add(Dense(1))\n",
    "\n",
    "\n",
    "#compile the model\n",
    "model.compile(optimizer = 'adam', loss = 'mse')\n",
    "\n",
    "# fit the model\n",
    "\n",
    "model_path = r\"C:\\Users\\rezan\\Documents\\Master in Applied Data Science\\2nd Year\\MASTER THESIS\\GIT THESIS\\Multivariate LSTM\\France models\\\\\"\n",
    "\n",
    "es = EarlyStopping(monitor='val_loss', mode='min', verbose=1, patience = 5)\n",
    "mc = ModelCheckpoint(model_path+f'{region_name}.h5', monitor='val_loss', mode='min', verbose=1, save_best_only=True)\n",
    "                    \n",
    "history = model.fit(X_train_rolled, y_train_rolled, batch_size = BATCH_SIZE, epochs = EPOCHS, validation_data = (X_valid_rolled,y_valid_rolled), callbacks = [es,mc]) #, callbacks = es"
   ]
  },
  {
   "cell_type": "code",
   "execution_count": 25,
   "metadata": {},
   "outputs": [
    {
     "data": {
      "image/png": "[encoded data removed]",
      "text/plain": [
       "<Figure size 432x288 with 1 Axes>"
      ]
     },
     "metadata": {
      "needs_background": "light"
     },
     "output_type": "display_data"
    }
   ],
   "source": [
    "eval_path = r\"C:\\Users\\rezan\\Documents\\Master in Applied Data Science\\2nd Year\\MASTER THESIS\\GIT THESIS\\Multivariate LSTM\\France evaluation\\\\\"\n",
    "\n",
    "plt.plot(history.history['loss'], label='train')\n",
    "plt.plot(history.history['val_loss'], label='validation')\n",
    "plt.legend()\n",
    "plt.savefig(eval_path+f'{region_name} evaluation.png')\n",
    "plt.show()\n",
    "\n"
   ]
  },
  {
   "cell_type": "code",
   "execution_count": 26,
   "metadata": {},
   "outputs": [
    {
     "name": "stdout",
     "output_type": "stream",
     "text": [
      "Model name:  Alsace.h5\n"
     ]
    }
   ],
   "source": [
    "# get the saved model \n",
    "saved_model = load_model(model_path+f'{region_name}.h5')\n",
    "print('Model name: ',region_name+'.h5')"
   ]
  },
  {
   "cell_type": "markdown",
   "metadata": {},
   "source": [
    "## Predicting the training and getting the inverse"
   ]
  },
  {
   "cell_type": "code",
   "execution_count": 27,
   "metadata": {},
   "outputs": [],
   "source": [
    "train_y_hat = saved_model.predict(X_train_rolled) "
   ]
  },
  {
   "cell_type": "code",
   "execution_count": 28,
   "metadata": {},
   "outputs": [],
   "source": [
    "train_y_hat = pd.DataFrame(train_y_hat)"
   ]
  },
  {
   "cell_type": "code",
   "execution_count": 29,
   "metadata": {},
   "outputs": [],
   "source": [
    "train_y_hat = train_y_hat.rename(columns = {0:'y_hat'})"
   ]
  },
  {
   "cell_type": "code",
   "execution_count": 30,
   "metadata": {},
   "outputs": [],
   "source": [
    "for_inverse_scaling = combined_data[12:373]\n",
    "#combined_data['ss'] = scaler.inverse_transform(train_predict)"
   ]
  },
  {
   "cell_type": "code",
   "execution_count": 31,
   "metadata": {},
   "outputs": [
    {
     "data": {
      "text/html": [
       "<div>\n",
       "<style scoped>\n",
       "    .dataframe tbody tr th:only-of-type {\n",
       "        vertical-align: middle;\n",
       "    }\n",
       "\n",
       "    .dataframe tbody tr th {\n",
       "        vertical-align: top;\n",
       "    }\n",
       "\n",
       "    .dataframe thead th {\n",
       "        text-align: right;\n",
       "    }\n",
       "</style>\n",
       "<table border=\"1\" class=\"dataframe\">\n",
       "  <thead>\n",
       "    <tr style=\"text-align: right;\">\n",
       "      <th></th>\n",
       "      <th>year</th>\n",
       "      <th>avg_temp</th>\n",
       "      <th>month_sin</th>\n",
       "      <th>month_cos</th>\n",
       "    </tr>\n",
       "    <tr>\n",
       "      <th>date</th>\n",
       "      <th></th>\n",
       "      <th></th>\n",
       "      <th></th>\n",
       "      <th></th>\n",
       "    </tr>\n",
       "  </thead>\n",
       "  <tbody>\n",
       "    <tr>\n",
       "      <th>1982-02-01</th>\n",
       "      <td>0.025</td>\n",
       "      <td>0.194108</td>\n",
       "      <td>0.750000</td>\n",
       "      <td>0.933013</td>\n",
       "    </tr>\n",
       "    <tr>\n",
       "      <th>1982-03-01</th>\n",
       "      <td>0.025</td>\n",
       "      <td>0.245172</td>\n",
       "      <td>0.933013</td>\n",
       "      <td>0.750000</td>\n",
       "    </tr>\n",
       "    <tr>\n",
       "      <th>1982-04-01</th>\n",
       "      <td>0.025</td>\n",
       "      <td>0.336170</td>\n",
       "      <td>1.000000</td>\n",
       "      <td>0.500000</td>\n",
       "    </tr>\n",
       "    <tr>\n",
       "      <th>1982-05-01</th>\n",
       "      <td>0.025</td>\n",
       "      <td>0.429460</td>\n",
       "      <td>0.933013</td>\n",
       "      <td>0.250000</td>\n",
       "    </tr>\n",
       "    <tr>\n",
       "      <th>1982-06-01</th>\n",
       "      <td>0.025</td>\n",
       "      <td>0.632406</td>\n",
       "      <td>0.750000</td>\n",
       "      <td>0.066987</td>\n",
       "    </tr>\n",
       "  </tbody>\n",
       "</table>\n",
       "</div>"
      ],
      "text/plain": [
       "             year  avg_temp  month_sin  month_cos\n",
       "date                                             \n",
       "1982-02-01  0.025  0.194108   0.750000   0.933013\n",
       "1982-03-01  0.025  0.245172   0.933013   0.750000\n",
       "1982-04-01  0.025  0.336170   1.000000   0.500000\n",
       "1982-05-01  0.025  0.429460   0.933013   0.250000\n",
       "1982-06-01  0.025  0.632406   0.750000   0.066987"
      ]
     },
     "execution_count": 31,
     "metadata": {},
     "output_type": "execute_result"
    }
   ],
   "source": [
    "for_inverse_scaling.head()"
   ]
  },
  {
   "cell_type": "code",
   "execution_count": 32,
   "metadata": {},
   "outputs": [],
   "source": [
    "for_inverse_scaling['y_hat_train'] = train_y_hat['y_hat'].values\n",
    "for_inverse_scaling_x = for_inverse_scaling[['year','y_hat_train','month_sin','month_cos']]"
   ]
  },
  {
   "cell_type": "code",
   "execution_count": 33,
   "metadata": {},
   "outputs": [],
   "source": [
    "inverse_scaling_x = scaler.inverse_transform(for_inverse_scaling_x)"
   ]
  },
  {
   "cell_type": "code",
   "execution_count": 34,
   "metadata": {},
   "outputs": [],
   "source": [
    "train_prediction = pd.DataFrame(inverse_scaling_x).rename(columns = {0:'year',1:'y_hat_train',2:'month_sin',3:'month_cos'})"
   ]
  },
  {
   "cell_type": "code",
   "execution_count": 35,
   "metadata": {},
   "outputs": [
    {
     "data": {
      "text/html": [
       "<div>\n",
       "<style scoped>\n",
       "    .dataframe tbody tr th:only-of-type {\n",
       "        vertical-align: middle;\n",
       "    }\n",
       "\n",
       "    .dataframe tbody tr th {\n",
       "        vertical-align: top;\n",
       "    }\n",
       "\n",
       "    .dataframe thead th {\n",
       "        text-align: right;\n",
       "    }\n",
       "</style>\n",
       "<table border=\"1\" class=\"dataframe\">\n",
       "  <thead>\n",
       "    <tr style=\"text-align: right;\">\n",
       "      <th></th>\n",
       "      <th>year</th>\n",
       "      <th>y_hat_train</th>\n",
       "      <th>month_sin</th>\n",
       "      <th>month_cos</th>\n",
       "    </tr>\n",
       "  </thead>\n",
       "  <tbody>\n",
       "    <tr>\n",
       "      <th>0</th>\n",
       "      <td>1982.0</td>\n",
       "      <td>-1.165368</td>\n",
       "      <td>0.500000</td>\n",
       "      <td>0.866025</td>\n",
       "    </tr>\n",
       "    <tr>\n",
       "      <th>1</th>\n",
       "      <td>1982.0</td>\n",
       "      <td>0.059886</td>\n",
       "      <td>0.866025</td>\n",
       "      <td>0.500000</td>\n",
       "    </tr>\n",
       "    <tr>\n",
       "      <th>2</th>\n",
       "      <td>1982.0</td>\n",
       "      <td>3.085671</td>\n",
       "      <td>1.000000</td>\n",
       "      <td>0.000000</td>\n",
       "    </tr>\n",
       "    <tr>\n",
       "      <th>3</th>\n",
       "      <td>1982.0</td>\n",
       "      <td>7.186012</td>\n",
       "      <td>0.866025</td>\n",
       "      <td>-0.500000</td>\n",
       "    </tr>\n",
       "    <tr>\n",
       "      <th>4</th>\n",
       "      <td>1982.0</td>\n",
       "      <td>11.628867</td>\n",
       "      <td>0.500000</td>\n",
       "      <td>-0.866025</td>\n",
       "    </tr>\n",
       "  </tbody>\n",
       "</table>\n",
       "</div>"
      ],
      "text/plain": [
       "     year  y_hat_train  month_sin  month_cos\n",
       "0  1982.0    -1.165368   0.500000   0.866025\n",
       "1  1982.0     0.059886   0.866025   0.500000\n",
       "2  1982.0     3.085671   1.000000   0.000000\n",
       "3  1982.0     7.186012   0.866025  -0.500000\n",
       "4  1982.0    11.628867   0.500000  -0.866025"
      ]
     },
     "execution_count": 35,
     "metadata": {},
     "output_type": "execute_result"
    }
   ],
   "source": [
    "train_prediction.head()"
   ]
  },
  {
   "cell_type": "code",
   "execution_count": 36,
   "metadata": {},
   "outputs": [],
   "source": [
    "original_train = for_inverse_scaling[['year','avg_temp','month_sin','month_cos']]"
   ]
  },
  {
   "cell_type": "code",
   "execution_count": 37,
   "metadata": {},
   "outputs": [],
   "source": [
    "inversed_original_train = scaler.inverse_transform(original_train)"
   ]
  },
  {
   "cell_type": "code",
   "execution_count": 38,
   "metadata": {},
   "outputs": [],
   "source": [
    "inversed_original_train = pd.DataFrame(inversed_original_train).rename(columns = {0:'year',1:'avg_temp',2:'month_sin',3:'month_cos'})"
   ]
  },
  {
   "cell_type": "code",
   "execution_count": 39,
   "metadata": {},
   "outputs": [
    {
     "data": {
      "text/plain": [
       "year         0\n",
       "avg_temp     0\n",
       "month_sin    0\n",
       "month_cos    0\n",
       "dtype: int64"
      ]
     },
     "execution_count": 39,
     "metadata": {},
     "output_type": "execute_result"
    }
   ],
   "source": [
    "inversed_original_train.isnull().sum()"
   ]
  },
  {
   "cell_type": "code",
   "execution_count": 40,
   "metadata": {},
   "outputs": [
    {
     "name": "stdout",
     "output_type": "stream",
     "text": [
      "Train Mean Absolute Error: 1.4022152561721217\n",
      "Train Root Mean Squared Error: 1.7824362978404906\n"
     ]
    }
   ],
   "source": [
    "# Get the root mean square error for the training set (actual vs. prediction)\n",
    "\n",
    "print('Train Mean Absolute Error:', mean_absolute_error(inversed_original_train['avg_temp'].values,train_prediction['y_hat_train'].values))\n",
    "print('Train Root Mean Squared Error:',np.sqrt(mean_squared_error(inversed_original_train['avg_temp'].values,train_prediction['y_hat_train'].values)))"
   ]
  },
  {
   "cell_type": "code",
   "execution_count": 41,
   "metadata": {
    "scrolled": true
   },
   "outputs": [
    {
     "data": {
      "image/png": "[encoded data removed]",
      "text/plain": [
       "<Figure size 576x288 with 1 Axes>"
      ]
     },
     "metadata": {
      "needs_background": "light"
     },
     "output_type": "display_data"
    }
   ],
   "source": [
    "# validation\n",
    "\n",
    "pred_plot_train = r\"C:\\Users\\rezan\\Documents\\Master in Applied Data Science\\2nd Year\\MASTER THESIS\\GIT THESIS\\Multivariate LSTM\\France prediction plot train\\\\\"\n",
    "\n",
    "import seaborn as sns\n",
    "\n",
    "aa=[x for x in range(24)]\n",
    "plt.figure(figsize=(8,4))\n",
    "plt.plot(aa, inversed_original_train['avg_temp'].values[:24], marker='.', label=\"actual\") \n",
    "plt.plot(aa, train_prediction['y_hat_train'].values[:24], 'r', label=\"prediction for the training\")\n",
    "# plt.tick_params(left=False, labelleft=True) #remove ticks\n",
    "plt.tight_layout()\n",
    "sns.despine(top=True)\n",
    "plt.subplots_adjust(left=0.07)\n",
    "plt.ylabel('Temp', size=15)\n",
    "plt.xlabel('Time step', size=15)\n",
    "plt.legend(fontsize=15)\n",
    "plt.savefig(pred_plot_train+f'{region_name} train.png')\n",
    "plt.show();"
   ]
  },
  {
   "cell_type": "markdown",
   "metadata": {},
   "source": [
    "### Predicting the validation set and getting the inverse "
   ]
  },
  {
   "cell_type": "code",
   "execution_count": 42,
   "metadata": {},
   "outputs": [],
   "source": [
    "valid_y_hat = saved_model.predict(X_valid_rolled)"
   ]
  },
  {
   "cell_type": "code",
   "execution_count": 43,
   "metadata": {},
   "outputs": [],
   "source": [
    "# convert the prediction to dataframe to be added to the original\n",
    "#I'm doing this because scaler is fit on a (n,4) shape and predition is only (n,1)\n",
    "valid_y_hat = pd.DataFrame(valid_y_hat)"
   ]
  },
  {
   "cell_type": "code",
   "execution_count": 44,
   "metadata": {},
   "outputs": [],
   "source": [
    "valid_y_hat = valid_y_hat.rename(columns = {0:'y_hat_valid'})"
   ]
  },
  {
   "cell_type": "code",
   "execution_count": 45,
   "metadata": {},
   "outputs": [],
   "source": [
    "for_inverse_scaling_valid = combined_data[373+look_back:467] # valid set"
   ]
  },
  {
   "cell_type": "code",
   "execution_count": 46,
   "metadata": {},
   "outputs": [],
   "source": [
    "for_inverse_scaling_valid['y_hat_valid'] = valid_y_hat['y_hat_valid'].values\n",
    "for_inverse_scaling_x_valid = for_inverse_scaling_valid[['year','y_hat_valid','month_sin','month_cos']]"
   ]
  },
  {
   "cell_type": "code",
   "execution_count": 47,
   "metadata": {},
   "outputs": [],
   "source": [
    "inverse_scaling_x_valid = scaler.inverse_transform(for_inverse_scaling_x_valid)"
   ]
  },
  {
   "cell_type": "code",
   "execution_count": 48,
   "metadata": {},
   "outputs": [],
   "source": [
    "valid_prediction = pd.DataFrame(inverse_scaling_x_valid).rename(columns = {0:'year',1:'y_hat_valid',2:'month_sin',3:'month_cos'})"
   ]
  },
  {
   "cell_type": "code",
   "execution_count": 49,
   "metadata": {},
   "outputs": [],
   "source": [
    "# get the original valid data\n",
    "original_valid = for_inverse_scaling_valid[['year','avg_temp','month_sin','month_cos']]"
   ]
  },
  {
   "cell_type": "code",
   "execution_count": 50,
   "metadata": {},
   "outputs": [],
   "source": [
    "# inverse the original valid set\n",
    "inversed_original_valid = scaler.inverse_transform(original_valid)"
   ]
  },
  {
   "cell_type": "code",
   "execution_count": 51,
   "metadata": {},
   "outputs": [],
   "source": [
    "# put the original valid in dataframe \n",
    "inversed_original_valid = pd.DataFrame(inversed_original_valid).rename(columns = {0:'year',1:'avg_temp',2:'month_sin',3:'month_cos'})"
   ]
  },
  {
   "cell_type": "code",
   "execution_count": 52,
   "metadata": {},
   "outputs": [
    {
     "name": "stdout",
     "output_type": "stream",
     "text": [
      "valid Mean Absolute Error: 1.369324432066301\n",
      "valid Root Mean Squared Error: 1.7559824185039639\n"
     ]
    }
   ],
   "source": [
    "print('valid Mean Absolute Error:', mean_absolute_error(inversed_original_valid['avg_temp'].values,valid_prediction['y_hat_valid'].values))\n",
    "print('valid Root Mean Squared Error:',np.sqrt(mean_squared_error(inversed_original_valid['avg_temp'].values,valid_prediction['y_hat_valid'].values)))"
   ]
  },
  {
   "cell_type": "code",
   "execution_count": 53,
   "metadata": {},
   "outputs": [
    {
     "data": {
      "image/png": "[encoded data removed]",
      "text/plain": [
       "<Figure size 576x288 with 1 Axes>"
      ]
     },
     "metadata": {
      "needs_background": "light"
     },
     "output_type": "display_data"
    }
   ],
   "source": [
    "# valid\n",
    "\n",
    "pred_plot_valid = r\"C:\\Users\\rezan\\Documents\\Master in Applied Data Science\\2nd Year\\MASTER THESIS\\GIT THESIS\\Multivariate LSTM\\France prediction plot valid\\\\\"\n",
    "\n",
    "import seaborn as sns\n",
    "\n",
    "aa=[x for x in range(24)]\n",
    "plt.figure(figsize=(8,4))\n",
    "plt.plot(aa, inversed_original_valid['avg_temp'].values[:24], marker='.', label=\"actual\") \n",
    "plt.plot(aa, valid_prediction['y_hat_valid'].values[:24], 'r', label=\"prediction for the valid\")\n",
    "# plt.tick_params(left=False, labelleft=True) #remove ticks\n",
    "plt.tight_layout()\n",
    "sns.despine(top=True)\n",
    "plt.subplots_adjust(left=0.07)\n",
    "plt.ylabel('Temp', size=15)\n",
    "plt.xlabel('Time step', size=15)\n",
    "plt.legend(fontsize=15)\n",
    "plt.savefig(pred_plot_valid+f'{region_name} valid.png')\n",
    "plt.show();"
   ]
  },
  {
   "cell_type": "code",
   "execution_count": 54,
   "metadata": {},
   "outputs": [],
   "source": [
    "# plot residuals for training\n",
    "\n",
    "#inversed_original_train['avg_temp'].values,train_prediction['y_hat_train']\n",
    "\n",
    "\n",
    "original_y_train =  inversed_original_train['avg_temp'] #y\n",
    "prediction_train = train_prediction['y_hat_train']\n",
    "df_residual_train = pd.concat([original_y_train,prediction_train], axis = 1)\n",
    "df_residual_train['residual'] = df_residual_train['avg_temp'] - df_residual_train['y_hat_train']\n"
   ]
  },
  {
   "cell_type": "code",
   "execution_count": 55,
   "metadata": {},
   "outputs": [
    {
     "data": {
      "image/png": "[encoded data removed]",
      "text/plain": [
       "<Figure size 432x288 with 1 Axes>"
      ]
     },
     "metadata": {
      "needs_background": "light"
     },
     "output_type": "display_data"
    }
   ],
   "source": [
    "# plot residuals for training\n",
    "resid_train = r\"C:\\Users\\rezan\\Documents\\Master in Applied Data Science\\2nd Year\\MASTER THESIS\\GIT THESIS\\Multivariate LSTM\\France residual plots train\\\\\"\n",
    "sns_plot = sns.residplot(x ='y_hat_train', y = 'avg_temp', data = df_residual_train, color = 'blue')\n",
    "sns_plot.figure.savefig(resid_train+f'{region_name} train residual.png')"
   ]
  },
  {
   "cell_type": "code",
   "execution_count": 56,
   "metadata": {},
   "outputs": [],
   "source": [
    "# plot residuals for validation \n",
    "\n",
    "#inversed_original_valid['avg_temp'].values,valid_prediction['y_hat_valid'].values\n",
    "\n",
    "original_y_valid = inversed_original_valid['avg_temp']\n",
    "prediction_valid = valid_prediction['y_hat_valid']\n",
    "df_residual_valid = pd.concat([original_y_valid,prediction_valid], axis = 1)\n",
    "df_residual_valid['residual'] = df_residual_valid['avg_temp'] - df_residual_valid['y_hat_valid']\n"
   ]
  },
  {
   "cell_type": "code",
   "execution_count": 58,
   "metadata": {},
   "outputs": [
    {
     "data": {
      "image/png": "[encoded data removed]",
      "text/plain": [
       "<Figure size 432x288 with 1 Axes>"
      ]
     },
     "metadata": {
      "needs_background": "light"
     },
     "output_type": "display_data"
    }
   ],
   "source": [
    "resid_valid = r\"C:\\Users\\rezan\\Documents\\Master in Applied Data Science\\2nd Year\\MASTER THESIS\\GIT THESIS\\Multivariate LSTM\\France residual plots valid\\\\\"\n",
    "\n",
    "sns_plot_valid = sns.residplot(x ='y_hat_valid', y = 'avg_temp', data = df_residual_valid, color = 'green')\n",
    "sns_plot_valid.figure.savefig(resid_valid+f'{region_name} valid residual.png')"
   ]
  },
  {
   "cell_type": "markdown",
   "metadata": {},
   "source": [
    "# Predicting the future dates "
   ]
  },
  {
   "cell_type": "code",
   "execution_count": 59,
   "metadata": {},
   "outputs": [],
   "source": [
    "test_set = combined_data[455:] # test set look back of 12 which means use all months in 2019"
   ]
  },
  {
   "cell_type": "code",
   "execution_count": 60,
   "metadata": {},
   "outputs": [
    {
     "data": {
      "text/html": [
       "<div>\n",
       "<style scoped>\n",
       "    .dataframe tbody tr th:only-of-type {\n",
       "        vertical-align: middle;\n",
       "    }\n",
       "\n",
       "    .dataframe tbody tr th {\n",
       "        vertical-align: top;\n",
       "    }\n",
       "\n",
       "    .dataframe thead th {\n",
       "        text-align: right;\n",
       "    }\n",
       "</style>\n",
       "<table border=\"1\" class=\"dataframe\">\n",
       "  <thead>\n",
       "    <tr style=\"text-align: right;\">\n",
       "      <th></th>\n",
       "      <th>year</th>\n",
       "      <th>avg_temp</th>\n",
       "      <th>month_sin</th>\n",
       "      <th>month_cos</th>\n",
       "    </tr>\n",
       "    <tr>\n",
       "      <th>date</th>\n",
       "      <th></th>\n",
       "      <th></th>\n",
       "      <th></th>\n",
       "      <th></th>\n",
       "    </tr>\n",
       "  </thead>\n",
       "  <tbody>\n",
       "    <tr>\n",
       "      <th>2019-01-01</th>\n",
       "      <td>0.95</td>\n",
       "      <td>0.309984</td>\n",
       "      <td>0.500000</td>\n",
       "      <td>1.000000</td>\n",
       "    </tr>\n",
       "    <tr>\n",
       "      <th>2019-02-01</th>\n",
       "      <td>0.95</td>\n",
       "      <td>0.201309</td>\n",
       "      <td>0.750000</td>\n",
       "      <td>0.933013</td>\n",
       "    </tr>\n",
       "    <tr>\n",
       "      <th>2019-03-01</th>\n",
       "      <td>0.95</td>\n",
       "      <td>0.317185</td>\n",
       "      <td>0.933013</td>\n",
       "      <td>0.750000</td>\n",
       "    </tr>\n",
       "    <tr>\n",
       "      <th>2019-04-01</th>\n",
       "      <td>0.95</td>\n",
       "      <td>0.429787</td>\n",
       "      <td>1.000000</td>\n",
       "      <td>0.500000</td>\n",
       "    </tr>\n",
       "    <tr>\n",
       "      <th>2019-05-01</th>\n",
       "      <td>0.95</td>\n",
       "      <td>0.512275</td>\n",
       "      <td>0.933013</td>\n",
       "      <td>0.250000</td>\n",
       "    </tr>\n",
       "  </tbody>\n",
       "</table>\n",
       "</div>"
      ],
      "text/plain": [
       "            year  avg_temp  month_sin  month_cos\n",
       "date                                            \n",
       "2019-01-01  0.95  0.309984   0.500000   1.000000\n",
       "2019-02-01  0.95  0.201309   0.750000   0.933013\n",
       "2019-03-01  0.95  0.317185   0.933013   0.750000\n",
       "2019-04-01  0.95  0.429787   1.000000   0.500000\n",
       "2019-05-01  0.95  0.512275   0.933013   0.250000"
      ]
     },
     "execution_count": 60,
     "metadata": {},
     "output_type": "execute_result"
    }
   ],
   "source": [
    "test_set.head()"
   ]
  },
  {
   "cell_type": "code",
   "execution_count": 61,
   "metadata": {
    "scrolled": false
   },
   "outputs": [],
   "source": [
    "# for loop over to \n",
    "\n",
    "pred_list = []\n",
    "forecast_months = 24 # 2020-2021\n",
    "\n",
    "prediction = 0\n",
    "\n",
    "for row in range(forecast_months):\n",
    "    #print(row)\n",
    "    look_back = 12\n",
    "    look_back_set = test_set[row:look_back+row] # [0:12]\n",
    "    if row != 0:\n",
    "        look_back_set.iloc[11][1] = prediction\n",
    "    #print(counter)\n",
    "    #display(test_set)\n",
    "    x_test_reshaped = look_back_set.values.reshape(1,12,4)\n",
    "    predict = saved_model.predict(x_test_reshaped)\n",
    "    prediction = predict[0][0] ## append this to the next test set\n",
    "    pred_list.append(prediction) \n",
    "    "
   ]
  },
  {
   "cell_type": "code",
   "execution_count": 62,
   "metadata": {},
   "outputs": [],
   "source": [
    "test_set_prediction = pd.DataFrame(pred_list).rename(columns = {0:'prediction'})\n",
    "test_set[12:]['avg_temp'] =  test_set_prediction['prediction'].values"
   ]
  },
  {
   "cell_type": "code",
   "execution_count": 63,
   "metadata": {},
   "outputs": [],
   "source": [
    "inverse_test_prediction = test_set[12:][['year','avg_temp','month_sin','month_cos']]"
   ]
  },
  {
   "cell_type": "code",
   "execution_count": 64,
   "metadata": {},
   "outputs": [],
   "source": [
    "inverse_test_prediction = scaler.inverse_transform(inverse_test_prediction)"
   ]
  },
  {
   "cell_type": "code",
   "execution_count": 65,
   "metadata": {},
   "outputs": [],
   "source": [
    "final_prediction = pd.DataFrame(inverse_test_prediction).rename(columns = {0:'year',1:'predicted_temp',2:'month_sin',3:'month_cos'})"
   ]
  },
  {
   "cell_type": "code",
   "execution_count": 66,
   "metadata": {},
   "outputs": [
    {
     "data": {
      "text/html": [
       "<div>\n",
       "<style scoped>\n",
       "    .dataframe tbody tr th:only-of-type {\n",
       "        vertical-align: middle;\n",
       "    }\n",
       "\n",
       "    .dataframe tbody tr th {\n",
       "        vertical-align: top;\n",
       "    }\n",
       "\n",
       "    .dataframe thead th {\n",
       "        text-align: right;\n",
       "    }\n",
       "</style>\n",
       "<table border=\"1\" class=\"dataframe\">\n",
       "  <thead>\n",
       "    <tr style=\"text-align: right;\">\n",
       "      <th></th>\n",
       "      <th>year</th>\n",
       "      <th>predicted_temp</th>\n",
       "      <th>month_sin</th>\n",
       "      <th>month_cos</th>\n",
       "    </tr>\n",
       "  </thead>\n",
       "  <tbody>\n",
       "    <tr>\n",
       "      <th>0</th>\n",
       "      <td>2020.0</td>\n",
       "      <td>2.634336</td>\n",
       "      <td>0.000000</td>\n",
       "      <td>1.000000</td>\n",
       "    </tr>\n",
       "    <tr>\n",
       "      <th>1</th>\n",
       "      <td>2020.0</td>\n",
       "      <td>1.964905</td>\n",
       "      <td>0.500000</td>\n",
       "      <td>0.866025</td>\n",
       "    </tr>\n",
       "    <tr>\n",
       "      <th>2</th>\n",
       "      <td>2020.0</td>\n",
       "      <td>3.542701</td>\n",
       "      <td>0.866025</td>\n",
       "      <td>0.500000</td>\n",
       "    </tr>\n",
       "    <tr>\n",
       "      <th>3</th>\n",
       "      <td>2020.0</td>\n",
       "      <td>6.585983</td>\n",
       "      <td>1.000000</td>\n",
       "      <td>0.000000</td>\n",
       "    </tr>\n",
       "    <tr>\n",
       "      <th>4</th>\n",
       "      <td>2020.0</td>\n",
       "      <td>10.476226</td>\n",
       "      <td>0.866025</td>\n",
       "      <td>-0.500000</td>\n",
       "    </tr>\n",
       "  </tbody>\n",
       "</table>\n",
       "</div>"
      ],
      "text/plain": [
       "     year  predicted_temp  month_sin  month_cos\n",
       "0  2020.0        2.634336   0.000000   1.000000\n",
       "1  2020.0        1.964905   0.500000   0.866025\n",
       "2  2020.0        3.542701   0.866025   0.500000\n",
       "3  2020.0        6.585983   1.000000   0.000000\n",
       "4  2020.0       10.476226   0.866025  -0.500000"
      ]
     },
     "metadata": {},
     "output_type": "display_data"
    }
   ],
   "source": [
    "temp_prediction_path = r\"C:\\Users\\rezan\\Documents\\Master in Applied Data Science\\2nd Year\\MASTER THESIS\\GIT THESIS\\Multivariate LSTM\\France Predictions\\\\\"\n",
    "display(final_prediction.head())\n",
    "final_prediction.to_excel(temp_prediction_path+f' {region_name}.xlsx')"
   ]
  },
  {
   "cell_type": "code",
   "execution_count": null,
   "metadata": {},
   "outputs": [],
   "source": []
  },
  {
   "cell_type": "code",
   "execution_count": null,
   "metadata": {},
   "outputs": [],
   "source": []
  }
 ],
 "metadata": {
  "kernelspec": {
   "display_name": "Python 3",
   "language": "python",
   "name": "python3"
  },
  "language_info": {
   "codemirror_mode": {
    "name": "ipython",
    "version": 3
   },
   "file_extension": ".py",
   "mimetype": "text/x-python",
   "name": "python",
   "nbconvert_exporter": "python",
   "pygments_lexer": "ipython3",
   "version": "3.7.1"
  }
 },
 "nbformat": 4,
 "nbformat_minor": 4
}
