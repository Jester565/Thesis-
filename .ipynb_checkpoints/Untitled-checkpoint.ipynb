{
 "cells": [
  {
   "cell_type": "code",
   "execution_count": 1,
   "metadata": {},
   "outputs": [
    {
     "name": "stderr",
     "output_type": "stream",
     "text": [
      "C:\\Users\\rezan\\AppData\\Local\\Continuum\\anaconda3\\envs\\thesis_env\\lib\\site-packages\\sklearn\\externals\\joblib\\__init__.py:15: FutureWarning: sklearn.externals.joblib is deprecated in 0.21 and will be removed in 0.23. Please import this functionality directly from joblib, which can be installed with: pip install joblib. If this warning is raised when loading pickled models, you may need to re-serialize those models with scikit-learn 0.21+.\n",
      "  warnings.warn(msg, category=FutureWarning)\n"
     ]
    }
   ],
   "source": [
    "import numpy as np\n",
    "import pandas as pd\n",
    "from sklearn.model_selection import train_test_split\n",
    "from sklearn import preprocessing\n",
    "from sklearn.ensemble import RandomForestRegressor\n",
    "from sklearn.pipeline import make_pipeline\n",
    "from sklearn.model_selection import GridSearchCV\n",
    "from sklearn.metrics import mean_squared_error, r2_score\n",
    "from sklearn.externals import joblib\n",
    "from sklearn.preprocessing import RobustScaler\n",
    "import csv\n",
    "import datetime\n",
    "from sklearn.svm import SVR\n",
    "import sklearn.svm as svm\n",
    "from sklearn.linear_model import LinearRegression\n"
   ]
  },
  {
   "cell_type": "code",
   "execution_count": 10,
   "metadata": {},
   "outputs": [],
   "source": [
    "path = r\"C:\\Users\\rezan\\Downloads\\sample_1.csv\"\n",
    "data1 = pd.read_csv(path, sep=';', skiprows=3607, names= ['Fran Datum Tid (UTC)', 'till', 'day', 'temperature', 'Kvalitet', 'Tidsutsnitt:', 'Unnamed: 5'])\n",
    "path2 = r\"C:\\Users\\rezan\\Downloads\\smhi-opendata_2_71420_latest-months_2020-06-14_16-00-00.csv\"\n",
    "data2 = pd.read_csv(path2, sep=';', skiprows=15, names= ['Fran Datum Tid (UTC)', 'till', 'day', 'temperature', 'Kvalitet', 'Tidsutsnitt:', 'Unnamed: 5'])\n"
   ]
  },
  {
   "cell_type": "code",
   "execution_count": null,
   "metadata": {},
   "outputs": [],
   "source": [
    "def train_data():\n",
    "    x = data1.drop('Kvalitet', axis = 1)\n",
    "    x = x.drop('Unnamed: 5', axis = 1)\n",
    "    x = x.drop('Fran Datum Tid (UTC)', axis = 1)\n",
    "    x = x.drop('Tidsutsnitt:', axis = 1)\n",
    "    y = x.temperature\n",
    "    X = x.drop('temperature', axis= 1)\n",
    "\n",
    "    x2 = data2.drop('Kvalitet', axis = 1)\n",
    "    x2 = x2.drop('Unnamed: 5', axis = 1)\n",
    "    # x2 = x2.drop('Till Datum Tid (UTC)', axis = 1)\n",
    "    x2 = x2.drop('Fran Datum Tid (UTC)', axis = 1)\n",
    "    x2 = x2.drop('Tidsutsnitt:', axis = 1)\n",
    "    y2 = x2.temperature\n",
    "    X2 = x2.drop('temperature', axis= 1)\n",
    "\n",
    "    new_dates = []\n",
    "    counter = 0\n",
    "    X = X.append(X2)\n",
    "    print(X)\n",
    "    dates = X.day\n",
    "    for day in dates:\n",
    "        day = datetime.datetime.strptime(day, \"%Y-%m-%d\")\n",
    "        day2 = (day - datetime.datetime(1970,1,1)).total_seconds()\n",
    "        new_dates.append(day2)\n",
    "    X.day = new_dates\n",
    "    new_dates= []\n",
    "    for day in X.till:\n",
    "        day = datetime.datetime.strptime(day, \"%Y-%m-%d %H:%M:%S\")\n",
    "        day2 = (day - datetime.datetime(1970,1,1)).total_seconds()\n",
    "        new_dates.append(day2)\n",
    "    X.till = new_dates\n",
    "    y = y.append(y2)\n",
    "\n",
    "\n",
    "    X_train, X_test, y_train, y_test = train_test_split(X, y,\n",
    "                                                        test_size=0.5, \n",
    "                                                        random_state=123, \n",
    "                                                        )\n",
    "\n",
    "    print(X_train)\n",
    "    print(y_train)\n",
    "\n",
    "    scaler = preprocessing.StandardScaler().fit(X_train)\n",
    "    X_train_scaled = scaler.transform(X_train)\n",
    " \n",
    "    pipeline = make_pipeline(preprocessing.StandardScaler(), \n",
    "                         RandomForestRegressor(n_estimators=100))\n",
    "\n",
    "    hyperparameters = { 'randomforestregressor__max_features' : ['auto', 'sqrt', 'log2'],\n",
    "                  'randomforestregressor__max_depth': [None, 5, 3, 1], }\n",
    "\n",
    "    clf = LinearRegression()\n",
    "    clf.fit(X_train, y_train)\n",
    "    pred = clf.predict(X_test)\n",
    "    print (r2_score(y_test, pred))\n",
    "    print (mean_squared_error(y_test, pred))\n",
    "\n",
    "    joblib.dump(clf, 'weather_predictor.pkl')"
   ]
  },
  {
   "cell_type": "code",
   "execution_count": null,
   "metadata": {},
   "outputs": [],
   "source": [
    "train_data()"
   ]
  },
  {
   "cell_type": "code",
   "execution_count": 26,
   "metadata": {},
   "outputs": [],
   "source": [
    "def get_the_weather(date):\n",
    "    weather = data1.day\n",
    "    temp = data1.temperature\n",
    "\n",
    "    for i in range(0, len(weather)):\n",
    "        day = datetime.datetime.strptime(weather[i], \"%Y-%m-%d\")\n",
    "        if (day == date):\n",
    "            return temp[i]"
   ]
  },
  {
   "cell_type": "code",
   "execution_count": null,
   "metadata": {},
   "outputs": [],
   "source": [
    "data=\n",
    "get_the_weather()"
   ]
  },
  {
   "cell_type": "code",
   "execution_count": 27,
   "metadata": {},
   "outputs": [],
   "source": [
    "def predict_weather():\n",
    "    clf = joblib.load('weather_predictor.pkl')\n",
    "    print(\"-\" * 48)\n",
    "    print(\"Enter the details of the date you would like to predict\")\n",
    "    print(\"\\n\")\n",
    "    option = input(\"Year: \")\n",
    "    year = option\n",
    "    option = input(\"Month number (00): \")\n",
    "    month = option\n",
    "    option = input(\"Day number (00): \")\n",
    "    theday = option\n",
    "\n",
    "    day = str(year) + \"-\" + str(month) + \"-\" + str(theday)\n",
    "    day = datetime.datetime.strptime(day, \"%Y-%m-%d\")\n",
    "    date = (day - datetime.datetime(1970,1,1)).total_seconds()\n",
    "\n",
    "    day_x = str(year) + \"-\" + str(month) + \"-\" + str(theday+1)\n",
    "    day_x = datetime.datetime.strptime(day_x, \"%Y-%m-%d\")\n",
    "    date_x = (day_x - datetime.datetime(1970,1,1)).total_seconds()\n",
    "\n",
    "    X = [[date, date_x]]\n",
    "    print(\"\\n\")\n",
    "    print(\"-\" * 48)\n",
    "    print(\"The temperature is predicted to be: \" + str(clf.predict(X)[0]))\n",
    "    print(\"The temperature was actually: \" + str(get_the_weather(day)))\n",
    "    print(\"-\" * 48)\n",
    "    print(\"\\n\")"
   ]
  },
  {
   "cell_type": "code",
   "execution_count": null,
   "metadata": {},
   "outputs": [],
   "source": [
    "def run_menu():\n",
    "    print(\"*\" *48)\n",
    "    print(\"-\" *10 + \" What would you like to do? \" + \"-\" *10)\n",
    "    print(\"\\n\")\n",
    "    print(\"1. Look up the weather on a specific day\")\n",
    "    print(\"2. Predict the weather on a specific day\")\n",
    "    print(\"\\n\")\n",
    "\n",
    "    option = input(\"Enter option: \")\n",
    "\n",
    "    while True:\n",
    "        if option == 2 or option == 1 or option == 9:\n",
    "            break\n",
    "        option = input(\"Enter option: \")\n",
    "    return option\n",
    "\n",
    "def run_program(option):\n",
    "    if option == 1:\n",
    "        print(\"1\")\n",
    "    elif option == 2:\n",
    "        predict_weather()\n",
    "\n",
    "if __name__== \"__main__\":\n",
    "    train_data()\n",
    "\n",
    "    while True:\n",
    "        option = run_menu()\n",
    "        if option == 9:\n",
    "            break\n",
    "        else:\n",
    "            run_program(option)"
   ]
  },
  {
   "cell_type": "code",
   "execution_count": null,
   "metadata": {},
   "outputs": [],
   "source": []
  }
 ],
 "metadata": {
  "kernelspec": {
   "display_name": "Python 3",
   "language": "python",
   "name": "python3"
  },
  "language_info": {
   "codemirror_mode": {
    "name": "ipython",
    "version": 3
   },
   "file_extension": ".py",
   "mimetype": "text/x-python",
   "name": "python",
   "nbconvert_exporter": "python",
   "pygments_lexer": "ipython3",
   "version": "3.7.7"
  }
 },
 "nbformat": 4,
 "nbformat_minor": 4
}
