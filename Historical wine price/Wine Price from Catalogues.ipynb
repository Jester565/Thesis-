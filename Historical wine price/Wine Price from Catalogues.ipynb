{
 "cells": [
  {
   "cell_type": "code",
   "execution_count": 1,
   "metadata": {},
   "outputs": [],
   "source": [
    "import pandas as pd\n",
    "import numpy as np\n"
   ]
  },
  {
   "cell_type": "code",
   "execution_count": 8,
   "metadata": {},
   "outputs": [],
   "source": [
    "wineprice = pd.read_csv('winePrice_2.csv')"
   ]
  },
  {
   "cell_type": "code",
   "execution_count": 10,
   "metadata": {},
   "outputs": [
    {
     "data": {
      "text/html": [
       "<div>\n",
       "<style scoped>\n",
       "    .dataframe tbody tr th:only-of-type {\n",
       "        vertical-align: middle;\n",
       "    }\n",
       "\n",
       "    .dataframe tbody tr th {\n",
       "        vertical-align: top;\n",
       "    }\n",
       "\n",
       "    .dataframe thead th {\n",
       "        text-align: right;\n",
       "    }\n",
       "</style>\n",
       "<table border=\"1\" class=\"dataframe\">\n",
       "  <thead>\n",
       "    <tr style=\"text-align: right;\">\n",
       "      <th></th>\n",
       "      <th>Unnamed: 0</th>\n",
       "      <th>price_id</th>\n",
       "      <th>page_ark</th>\n",
       "      <th>ark</th>\n",
       "      <th>name</th>\n",
       "      <th>vintage</th>\n",
       "      <th>type</th>\n",
       "      <th>color</th>\n",
       "      <th>country</th>\n",
       "      <th>section</th>\n",
       "      <th>bottle_type</th>\n",
       "      <th>perprice</th>\n",
       "      <th>caseprice</th>\n",
       "      <th>bbox</th>\n",
       "      <th>left</th>\n",
       "      <th>top</th>\n",
       "      <th>right</th>\n",
       "      <th>bottom</th>\n",
       "    </tr>\n",
       "  </thead>\n",
       "  <tbody>\n",
       "    <tr>\n",
       "      <th>0</th>\n",
       "      <td>0</td>\n",
       "      <td>1</td>\n",
       "      <td>d7001g-000</td>\n",
       "      <td>d7001g</td>\n",
       "      <td>CHATEAU DE CHAMBOLLE MUSIGNY</td>\n",
       "      <td>1943.0</td>\n",
       "      <td>wine</td>\n",
       "      <td>NaN</td>\n",
       "      <td>France</td>\n",
       "      <td>NaN</td>\n",
       "      <td>NaN</td>\n",
       "      <td>2.49</td>\n",
       "      <td>27.95</td>\n",
       "      <td>0103000020967F000001000000050000000000000000A0...</td>\n",
       "      <td>330.0</td>\n",
       "      <td>4075.0</td>\n",
       "      <td>3768.0</td>\n",
       "      <td>4117.0</td>\n",
       "    </tr>\n",
       "    <tr>\n",
       "      <th>1</th>\n",
       "      <td>1</td>\n",
       "      <td>2</td>\n",
       "      <td>d7001g-000</td>\n",
       "      <td>d7001g</td>\n",
       "      <td>ROMANEE ST VIVANT LES QUATRE JOURNAUX</td>\n",
       "      <td>1942.0</td>\n",
       "      <td>wine</td>\n",
       "      <td>NaN</td>\n",
       "      <td>NaN</td>\n",
       "      <td>NaN</td>\n",
       "      <td>NaN</td>\n",
       "      <td>2.99</td>\n",
       "      <td>34.75</td>\n",
       "      <td>0103000020967F000001000000050000000000000000C0...</td>\n",
       "      <td>332.0</td>\n",
       "      <td>4500.0</td>\n",
       "      <td>3768.0</td>\n",
       "      <td>4549.0</td>\n",
       "    </tr>\n",
       "    <tr>\n",
       "      <th>2</th>\n",
       "      <td>2</td>\n",
       "      <td>3</td>\n",
       "      <td>d7001g-000</td>\n",
       "      <td>d7001g</td>\n",
       "      <td>TACHE</td>\n",
       "      <td>1942.0</td>\n",
       "      <td>wine</td>\n",
       "      <td>NaN</td>\n",
       "      <td>NaN</td>\n",
       "      <td>NaN</td>\n",
       "      <td>NaN</td>\n",
       "      <td>4.79</td>\n",
       "      <td>56.50</td>\n",
       "      <td>0103000020967F000001000000050000000000000000E0...</td>\n",
       "      <td>334.0</td>\n",
       "      <td>4888.0</td>\n",
       "      <td>3755.0</td>\n",
       "      <td>4937.0</td>\n",
       "    </tr>\n",
       "    <tr>\n",
       "      <th>3</th>\n",
       "      <td>3</td>\n",
       "      <td>4</td>\n",
       "      <td>d7001g-000</td>\n",
       "      <td>d7001g</td>\n",
       "      <td>ALOXE CORTON LES CHAILLOTS</td>\n",
       "      <td>1942.0</td>\n",
       "      <td>wine</td>\n",
       "      <td>NaN</td>\n",
       "      <td>France</td>\n",
       "      <td>NaN</td>\n",
       "      <td>NaN</td>\n",
       "      <td>1.99</td>\n",
       "      <td>22.65</td>\n",
       "      <td>0103000020967F00000100000005000000000000000090...</td>\n",
       "      <td>329.0</td>\n",
       "      <td>3716.0</td>\n",
       "      <td>3768.0</td>\n",
       "      <td>3760.0</td>\n",
       "    </tr>\n",
       "    <tr>\n",
       "      <th>4</th>\n",
       "      <td>4</td>\n",
       "      <td>5</td>\n",
       "      <td>d7001g-001</td>\n",
       "      <td>d7001g</td>\n",
       "      <td>RUDESHEIMER HAEUSERWEG SPATLESE</td>\n",
       "      <td>1952.0</td>\n",
       "      <td>wine</td>\n",
       "      <td>NaN</td>\n",
       "      <td>NaN</td>\n",
       "      <td>NaN</td>\n",
       "      <td>NaN</td>\n",
       "      <td>1.79</td>\n",
       "      <td>2.45</td>\n",
       "      <td>0103000020967F000001000000050000000000000000F8...</td>\n",
       "      <td>271.5</td>\n",
       "      <td>3134.0</td>\n",
       "      <td>3423.0</td>\n",
       "      <td>3178.0</td>\n",
       "    </tr>\n",
       "  </tbody>\n",
       "</table>\n",
       "</div>"
      ],
      "text/plain": [
       "   Unnamed: 0  price_id    page_ark     ark  \\\n",
       "0           0         1  d7001g-000  d7001g   \n",
       "1           1         2  d7001g-000  d7001g   \n",
       "2           2         3  d7001g-000  d7001g   \n",
       "3           3         4  d7001g-000  d7001g   \n",
       "4           4         5  d7001g-001  d7001g   \n",
       "\n",
       "                                    name  vintage  type color country  \\\n",
       "0           CHATEAU DE CHAMBOLLE MUSIGNY   1943.0  wine   NaN  France   \n",
       "1  ROMANEE ST VIVANT LES QUATRE JOURNAUX   1942.0  wine   NaN     NaN   \n",
       "2                                  TACHE   1942.0  wine   NaN     NaN   \n",
       "3             ALOXE CORTON LES CHAILLOTS   1942.0  wine   NaN  France   \n",
       "4        RUDESHEIMER HAEUSERWEG SPATLESE   1952.0  wine   NaN     NaN   \n",
       "\n",
       "   section  bottle_type  perprice  caseprice  \\\n",
       "0      NaN          NaN      2.49      27.95   \n",
       "1      NaN          NaN      2.99      34.75   \n",
       "2      NaN          NaN      4.79      56.50   \n",
       "3      NaN          NaN      1.99      22.65   \n",
       "4      NaN          NaN      1.79       2.45   \n",
       "\n",
       "                                                bbox   left     top   right  \\\n",
       "0  0103000020967F000001000000050000000000000000A0...  330.0  4075.0  3768.0   \n",
       "1  0103000020967F000001000000050000000000000000C0...  332.0  4500.0  3768.0   \n",
       "2  0103000020967F000001000000050000000000000000E0...  334.0  4888.0  3755.0   \n",
       "3  0103000020967F00000100000005000000000000000090...  329.0  3716.0  3768.0   \n",
       "4  0103000020967F000001000000050000000000000000F8...  271.5  3134.0  3423.0   \n",
       "\n",
       "   bottom  \n",
       "0  4117.0  \n",
       "1  4549.0  \n",
       "2  4937.0  \n",
       "3  3760.0  \n",
       "4  3178.0  "
      ]
     },
     "execution_count": 10,
     "metadata": {},
     "output_type": "execute_result"
    }
   ],
   "source": [
    "wineprice.head()"
   ]
  },
  {
   "cell_type": "code",
   "execution_count": 11,
   "metadata": {},
   "outputs": [
    {
     "name": "stdout",
     "output_type": "stream",
     "text": [
      "<class 'pandas.core.frame.DataFrame'>\n",
      "RangeIndex: 214018 entries, 0 to 214017\n",
      "Data columns (total 18 columns):\n",
      "Unnamed: 0     214018 non-null int64\n",
      "price_id       214018 non-null int64\n",
      "page_ark       214018 non-null object\n",
      "ark            214018 non-null object\n",
      "name           185885 non-null object\n",
      "vintage        63871 non-null float64\n",
      "type           214018 non-null object\n",
      "color          30925 non-null object\n",
      "country        105337 non-null object\n",
      "section        0 non-null float64\n",
      "bottle_type    0 non-null float64\n",
      "perprice       214018 non-null float64\n",
      "caseprice      151587 non-null float64\n",
      "bbox           214018 non-null object\n",
      "left           214018 non-null float64\n",
      "top            214018 non-null float64\n",
      "right          214018 non-null float64\n",
      "bottom         214018 non-null float64\n",
      "dtypes: float64(9), int64(2), object(7)\n",
      "memory usage: 29.4+ MB\n"
     ]
    }
   ],
   "source": [
    "wineprice.info()"
   ]
  },
  {
   "cell_type": "code",
   "execution_count": 12,
   "metadata": {},
   "outputs": [
    {
     "data": {
      "text/plain": [
       "(214018, 18)"
      ]
     },
     "execution_count": 12,
     "metadata": {},
     "output_type": "execute_result"
    }
   ],
   "source": [
    "wineprice.shape"
   ]
  },
  {
   "cell_type": "code",
   "execution_count": 14,
   "metadata": {},
   "outputs": [],
   "source": [
    "region = pd.read_csv('mark_bbox.csv')"
   ]
  },
  {
   "cell_type": "code",
   "execution_count": 15,
   "metadata": {},
   "outputs": [
    {
     "data": {
      "text/html": [
       "<div>\n",
       "<style scoped>\n",
       "    .dataframe tbody tr th:only-of-type {\n",
       "        vertical-align: middle;\n",
       "    }\n",
       "\n",
       "    .dataframe tbody tr th {\n",
       "        vertical-align: top;\n",
       "    }\n",
       "\n",
       "    .dataframe thead th {\n",
       "        text-align: right;\n",
       "    }\n",
       "</style>\n",
       "<table border=\"1\" class=\"dataframe\">\n",
       "  <thead>\n",
       "    <tr style=\"text-align: right;\">\n",
       "      <th></th>\n",
       "      <th>Unnamed: 0</th>\n",
       "      <th>mark_id</th>\n",
       "      <th>page_ark</th>\n",
       "      <th>implicator_bbox</th>\n",
       "      <th>region_bbox</th>\n",
       "    </tr>\n",
       "  </thead>\n",
       "  <tbody>\n",
       "    <tr>\n",
       "      <th>0</th>\n",
       "      <td>0</td>\n",
       "      <td>4673b88a-5c77-4a49-97ea-5016591ed28f</td>\n",
       "      <td>d7nd38-008</td>\n",
       "      <td>0103000020967F00000100000005000000000000000010...</td>\n",
       "      <td>0103000020967F00000100000005000000000000000000...</td>\n",
       "    </tr>\n",
       "    <tr>\n",
       "      <th>1</th>\n",
       "      <td>1</td>\n",
       "      <td>e5e144bd-8376-40ca-8cc1-cbce98f09afb</td>\n",
       "      <td>d7160g-014</td>\n",
       "      <td>0103000020967F00000100000005000000000000000050...</td>\n",
       "      <td>0103000020967F00000100000005000000000000000070...</td>\n",
       "    </tr>\n",
       "    <tr>\n",
       "      <th>2</th>\n",
       "      <td>2</td>\n",
       "      <td>c278fa82-83d3-42ae-bbd2-946cb0e4633f</td>\n",
       "      <td>d7265p-018</td>\n",
       "      <td>0103000020967F00000100000005000000000000000038...</td>\n",
       "      <td>0103000020967F000001000000050000000000000000D8...</td>\n",
       "    </tr>\n",
       "    <tr>\n",
       "      <th>3</th>\n",
       "      <td>3</td>\n",
       "      <td>b53d3882-1b02-4435-9f0e-3548be90d430</td>\n",
       "      <td>d7v30w-039</td>\n",
       "      <td>0103000020967F00000100000005000000000000000040...</td>\n",
       "      <td>0103000020967F00000100000005000000000000000000...</td>\n",
       "    </tr>\n",
       "    <tr>\n",
       "      <th>4</th>\n",
       "      <td>4</td>\n",
       "      <td>12f951f6-cf4d-49d1-a07c-6362e62da9fe</td>\n",
       "      <td>d7fw2v-034</td>\n",
       "      <td>0103000020967F00000100000005000000000000000080...</td>\n",
       "      <td>0103000020967F00000100000005000000000000000080...</td>\n",
       "    </tr>\n",
       "  </tbody>\n",
       "</table>\n",
       "</div>"
      ],
      "text/plain": [
       "   Unnamed: 0                               mark_id    page_ark  \\\n",
       "0           0  4673b88a-5c77-4a49-97ea-5016591ed28f  d7nd38-008   \n",
       "1           1  e5e144bd-8376-40ca-8cc1-cbce98f09afb  d7160g-014   \n",
       "2           2  c278fa82-83d3-42ae-bbd2-946cb0e4633f  d7265p-018   \n",
       "3           3  b53d3882-1b02-4435-9f0e-3548be90d430  d7v30w-039   \n",
       "4           4  12f951f6-cf4d-49d1-a07c-6362e62da9fe  d7fw2v-034   \n",
       "\n",
       "                                     implicator_bbox  \\\n",
       "0  0103000020967F00000100000005000000000000000010...   \n",
       "1  0103000020967F00000100000005000000000000000050...   \n",
       "2  0103000020967F00000100000005000000000000000038...   \n",
       "3  0103000020967F00000100000005000000000000000040...   \n",
       "4  0103000020967F00000100000005000000000000000080...   \n",
       "\n",
       "                                         region_bbox  \n",
       "0  0103000020967F00000100000005000000000000000000...  \n",
       "1  0103000020967F00000100000005000000000000000070...  \n",
       "2  0103000020967F000001000000050000000000000000D8...  \n",
       "3  0103000020967F00000100000005000000000000000000...  \n",
       "4  0103000020967F00000100000005000000000000000080...  "
      ]
     },
     "execution_count": 15,
     "metadata": {},
     "output_type": "execute_result"
    }
   ],
   "source": [
    "region.head()"
   ]
  },
  {
   "cell_type": "code",
   "execution_count": 16,
   "metadata": {},
   "outputs": [
    {
     "data": {
      "text/plain": [
       "'0103000020967F0000010000000500000000000000000066400000000000689AC000000000000066400000000000607FC00000000000F0A6400000000000607FC00000000000F0A6400000000000689AC000000000000066400000000000689AC0'"
      ]
     },
     "execution_count": 16,
     "metadata": {},
     "output_type": "execute_result"
    }
   ],
   "source": [
    "region.region_bbox[0]"
   ]
  },
  {
   "cell_type": "code",
   "execution_count": 18,
   "metadata": {},
   "outputs": [
    {
     "ename": "UnicodeDecodeError",
     "evalue": "'utf-8' codec can't decode bytes in position 0-1: invalid continuation byte",
     "output_type": "error",
     "traceback": [
      "\u001b[1;31m---------------------------------------------------------------------------\u001b[0m",
      "\u001b[1;31mUnicodeDecodeError\u001b[0m                        Traceback (most recent call last)",
      "\u001b[1;32m<ipython-input-18-c101e6a08f9c>\u001b[0m in \u001b[0;36m<module>\u001b[1;34m\u001b[0m\n\u001b[1;32m----> 1\u001b[1;33m \u001b[0mwine_vintage\u001b[0m \u001b[1;33m=\u001b[0m \u001b[0mpd\u001b[0m\u001b[1;33m.\u001b[0m\u001b[0mread_csv\u001b[0m\u001b[1;33m(\u001b[0m\u001b[1;34m'historical_wine_vintage.xlsx'\u001b[0m\u001b[1;33m)\u001b[0m\u001b[1;33m\u001b[0m\u001b[1;33m\u001b[0m\u001b[0m\n\u001b[0m",
      "\u001b[1;32m~\\AppData\\Local\\Continuum\\anaconda3\\envs\\thesis_env\\lib\\site-packages\\pandas\\io\\parsers.py\u001b[0m in \u001b[0;36mparser_f\u001b[1;34m(filepath_or_buffer, sep, delimiter, header, names, index_col, usecols, squeeze, prefix, mangle_dupe_cols, dtype, engine, converters, true_values, false_values, skipinitialspace, skiprows, skipfooter, nrows, na_values, keep_default_na, na_filter, verbose, skip_blank_lines, parse_dates, infer_datetime_format, keep_date_col, date_parser, dayfirst, cache_dates, iterator, chunksize, compression, thousands, decimal, lineterminator, quotechar, quoting, doublequote, escapechar, comment, encoding, dialect, error_bad_lines, warn_bad_lines, delim_whitespace, low_memory, memory_map, float_precision)\u001b[0m\n\u001b[0;32m    683\u001b[0m         )\n\u001b[0;32m    684\u001b[0m \u001b[1;33m\u001b[0m\u001b[0m\n\u001b[1;32m--> 685\u001b[1;33m         \u001b[1;32mreturn\u001b[0m \u001b[0m_read\u001b[0m\u001b[1;33m(\u001b[0m\u001b[0mfilepath_or_buffer\u001b[0m\u001b[1;33m,\u001b[0m \u001b[0mkwds\u001b[0m\u001b[1;33m)\u001b[0m\u001b[1;33m\u001b[0m\u001b[1;33m\u001b[0m\u001b[0m\n\u001b[0m\u001b[0;32m    686\u001b[0m \u001b[1;33m\u001b[0m\u001b[0m\n\u001b[0;32m    687\u001b[0m     \u001b[0mparser_f\u001b[0m\u001b[1;33m.\u001b[0m\u001b[0m__name__\u001b[0m \u001b[1;33m=\u001b[0m \u001b[0mname\u001b[0m\u001b[1;33m\u001b[0m\u001b[1;33m\u001b[0m\u001b[0m\n",
      "\u001b[1;32m~\\AppData\\Local\\Continuum\\anaconda3\\envs\\thesis_env\\lib\\site-packages\\pandas\\io\\parsers.py\u001b[0m in \u001b[0;36m_read\u001b[1;34m(filepath_or_buffer, kwds)\u001b[0m\n\u001b[0;32m    455\u001b[0m \u001b[1;33m\u001b[0m\u001b[0m\n\u001b[0;32m    456\u001b[0m     \u001b[1;31m# Create the parser.\u001b[0m\u001b[1;33m\u001b[0m\u001b[1;33m\u001b[0m\u001b[1;33m\u001b[0m\u001b[0m\n\u001b[1;32m--> 457\u001b[1;33m     \u001b[0mparser\u001b[0m \u001b[1;33m=\u001b[0m \u001b[0mTextFileReader\u001b[0m\u001b[1;33m(\u001b[0m\u001b[0mfp_or_buf\u001b[0m\u001b[1;33m,\u001b[0m \u001b[1;33m**\u001b[0m\u001b[0mkwds\u001b[0m\u001b[1;33m)\u001b[0m\u001b[1;33m\u001b[0m\u001b[1;33m\u001b[0m\u001b[0m\n\u001b[0m\u001b[0;32m    458\u001b[0m \u001b[1;33m\u001b[0m\u001b[0m\n\u001b[0;32m    459\u001b[0m     \u001b[1;32mif\u001b[0m \u001b[0mchunksize\u001b[0m \u001b[1;32mor\u001b[0m \u001b[0miterator\u001b[0m\u001b[1;33m:\u001b[0m\u001b[1;33m\u001b[0m\u001b[1;33m\u001b[0m\u001b[0m\n",
      "\u001b[1;32m~\\AppData\\Local\\Continuum\\anaconda3\\envs\\thesis_env\\lib\\site-packages\\pandas\\io\\parsers.py\u001b[0m in \u001b[0;36m__init__\u001b[1;34m(self, f, engine, **kwds)\u001b[0m\n\u001b[0;32m    893\u001b[0m             \u001b[0mself\u001b[0m\u001b[1;33m.\u001b[0m\u001b[0moptions\u001b[0m\u001b[1;33m[\u001b[0m\u001b[1;34m\"has_index_names\"\u001b[0m\u001b[1;33m]\u001b[0m \u001b[1;33m=\u001b[0m \u001b[0mkwds\u001b[0m\u001b[1;33m[\u001b[0m\u001b[1;34m\"has_index_names\"\u001b[0m\u001b[1;33m]\u001b[0m\u001b[1;33m\u001b[0m\u001b[1;33m\u001b[0m\u001b[0m\n\u001b[0;32m    894\u001b[0m \u001b[1;33m\u001b[0m\u001b[0m\n\u001b[1;32m--> 895\u001b[1;33m         \u001b[0mself\u001b[0m\u001b[1;33m.\u001b[0m\u001b[0m_make_engine\u001b[0m\u001b[1;33m(\u001b[0m\u001b[0mself\u001b[0m\u001b[1;33m.\u001b[0m\u001b[0mengine\u001b[0m\u001b[1;33m)\u001b[0m\u001b[1;33m\u001b[0m\u001b[1;33m\u001b[0m\u001b[0m\n\u001b[0m\u001b[0;32m    896\u001b[0m \u001b[1;33m\u001b[0m\u001b[0m\n\u001b[0;32m    897\u001b[0m     \u001b[1;32mdef\u001b[0m \u001b[0mclose\u001b[0m\u001b[1;33m(\u001b[0m\u001b[0mself\u001b[0m\u001b[1;33m)\u001b[0m\u001b[1;33m:\u001b[0m\u001b[1;33m\u001b[0m\u001b[1;33m\u001b[0m\u001b[0m\n",
      "\u001b[1;32m~\\AppData\\Local\\Continuum\\anaconda3\\envs\\thesis_env\\lib\\site-packages\\pandas\\io\\parsers.py\u001b[0m in \u001b[0;36m_make_engine\u001b[1;34m(self, engine)\u001b[0m\n\u001b[0;32m   1133\u001b[0m     \u001b[1;32mdef\u001b[0m \u001b[0m_make_engine\u001b[0m\u001b[1;33m(\u001b[0m\u001b[0mself\u001b[0m\u001b[1;33m,\u001b[0m \u001b[0mengine\u001b[0m\u001b[1;33m=\u001b[0m\u001b[1;34m\"c\"\u001b[0m\u001b[1;33m)\u001b[0m\u001b[1;33m:\u001b[0m\u001b[1;33m\u001b[0m\u001b[1;33m\u001b[0m\u001b[0m\n\u001b[0;32m   1134\u001b[0m         \u001b[1;32mif\u001b[0m \u001b[0mengine\u001b[0m \u001b[1;33m==\u001b[0m \u001b[1;34m\"c\"\u001b[0m\u001b[1;33m:\u001b[0m\u001b[1;33m\u001b[0m\u001b[1;33m\u001b[0m\u001b[0m\n\u001b[1;32m-> 1135\u001b[1;33m             \u001b[0mself\u001b[0m\u001b[1;33m.\u001b[0m\u001b[0m_engine\u001b[0m \u001b[1;33m=\u001b[0m \u001b[0mCParserWrapper\u001b[0m\u001b[1;33m(\u001b[0m\u001b[0mself\u001b[0m\u001b[1;33m.\u001b[0m\u001b[0mf\u001b[0m\u001b[1;33m,\u001b[0m \u001b[1;33m**\u001b[0m\u001b[0mself\u001b[0m\u001b[1;33m.\u001b[0m\u001b[0moptions\u001b[0m\u001b[1;33m)\u001b[0m\u001b[1;33m\u001b[0m\u001b[1;33m\u001b[0m\u001b[0m\n\u001b[0m\u001b[0;32m   1136\u001b[0m         \u001b[1;32melse\u001b[0m\u001b[1;33m:\u001b[0m\u001b[1;33m\u001b[0m\u001b[1;33m\u001b[0m\u001b[0m\n\u001b[0;32m   1137\u001b[0m             \u001b[1;32mif\u001b[0m \u001b[0mengine\u001b[0m \u001b[1;33m==\u001b[0m \u001b[1;34m\"python\"\u001b[0m\u001b[1;33m:\u001b[0m\u001b[1;33m\u001b[0m\u001b[1;33m\u001b[0m\u001b[0m\n",
      "\u001b[1;32m~\\AppData\\Local\\Continuum\\anaconda3\\envs\\thesis_env\\lib\\site-packages\\pandas\\io\\parsers.py\u001b[0m in \u001b[0;36m__init__\u001b[1;34m(self, src, **kwds)\u001b[0m\n\u001b[0;32m   1904\u001b[0m         \u001b[0mkwds\u001b[0m\u001b[1;33m[\u001b[0m\u001b[1;34m\"usecols\"\u001b[0m\u001b[1;33m]\u001b[0m \u001b[1;33m=\u001b[0m \u001b[0mself\u001b[0m\u001b[1;33m.\u001b[0m\u001b[0musecols\u001b[0m\u001b[1;33m\u001b[0m\u001b[1;33m\u001b[0m\u001b[0m\n\u001b[0;32m   1905\u001b[0m \u001b[1;33m\u001b[0m\u001b[0m\n\u001b[1;32m-> 1906\u001b[1;33m         \u001b[0mself\u001b[0m\u001b[1;33m.\u001b[0m\u001b[0m_reader\u001b[0m \u001b[1;33m=\u001b[0m \u001b[0mparsers\u001b[0m\u001b[1;33m.\u001b[0m\u001b[0mTextReader\u001b[0m\u001b[1;33m(\u001b[0m\u001b[0msrc\u001b[0m\u001b[1;33m,\u001b[0m \u001b[1;33m**\u001b[0m\u001b[0mkwds\u001b[0m\u001b[1;33m)\u001b[0m\u001b[1;33m\u001b[0m\u001b[1;33m\u001b[0m\u001b[0m\n\u001b[0m\u001b[0;32m   1907\u001b[0m         \u001b[0mself\u001b[0m\u001b[1;33m.\u001b[0m\u001b[0munnamed_cols\u001b[0m \u001b[1;33m=\u001b[0m \u001b[0mself\u001b[0m\u001b[1;33m.\u001b[0m\u001b[0m_reader\u001b[0m\u001b[1;33m.\u001b[0m\u001b[0munnamed_cols\u001b[0m\u001b[1;33m\u001b[0m\u001b[1;33m\u001b[0m\u001b[0m\n\u001b[0;32m   1908\u001b[0m \u001b[1;33m\u001b[0m\u001b[0m\n",
      "\u001b[1;32mpandas\\_libs\\parsers.pyx\u001b[0m in \u001b[0;36mpandas._libs.parsers.TextReader.__cinit__\u001b[1;34m()\u001b[0m\n",
      "\u001b[1;32mpandas\\_libs\\parsers.pyx\u001b[0m in \u001b[0;36mpandas._libs.parsers.TextReader._get_header\u001b[1;34m()\u001b[0m\n",
      "\u001b[1;31mUnicodeDecodeError\u001b[0m: 'utf-8' codec can't decode bytes in position 0-1: invalid continuation byte"
     ]
    }
   ],
   "source": [
    "https://data.world/markpowell/global-wine-points\n",
    "\n",
    "wine_vintage = pd.read_csv('historical_wine_vintage.xlsx')"
   ]
  },
  {
   "cell_type": "code",
   "execution_count": null,
   "metadata": {},
   "outputs": [],
   "source": []
  }
 ],
 "metadata": {
  "kernelspec": {
   "display_name": "Python 3",
   "language": "python",
   "name": "python3"
  },
  "language_info": {
   "codemirror_mode": {
    "name": "ipython",
    "version": 3
   },
   "file_extension": ".py",
   "mimetype": "text/x-python",
   "name": "python",
   "nbconvert_exporter": "python",
   "pygments_lexer": "ipython3",
   "version": "3.7.7"
  }
 },
 "nbformat": 4,
 "nbformat_minor": 4
}
