{
 "cells": [
  {
   "cell_type": "markdown",
   "metadata": {},
   "source": [
    "Another approach: \n",
    "\n",
    "* include the other 3 variables including the year, temp (shift to t+1), month_sin, month_cos\n",
    "* Do the early stopping where the validation is minimum. \n",
    "* plot the residual "
   ]
  },
  {
   "cell_type": "code",
   "execution_count": 79,
   "metadata": {},
   "outputs": [],
   "source": [
    "import numpy as np\n",
    "import pandas as pd\n",
    "import matplotlib.pyplot as plt\n",
    "%matplotlib inline\n",
    "from statsmodels.tools.eval_measures import rmse\n",
    "from keras.preprocessing.sequence import TimeseriesGenerator\n",
    "from sklearn.preprocessing import MinMaxScaler\n",
    "from sklearn.model_selection import train_test_split\n",
    "from sklearn import preprocessing\n",
    "from keras.models import Sequential\n",
    "from keras.layers import Dense\n",
    "from keras.layers import LSTM\n",
    "from keras.layers import Dropout\n",
    "from tensorflow.python import keras\n",
    "from keras.callbacks import EarlyStopping\n",
    "from keras.optimizers import SGD, Adam\n",
    "import tensorflow as tf\n",
    "from keras.layers import LeakyReLU\n",
    "from keras.callbacks import ModelCheckpoint\n",
    "import warnings\n",
    "warnings.filterwarnings('ignore')\n",
    "\n",
    "from sklearn.preprocessing import MinMaxScaler\n",
    "from sklearn.metrics import mean_squared_error\n",
    "from sklearn.metrics import mean_absolute_error\n",
    "\n",
    "np.random.seed(7)"
   ]
  },
  {
   "cell_type": "code",
   "execution_count": 80,
   "metadata": {},
   "outputs": [],
   "source": [
    "path = r\"C:\\Users\\rezan\\Documents\\Master in Applied Data Science\\2nd Year\\MASTER THESIS\\GIT THESIS\\geopy\\france_cleaned\"\n",
    "\n",
    "df = pd.read_csv(path+'\\\\'+'Alsace.csv')\n"
   ]
  },
  {
   "cell_type": "code",
   "execution_count": 81,
   "metadata": {},
   "outputs": [],
   "source": [
    "def make_cyclic_sin(month):\n",
    "    a = np.sin((month-1)*(2.*np.pi/12))\n",
    "    return a\n",
    "def make_cyclic_cos(month):\n",
    "    b = np.cos((month-1)*(2.*np.pi/12))\n",
    "    return b "
   ]
  },
  {
   "cell_type": "code",
   "execution_count": 82,
   "metadata": {},
   "outputs": [],
   "source": [
    "temp_df = df[df['PARAMETER'] == 'T2M']\n",
    "temp_df = temp_df.drop('ANN', axis = 1)\n",
    "#hum_df = data[data['PARAMETER'] == 'RH2M']"
   ]
  },
  {
   "cell_type": "code",
   "execution_count": 83,
   "metadata": {},
   "outputs": [],
   "source": [
    "temp_df = temp_df.rename(columns = {'YEAR':'year','JAN':1, 'FEB':2,'MAR':3, 'APR':4, 'MAY':5,'JUN':6,\n",
    "                         'JUL':7, 'AUG':8, 'SEP':9, 'OCT':10, 'NOV':11, 'DEC':12})\n",
    "temp_df = temp_df.drop(['PARAMETER','LAT','LON'], axis = 1)\n",
    "\n",
    "temp_df.set_index('year', inplace = True)\n",
    "df = pd.concat([temp_df.stack()], axis=1)\n",
    "df.reset_index(inplace = True)\n",
    "\n",
    "df.rename(columns = {'level_1':'month',0:'avg_temp'}, inplace = True)\n",
    "\n",
    "# encoding for months \n",
    "#cyclic encoding from deep learning notebook\n",
    "df['month_sin'] = df['month'].apply(lambda row: make_cyclic_sin(row))\n",
    "df['month_cos'] = df['month'].apply(lambda row: make_cyclic_cos(row))\n",
    "\n",
    "df['date'] = df[['year','month']].astype(str).apply('-'.join, axis=1)\n",
    "\n",
    "df.date = pd.to_datetime(df.date)\n",
    "df = df.set_index('date')"
   ]
  },
  {
   "cell_type": "code",
   "execution_count": 84,
   "metadata": {},
   "outputs": [
    {
     "data": {
      "text/html": [
       "<div>\n",
       "<style scoped>\n",
       "    .dataframe tbody tr th:only-of-type {\n",
       "        vertical-align: middle;\n",
       "    }\n",
       "\n",
       "    .dataframe tbody tr th {\n",
       "        vertical-align: top;\n",
       "    }\n",
       "\n",
       "    .dataframe thead th {\n",
       "        text-align: right;\n",
       "    }\n",
       "</style>\n",
       "<table border=\"1\" class=\"dataframe\">\n",
       "  <thead>\n",
       "    <tr style=\"text-align: right;\">\n",
       "      <th></th>\n",
       "      <th>year</th>\n",
       "      <th>month</th>\n",
       "      <th>avg_temp</th>\n",
       "      <th>month_sin</th>\n",
       "      <th>month_cos</th>\n",
       "    </tr>\n",
       "    <tr>\n",
       "      <th>date</th>\n",
       "      <th></th>\n",
       "      <th></th>\n",
       "      <th></th>\n",
       "      <th></th>\n",
       "      <th></th>\n",
       "    </tr>\n",
       "  </thead>\n",
       "  <tbody>\n",
       "    <tr>\n",
       "      <th>2019-08-01</th>\n",
       "      <td>2019</td>\n",
       "      <td>8</td>\n",
       "      <td>20.02</td>\n",
       "      <td>-0.500000</td>\n",
       "      <td>-8.660254e-01</td>\n",
       "    </tr>\n",
       "    <tr>\n",
       "      <th>2019-09-01</th>\n",
       "      <td>2019</td>\n",
       "      <td>9</td>\n",
       "      <td>15.32</td>\n",
       "      <td>-0.866025</td>\n",
       "      <td>-5.000000e-01</td>\n",
       "    </tr>\n",
       "    <tr>\n",
       "      <th>2019-10-01</th>\n",
       "      <td>2019</td>\n",
       "      <td>10</td>\n",
       "      <td>11.47</td>\n",
       "      <td>-1.000000</td>\n",
       "      <td>-1.836970e-16</td>\n",
       "    </tr>\n",
       "    <tr>\n",
       "      <th>2019-11-01</th>\n",
       "      <td>2019</td>\n",
       "      <td>11</td>\n",
       "      <td>4.60</td>\n",
       "      <td>-0.866025</td>\n",
       "      <td>5.000000e-01</td>\n",
       "    </tr>\n",
       "    <tr>\n",
       "      <th>2019-12-01</th>\n",
       "      <td>2019</td>\n",
       "      <td>12</td>\n",
       "      <td>2.99</td>\n",
       "      <td>-0.500000</td>\n",
       "      <td>8.660254e-01</td>\n",
       "    </tr>\n",
       "  </tbody>\n",
       "</table>\n",
       "</div>"
      ],
      "text/plain": [
       "            year  month  avg_temp  month_sin     month_cos\n",
       "date                                                      \n",
       "2019-08-01  2019      8     20.02  -0.500000 -8.660254e-01\n",
       "2019-09-01  2019      9     15.32  -0.866025 -5.000000e-01\n",
       "2019-10-01  2019     10     11.47  -1.000000 -1.836970e-16\n",
       "2019-11-01  2019     11      4.60  -0.866025  5.000000e-01\n",
       "2019-12-01  2019     12      2.99  -0.500000  8.660254e-01"
      ]
     },
     "execution_count": 84,
     "metadata": {},
     "output_type": "execute_result"
    }
   ],
   "source": [
    "df.tail()"
   ]
  },
  {
   "cell_type": "code",
   "execution_count": 85,
   "metadata": {},
   "outputs": [
    {
     "data": {
      "text/html": [
       "<div>\n",
       "<style scoped>\n",
       "    .dataframe tbody tr th:only-of-type {\n",
       "        vertical-align: middle;\n",
       "    }\n",
       "\n",
       "    .dataframe tbody tr th {\n",
       "        vertical-align: top;\n",
       "    }\n",
       "\n",
       "    .dataframe thead th {\n",
       "        text-align: right;\n",
       "    }\n",
       "</style>\n",
       "<table border=\"1\" class=\"dataframe\">\n",
       "  <thead>\n",
       "    <tr style=\"text-align: right;\">\n",
       "      <th></th>\n",
       "      <th>year</th>\n",
       "      <th>avg_temp</th>\n",
       "      <th>month</th>\n",
       "      <th>month_sin</th>\n",
       "      <th>month_cos</th>\n",
       "    </tr>\n",
       "    <tr>\n",
       "      <th>date</th>\n",
       "      <th></th>\n",
       "      <th></th>\n",
       "      <th></th>\n",
       "      <th></th>\n",
       "      <th></th>\n",
       "    </tr>\n",
       "  </thead>\n",
       "  <tbody>\n",
       "    <tr>\n",
       "      <th>2020-01-01</th>\n",
       "      <td>2020</td>\n",
       "      <td>NaN</td>\n",
       "      <td>1</td>\n",
       "      <td>0.000000</td>\n",
       "      <td>1.000000e+00</td>\n",
       "    </tr>\n",
       "    <tr>\n",
       "      <th>2020-02-01</th>\n",
       "      <td>2020</td>\n",
       "      <td>NaN</td>\n",
       "      <td>2</td>\n",
       "      <td>0.500000</td>\n",
       "      <td>8.660254e-01</td>\n",
       "    </tr>\n",
       "    <tr>\n",
       "      <th>2020-03-01</th>\n",
       "      <td>2020</td>\n",
       "      <td>NaN</td>\n",
       "      <td>3</td>\n",
       "      <td>0.866025</td>\n",
       "      <td>5.000000e-01</td>\n",
       "    </tr>\n",
       "    <tr>\n",
       "      <th>2020-04-01</th>\n",
       "      <td>2020</td>\n",
       "      <td>NaN</td>\n",
       "      <td>4</td>\n",
       "      <td>1.000000</td>\n",
       "      <td>6.123234e-17</td>\n",
       "    </tr>\n",
       "    <tr>\n",
       "      <th>2020-05-01</th>\n",
       "      <td>2020</td>\n",
       "      <td>NaN</td>\n",
       "      <td>5</td>\n",
       "      <td>0.866025</td>\n",
       "      <td>-5.000000e-01</td>\n",
       "    </tr>\n",
       "  </tbody>\n",
       "</table>\n",
       "</div>"
      ],
      "text/plain": [
       "            year  avg_temp  month  month_sin     month_cos\n",
       "date                                                      \n",
       "2020-01-01  2020       NaN      1   0.000000  1.000000e+00\n",
       "2020-02-01  2020       NaN      2   0.500000  8.660254e-01\n",
       "2020-03-01  2020       NaN      3   0.866025  5.000000e-01\n",
       "2020-04-01  2020       NaN      4   1.000000  6.123234e-17\n",
       "2020-05-01  2020       NaN      5   0.866025 -5.000000e-01"
      ]
     },
     "execution_count": 85,
     "metadata": {},
     "output_type": "execute_result"
    }
   ],
   "source": [
    "# add the unlablled data\n",
    "unlabelled_dataset = pd.read_excel('to_predict_mult.xlsx')\n",
    "unlabelled_dataset['date'] = unlabelled_dataset[['year','month']].astype(str).apply('-'.join, axis=1)\n",
    "unlabelled_dataset.date = pd.to_datetime(unlabelled_dataset.date)\n",
    "unlabelled_dataset = unlabelled_dataset.set_index('date')\n",
    "unlabelled_dataset.head()"
   ]
  },
  {
   "cell_type": "code",
   "execution_count": 86,
   "metadata": {},
   "outputs": [],
   "source": [
    "# shifting the avg_temp to t+1 \n",
    "df['avg_temp'] = df['avg_temp'].shift(1)"
   ]
  },
  {
   "cell_type": "code",
   "execution_count": 87,
   "metadata": {},
   "outputs": [],
   "source": [
    "# removing the nan value \n",
    "df = df[1:]"
   ]
  },
  {
   "cell_type": "code",
   "execution_count": 88,
   "metadata": {},
   "outputs": [],
   "source": [
    "# include the other 3 variables including the year, temp (shift to t+1), month_sin, month_cos\n",
    "\n",
    "# 80 percent for the training set and 20 percent for the validation on the labelled data\n",
    "y = df.avg_temp\n",
    "X = df.drop('month', axis =1)\n",
    "valid_and_test_size = 0.1\n",
    "X_train, X_valid, y_train, y_valid = train_test_split(X, y, test_size=valid_and_test_size*2, random_state=42, shuffle=False)"
   ]
  },
  {
   "cell_type": "code",
   "execution_count": 89,
   "metadata": {},
   "outputs": [
    {
     "name": "stdout",
     "output_type": "stream",
     "text": [
      "(373, 4)\n",
      "(373,)\n",
      "(94, 4)\n",
      "(94,)\n"
     ]
    }
   ],
   "source": [
    "print(X_train.shape)\n",
    "print(y_train.shape)\n",
    "print(X_valid.shape)\n",
    "print(y_valid.shape)"
   ]
  },
  {
   "cell_type": "code",
   "execution_count": 90,
   "metadata": {},
   "outputs": [
    {
     "data": {
      "text/html": [
       "<div>\n",
       "<style scoped>\n",
       "    .dataframe tbody tr th:only-of-type {\n",
       "        vertical-align: middle;\n",
       "    }\n",
       "\n",
       "    .dataframe tbody tr th {\n",
       "        vertical-align: top;\n",
       "    }\n",
       "\n",
       "    .dataframe thead th {\n",
       "        text-align: right;\n",
       "    }\n",
       "</style>\n",
       "<table border=\"1\" class=\"dataframe\">\n",
       "  <thead>\n",
       "    <tr style=\"text-align: right;\">\n",
       "      <th></th>\n",
       "      <th>year</th>\n",
       "      <th>avg_temp</th>\n",
       "      <th>month_sin</th>\n",
       "      <th>month_cos</th>\n",
       "    </tr>\n",
       "    <tr>\n",
       "      <th>date</th>\n",
       "      <th></th>\n",
       "      <th></th>\n",
       "      <th></th>\n",
       "      <th></th>\n",
       "    </tr>\n",
       "  </thead>\n",
       "  <tbody>\n",
       "    <tr>\n",
       "      <th>1981-02-01</th>\n",
       "      <td>1981</td>\n",
       "      <td>-2.68</td>\n",
       "      <td>0.500000</td>\n",
       "      <td>8.660254e-01</td>\n",
       "    </tr>\n",
       "    <tr>\n",
       "      <th>1981-03-01</th>\n",
       "      <td>1981</td>\n",
       "      <td>-1.23</td>\n",
       "      <td>0.866025</td>\n",
       "      <td>5.000000e-01</td>\n",
       "    </tr>\n",
       "    <tr>\n",
       "      <th>1981-04-01</th>\n",
       "      <td>1981</td>\n",
       "      <td>6.74</td>\n",
       "      <td>1.000000</td>\n",
       "      <td>6.123234e-17</td>\n",
       "    </tr>\n",
       "    <tr>\n",
       "      <th>1981-05-01</th>\n",
       "      <td>1981</td>\n",
       "      <td>8.99</td>\n",
       "      <td>0.866025</td>\n",
       "      <td>-5.000000e-01</td>\n",
       "    </tr>\n",
       "    <tr>\n",
       "      <th>1981-06-01</th>\n",
       "      <td>1981</td>\n",
       "      <td>12.46</td>\n",
       "      <td>0.500000</td>\n",
       "      <td>-8.660254e-01</td>\n",
       "    </tr>\n",
       "  </tbody>\n",
       "</table>\n",
       "</div>"
      ],
      "text/plain": [
       "            year  avg_temp  month_sin     month_cos\n",
       "date                                               \n",
       "1981-02-01  1981     -2.68   0.500000  8.660254e-01\n",
       "1981-03-01  1981     -1.23   0.866025  5.000000e-01\n",
       "1981-04-01  1981      6.74   1.000000  6.123234e-17\n",
       "1981-05-01  1981      8.99   0.866025 -5.000000e-01\n",
       "1981-06-01  1981     12.46   0.500000 -8.660254e-01"
      ]
     },
     "execution_count": 90,
     "metadata": {},
     "output_type": "execute_result"
    }
   ],
   "source": [
    "X_train.head()"
   ]
  },
  {
   "cell_type": "code",
   "execution_count": 91,
   "metadata": {},
   "outputs": [],
   "source": [
    "# from series convert to array\n",
    "y_train = y_train.values.reshape(len(y_train),1)\n",
    "#y_test = y_test.values.reshape(len(y_test),1)\n",
    "y_valid = y_valid.values.reshape(len(y_valid),1)"
   ]
  },
  {
   "cell_type": "code",
   "execution_count": null,
   "metadata": {},
   "outputs": [],
   "source": []
  },
  {
   "cell_type": "code",
   "execution_count": 14,
   "metadata": {},
   "outputs": [],
   "source": [
    "# normalize using minmax scaler\n",
    "scaler = MinMaxScaler()\n",
    "scaler_y = MinMaxScaler()\n",
    "\n",
    "X_train[['year','avg_temp','month_cos','month_sin']] = scaler.fit_transform(X_train)\n",
    "X_valid[['year','avg_temp','month_cos','month_sin']] = scaler.fit_transform(X_valid)\n",
    "X_test[['YEAR','avg_temp','month_sin','month_cos']] = scaler.fit_transform(X_test)\n",
    "y_train = scaler.fit_transform(y_train)\n",
    "#y_test = scaler.fit_transform(y_test)\n",
    "y_valid = scaler.fit_transform(y_valid)"
   ]
  },
  {
   "cell_type": "code",
   "execution_count": 15,
   "metadata": {},
   "outputs": [
    {
     "data": {
      "text/html": [
       "<div>\n",
       "<style scoped>\n",
       "    .dataframe tbody tr th:only-of-type {\n",
       "        vertical-align: middle;\n",
       "    }\n",
       "\n",
       "    .dataframe tbody tr th {\n",
       "        vertical-align: top;\n",
       "    }\n",
       "\n",
       "    .dataframe thead th {\n",
       "        text-align: right;\n",
       "    }\n",
       "</style>\n",
       "<table border=\"1\" class=\"dataframe\">\n",
       "  <thead>\n",
       "    <tr style=\"text-align: right;\">\n",
       "      <th></th>\n",
       "      <th>year</th>\n",
       "      <th>avg_temp</th>\n",
       "      <th>month_sin</th>\n",
       "      <th>month_cos</th>\n",
       "    </tr>\n",
       "    <tr>\n",
       "      <th>date</th>\n",
       "      <th></th>\n",
       "      <th></th>\n",
       "      <th></th>\n",
       "      <th></th>\n",
       "    </tr>\n",
       "  </thead>\n",
       "  <tbody>\n",
       "    <tr>\n",
       "      <th>2011-10-01</th>\n",
       "      <td>0.967742</td>\n",
       "      <td>0.747300</td>\n",
       "      <td>0.500000</td>\n",
       "      <td>0.000000</td>\n",
       "    </tr>\n",
       "    <tr>\n",
       "      <th>2011-11-01</th>\n",
       "      <td>0.967742</td>\n",
       "      <td>0.532242</td>\n",
       "      <td>0.750000</td>\n",
       "      <td>0.066987</td>\n",
       "    </tr>\n",
       "    <tr>\n",
       "      <th>2011-12-01</th>\n",
       "      <td>0.967742</td>\n",
       "      <td>0.391489</td>\n",
       "      <td>0.933013</td>\n",
       "      <td>0.250000</td>\n",
       "    </tr>\n",
       "    <tr>\n",
       "      <th>2012-01-01</th>\n",
       "      <td>1.000000</td>\n",
       "      <td>0.316530</td>\n",
       "      <td>1.000000</td>\n",
       "      <td>0.500000</td>\n",
       "    </tr>\n",
       "    <tr>\n",
       "      <th>2012-02-01</th>\n",
       "      <td>1.000000</td>\n",
       "      <td>0.270704</td>\n",
       "      <td>0.933013</td>\n",
       "      <td>0.750000</td>\n",
       "    </tr>\n",
       "  </tbody>\n",
       "</table>\n",
       "</div>"
      ],
      "text/plain": [
       "                year  avg_temp  month_sin  month_cos\n",
       "date                                                \n",
       "2011-10-01  0.967742  0.747300   0.500000   0.000000\n",
       "2011-11-01  0.967742  0.532242   0.750000   0.066987\n",
       "2011-12-01  0.967742  0.391489   0.933013   0.250000\n",
       "2012-01-01  1.000000  0.316530   1.000000   0.500000\n",
       "2012-02-01  1.000000  0.270704   0.933013   0.750000"
      ]
     },
     "execution_count": 15,
     "metadata": {},
     "output_type": "execute_result"
    }
   ],
   "source": [
    "X_train.tail()"
   ]
  },
  {
   "cell_type": "code",
   "execution_count": 16,
   "metadata": {},
   "outputs": [
    {
     "data": {
      "text/plain": [
       "(373, 1)"
      ]
     },
     "execution_count": 16,
     "metadata": {},
     "output_type": "execute_result"
    }
   ],
   "source": [
    "y_train.shape"
   ]
  },
  {
   "cell_type": "code",
   "execution_count": 17,
   "metadata": {},
   "outputs": [
    {
     "data": {
      "text/html": [
       "<div>\n",
       "<style scoped>\n",
       "    .dataframe tbody tr th:only-of-type {\n",
       "        vertical-align: middle;\n",
       "    }\n",
       "\n",
       "    .dataframe tbody tr th {\n",
       "        vertical-align: top;\n",
       "    }\n",
       "\n",
       "    .dataframe thead th {\n",
       "        text-align: right;\n",
       "    }\n",
       "</style>\n",
       "<table border=\"1\" class=\"dataframe\">\n",
       "  <thead>\n",
       "    <tr style=\"text-align: right;\">\n",
       "      <th></th>\n",
       "      <th>year</th>\n",
       "      <th>avg_temp</th>\n",
       "      <th>month_sin</th>\n",
       "      <th>month_cos</th>\n",
       "    </tr>\n",
       "    <tr>\n",
       "      <th>date</th>\n",
       "      <th></th>\n",
       "      <th></th>\n",
       "      <th></th>\n",
       "      <th></th>\n",
       "    </tr>\n",
       "  </thead>\n",
       "  <tbody>\n",
       "    <tr>\n",
       "      <th>2019-08-01</th>\n",
       "      <td>1.0</td>\n",
       "      <td>0.981673</td>\n",
       "      <td>0.066987</td>\n",
       "      <td>0.250000</td>\n",
       "    </tr>\n",
       "    <tr>\n",
       "      <th>2019-09-01</th>\n",
       "      <td>1.0</td>\n",
       "      <td>0.944622</td>\n",
       "      <td>0.250000</td>\n",
       "      <td>0.066987</td>\n",
       "    </tr>\n",
       "    <tr>\n",
       "      <th>2019-10-01</th>\n",
       "      <td>1.0</td>\n",
       "      <td>0.757371</td>\n",
       "      <td>0.500000</td>\n",
       "      <td>0.000000</td>\n",
       "    </tr>\n",
       "    <tr>\n",
       "      <th>2019-11-01</th>\n",
       "      <td>1.0</td>\n",
       "      <td>0.603984</td>\n",
       "      <td>0.750000</td>\n",
       "      <td>0.066987</td>\n",
       "    </tr>\n",
       "    <tr>\n",
       "      <th>2019-12-01</th>\n",
       "      <td>1.0</td>\n",
       "      <td>0.330279</td>\n",
       "      <td>0.933013</td>\n",
       "      <td>0.250000</td>\n",
       "    </tr>\n",
       "  </tbody>\n",
       "</table>\n",
       "</div>"
      ],
      "text/plain": [
       "            year  avg_temp  month_sin  month_cos\n",
       "date                                            \n",
       "2019-08-01   1.0  0.981673   0.066987   0.250000\n",
       "2019-09-01   1.0  0.944622   0.250000   0.066987\n",
       "2019-10-01   1.0  0.757371   0.500000   0.000000\n",
       "2019-11-01   1.0  0.603984   0.750000   0.066987\n",
       "2019-12-01   1.0  0.330279   0.933013   0.250000"
      ]
     },
     "execution_count": 17,
     "metadata": {},
     "output_type": "execute_result"
    }
   ],
   "source": [
    "X_valid.tail()"
   ]
  },
  {
   "cell_type": "code",
   "execution_count": 18,
   "metadata": {},
   "outputs": [
    {
     "data": {
      "text/plain": [
       "(94, 1)"
      ]
     },
     "execution_count": 18,
     "metadata": {},
     "output_type": "execute_result"
    }
   ],
   "source": [
    "y_valid.shape"
   ]
  },
  {
   "cell_type": "code",
   "execution_count": 19,
   "metadata": {},
   "outputs": [],
   "source": [
    "look_back=12\n",
    "FORECAST_DISTANCE=1 # forecast on the next month\n",
    "n_features = len(X_train.columns)\n"
   ]
  },
  {
   "cell_type": "code",
   "execution_count": 20,
   "metadata": {},
   "outputs": [],
   "source": [
    "from seglearn.transform import FeatureRep, SegmentXYForecast, last"
   ]
  },
  {
   "cell_type": "code",
   "execution_count": 21,
   "metadata": {},
   "outputs": [],
   "source": [
    "segmenter = SegmentXYForecast(width=look_back, step=1, y_func=last, forecast=FORECAST_DISTANCE) "
   ]
  },
  {
   "cell_type": "code",
   "execution_count": 22,
   "metadata": {},
   "outputs": [],
   "source": [
    "# the segmenter will segment the data according to the parameters set.\n",
    "X_train_rolled, y_train_rolled,_=segmenter.fit_transform([X_train.values],[y_train.flatten()])\n",
    "X_valid_rolled, y_valid_rolled,_=segmenter.fit_transform([X_valid.values],[y_valid.flatten()])"
   ]
  },
  {
   "cell_type": "code",
   "execution_count": 23,
   "metadata": {},
   "outputs": [
    {
     "data": {
      "text/plain": [
       "(361, 12, 4)"
      ]
     },
     "execution_count": 23,
     "metadata": {},
     "output_type": "execute_result"
    }
   ],
   "source": [
    "X_train_rolled.shape"
   ]
  },
  {
   "cell_type": "code",
   "execution_count": 24,
   "metadata": {},
   "outputs": [
    {
     "data": {
      "text/plain": [
       "(361,)"
      ]
     },
     "execution_count": 24,
     "metadata": {},
     "output_type": "execute_result"
    }
   ],
   "source": [
    "y_train_rolled.shape"
   ]
  },
  {
   "cell_type": "code",
   "execution_count": 25,
   "metadata": {},
   "outputs": [
    {
     "data": {
      "text/plain": [
       "(82, 12, 4)"
      ]
     },
     "execution_count": 25,
     "metadata": {},
     "output_type": "execute_result"
    }
   ],
   "source": [
    "X_valid_rolled.shape"
   ]
  },
  {
   "cell_type": "code",
   "execution_count": 26,
   "metadata": {},
   "outputs": [
    {
     "data": {
      "text/plain": [
       "(82,)"
      ]
     },
     "execution_count": 26,
     "metadata": {},
     "output_type": "execute_result"
    }
   ],
   "source": [
    "y_valid_rolled.shape"
   ]
  },
  {
   "cell_type": "code",
   "execution_count": 27,
   "metadata": {},
   "outputs": [],
   "source": [
    "#####"
   ]
  },
  {
   "cell_type": "code",
   "execution_count": 28,
   "metadata": {},
   "outputs": [
    {
     "name": "stdout",
     "output_type": "stream",
     "text": [
      "Train on 361 samples, validate on 82 samples\n",
      "Epoch 1/30\n",
      "361/361 [==============================] - 1s 3ms/step - loss: 0.1636 - val_loss: 0.0739\n",
      "\n",
      "Epoch 00001: val_loss improved from inf to 0.07393, saving model to best_model_mult_test.h5\n",
      "Epoch 2/30\n",
      "361/361 [==============================] - 1s 2ms/step - loss: 0.0422 - val_loss: 0.0490\n",
      "\n",
      "Epoch 00002: val_loss improved from 0.07393 to 0.04896, saving model to best_model_mult_test.h5\n",
      "Epoch 3/30\n",
      "361/361 [==============================] - 1s 2ms/step - loss: 0.0246 - val_loss: 0.0283\n",
      "\n",
      "Epoch 00003: val_loss improved from 0.04896 to 0.02829, saving model to best_model_mult_test.h5\n",
      "Epoch 4/30\n",
      "361/361 [==============================] - 1s 2ms/step - loss: 0.0136 - val_loss: 0.0155\n",
      "\n",
      "Epoch 00004: val_loss improved from 0.02829 to 0.01551, saving model to best_model_mult_test.h5\n",
      "Epoch 5/30\n",
      "361/361 [==============================] - 1s 2ms/step - loss: 0.0083 - val_loss: 0.0120\n",
      "\n",
      "Epoch 00005: val_loss improved from 0.01551 to 0.01202, saving model to best_model_mult_test.h5\n",
      "Epoch 6/30\n",
      "361/361 [==============================] - 1s 2ms/step - loss: 0.0060 - val_loss: 0.0086\n",
      "\n",
      "Epoch 00006: val_loss improved from 0.01202 to 0.00860, saving model to best_model_mult_test.h5\n",
      "Epoch 7/30\n",
      "361/361 [==============================] - 1s 2ms/step - loss: 0.0072 - val_loss: 0.0084\n",
      "\n",
      "Epoch 00007: val_loss improved from 0.00860 to 0.00836, saving model to best_model_mult_test.h5\n",
      "Epoch 8/30\n",
      "361/361 [==============================] - 1s 2ms/step - loss: 0.0051 - val_loss: 0.0080\n",
      "\n",
      "Epoch 00008: val_loss improved from 0.00836 to 0.00799, saving model to best_model_mult_test.h5\n",
      "Epoch 9/30\n",
      "361/361 [==============================] - 1s 2ms/step - loss: 0.0041 - val_loss: 0.0080\n",
      "\n",
      "Epoch 00009: val_loss improved from 0.00799 to 0.00797, saving model to best_model_mult_test.h5\n",
      "Epoch 10/30\n",
      "361/361 [==============================] - 1s 2ms/step - loss: 0.0041 - val_loss: 0.0078\n",
      "\n",
      "Epoch 00010: val_loss improved from 0.00797 to 0.00776, saving model to best_model_mult_test.h5\n",
      "Epoch 11/30\n",
      "361/361 [==============================] - 1s 2ms/step - loss: 0.0039 - val_loss: 0.0077\n",
      "\n",
      "Epoch 00011: val_loss improved from 0.00776 to 0.00765, saving model to best_model_mult_test.h5\n",
      "Epoch 12/30\n",
      "361/361 [==============================] - 1s 2ms/step - loss: 0.0072 - val_loss: 0.0073\n",
      "\n",
      "Epoch 00012: val_loss improved from 0.00765 to 0.00730, saving model to best_model_mult_test.h5\n",
      "Epoch 13/30\n",
      "361/361 [==============================] - 1s 2ms/step - loss: 0.0064 - val_loss: 0.0078\n",
      "\n",
      "Epoch 00013: val_loss did not improve from 0.00730\n",
      "Epoch 14/30\n",
      "361/361 [==============================] - 1s 2ms/step - loss: 0.0040 - val_loss: 0.0078\n",
      "\n",
      "Epoch 00014: val_loss did not improve from 0.00730\n",
      "Epoch 15/30\n",
      "361/361 [==============================] - 1s 2ms/step - loss: 0.0042 - val_loss: 0.0073\n",
      "\n",
      "Epoch 00015: val_loss improved from 0.00730 to 0.00728, saving model to best_model_mult_test.h5\n",
      "Epoch 16/30\n",
      "361/361 [==============================] - 1s 2ms/step - loss: 0.0067 - val_loss: 0.0102\n",
      "\n",
      "Epoch 00016: val_loss did not improve from 0.00728\n",
      "Epoch 17/30\n",
      "361/361 [==============================] - 1s 2ms/step - loss: 0.0057 - val_loss: 0.0076\n",
      "\n",
      "Epoch 00017: val_loss did not improve from 0.00728\n",
      "Epoch 18/30\n",
      "361/361 [==============================] - 1s 2ms/step - loss: 0.0048 - val_loss: 0.0109\n",
      "\n",
      "Epoch 00018: val_loss did not improve from 0.00728\n",
      "Epoch 19/30\n",
      "361/361 [==============================] - 1s 2ms/step - loss: 0.0045 - val_loss: 0.0097\n",
      "\n",
      "Epoch 00019: val_loss did not improve from 0.00728\n",
      "Epoch 20/30\n",
      "361/361 [==============================] - 1s 2ms/step - loss: 0.0049 - val_loss: 0.0105\n",
      "\n",
      "Epoch 00020: val_loss did not improve from 0.00728\n",
      "Epoch 00020: early stopping\n"
     ]
    }
   ],
   "source": [
    "BATCH_SIZE = 5\n",
    "EPOCHS = 30\n",
    "DROPOUT_RATE= 0.01\n",
    "LSTM_UNIT_SIZE = 5\n",
    "\n",
    "# Build the model \n",
    "model = Sequential()\n",
    "model.add(LSTM(LSTM_UNIT_SIZE, activation = 'relu',input_shape = (look_back, n_features)))\n",
    "model.add(Dropout(DROPOUT_RATE))\n",
    "model.add(Dense(1))\n",
    "\n",
    "\n",
    "#compile the model\n",
    "#opt = Adam(lr=0.01, clipnorm=1.0)\n",
    "#model.compile(loss='mean_squared_error', optimizer=opt)\n",
    "model.compile(optimizer = 'adam', loss = 'mse')\n",
    "\n",
    "# fit the model\n",
    "\n",
    "es = EarlyStopping(monitor='val_loss', mode='min', verbose=1, patience = 5)\n",
    "mc = ModelCheckpoint('best_model_mult_test.h5', monitor='val_loss', mode='min', verbose=1, save_best_only=True)\n",
    "                    \n",
    "history = model.fit(X_train_rolled, y_train_rolled, batch_size = BATCH_SIZE, epochs = EPOCHS, validation_data = (X_valid_rolled,y_valid_rolled), callbacks = [es,mc]) #, callbacks = es"
   ]
  },
  {
   "cell_type": "code",
   "execution_count": 29,
   "metadata": {},
   "outputs": [
    {
     "data": {
      "image/png": "[encoded data removed]",
      "text/plain": [
       "<Figure size 432x288 with 1 Axes>"
      ]
     },
     "metadata": {
      "needs_background": "light"
     },
     "output_type": "display_data"
    }
   ],
   "source": [
    "plt.plot(history.history['loss'], label='train')\n",
    "plt.plot(history.history['val_loss'], label='validation')\n",
    "plt.legend()\n",
    "plt.show()"
   ]
  },
  {
   "cell_type": "code",
   "execution_count": 30,
   "metadata": {},
   "outputs": [],
   "source": [
    "# get the saved model \n",
    "\n",
    "from keras.models import load_model\n",
    "saved_model = load_model('best_model_mult_test.h5')"
   ]
  },
  {
   "cell_type": "code",
   "execution_count": 31,
   "metadata": {},
   "outputs": [],
   "source": [
    "train_predict = saved_model.predict(X_train_rolled) "
   ]
  },
  {
   "cell_type": "code",
   "execution_count": 32,
   "metadata": {},
   "outputs": [
    {
     "data": {
      "text/plain": [
       "(361, 1)"
      ]
     },
     "execution_count": 32,
     "metadata": {},
     "output_type": "execute_result"
    }
   ],
   "source": [
    "train_predict.shape"
   ]
  },
  {
   "cell_type": "code",
   "execution_count": 33,
   "metadata": {},
   "outputs": [],
   "source": [
    "train_predict_orig = scaler.inverse_transform(train_predict)"
   ]
  },
  {
   "cell_type": "code",
   "execution_count": 34,
   "metadata": {},
   "outputs": [],
   "source": [
    "test_predict_valid = saved_model.predict(X_valid_rolled)"
   ]
  },
  {
   "cell_type": "code",
   "execution_count": 35,
   "metadata": {},
   "outputs": [
    {
     "data": {
      "text/plain": [
       "(82, 1)"
      ]
     },
     "execution_count": 35,
     "metadata": {},
     "output_type": "execute_result"
    }
   ],
   "source": [
    "test_predict_valid.shape"
   ]
  },
  {
   "cell_type": "code",
   "execution_count": 36,
   "metadata": {},
   "outputs": [],
   "source": [
    "test_predict_valid_origina = scaler.inverse_transform(test_predict_valid)"
   ]
  },
  {
   "cell_type": "code",
   "execution_count": 37,
   "metadata": {},
   "outputs": [],
   "source": [
    "y_train = scaler.inverse_transform([y_train_rolled]) # to get the true value\n",
    "y_valid = scaler.inverse_transform([y_valid_rolled])"
   ]
  },
  {
   "cell_type": "code",
   "execution_count": 38,
   "metadata": {},
   "outputs": [
    {
     "name": "stdout",
     "output_type": "stream",
     "text": [
      "Train Mean Absolute Error: 1.1588053195294863\n",
      "Train Root Mean Squared Error: 1.4704159738354468\n",
      "valid Mean Absolute Error: 1.7854815761635943\n",
      "valid Root Mean Squared Error: 2.1414877225985056\n",
      "\n",
      "\n"
     ]
    }
   ],
   "source": [
    "print('Train Mean Absolute Error:', mean_absolute_error(y_train[0], train_predict_orig[:,0]))\n",
    "print('Train Root Mean Squared Error:',np.sqrt(mean_squared_error(y_train[0], train_predict_orig[:,0])))\n",
    "print('valid Mean Absolute Error:', mean_absolute_error(y_valid[0], test_predict_valid_origina[:,0]))\n",
    "print('valid Root Mean Squared Error:',np.sqrt(mean_squared_error(y_valid[0], test_predict_valid_origina[:,0])))\n",
    "print('\\n')"
   ]
  },
  {
   "cell_type": "code",
   "execution_count": 39,
   "metadata": {},
   "outputs": [
    {
     "data": {
      "image/png": "[encoded data removed]",
      "text/plain": [
       "<Figure size 576x288 with 1 Axes>"
      ]
     },
     "metadata": {
      "needs_background": "light"
     },
     "output_type": "display_data"
    }
   ],
   "source": [
    "# validation\n",
    "\n",
    "import seaborn as sns\n",
    "\n",
    "aa=[x for x in range(24)]\n",
    "plt.figure(figsize=(8,4))\n",
    "plt.plot(aa, y_valid[0][:24], marker='.', label=\"actual\") \n",
    "plt.plot(aa, test_predict_valid_origina[:,0][:24], 'r', label=\"prediction for the valid\")\n",
    "# plt.tick_params(left=False, labelleft=True) #remove ticks\n",
    "plt.tight_layout()\n",
    "sns.despine(top=True)\n",
    "plt.subplots_adjust(left=0.07)\n",
    "plt.ylabel('Temp', size=15)\n",
    "plt.xlabel('Time step', size=15)\n",
    "plt.legend(fontsize=15)\n",
    "plt.show();"
   ]
  },
  {
   "cell_type": "code",
   "execution_count": 40,
   "metadata": {},
   "outputs": [
    {
     "data": {
      "image/png": "[encoded data removed]",
      "text/plain": [
       "<Figure size 576x288 with 1 Axes>"
      ]
     },
     "metadata": {
      "needs_background": "light"
     },
     "output_type": "display_data"
    }
   ],
   "source": [
    "\n",
    "# training\n",
    "\n",
    "import seaborn as sns\n",
    "\n",
    "aa=[x for x in range(24)]\n",
    "plt.figure(figsize=(8,4))\n",
    "plt.plot(aa, y_train[0][:24], marker='.', label=\"actual\") \n",
    "plt.plot(aa, train_predict_orig[:,0][:24], 'r', label=\"prediction for the valid\")\n",
    "# plt.tick_params(left=False, labelleft=True) #remove ticks\n",
    "plt.tight_layout()\n",
    "sns.despine(top=True)\n",
    "plt.subplots_adjust(left=0.07)\n",
    "plt.ylabel('Temp', size=15)\n",
    "plt.xlabel('Time step', size=15)\n",
    "plt.legend(fontsize=15)\n",
    "plt.show();"
   ]
  },
  {
   "cell_type": "code",
   "execution_count": 41,
   "metadata": {},
   "outputs": [],
   "source": [
    "# plot residuals for training\n",
    "original_y_train_df = y_train.reshape(-1,1)\n",
    "original_y_train =  pd.DataFrame(original_y_train_df).rename(columns = {0:'y'}) \n",
    "prediction_train = pd.DataFrame(train_predict_orig).rename(columns = {0:'y_hat'}) \n",
    "df_residual_train = pd.concat([original_y_train,prediction_train], axis = 1)\n",
    "df_residual_train['residual'] = df_residual_train['y'] - df_residual_train['y_hat']"
   ]
  },
  {
   "cell_type": "code",
   "execution_count": 42,
   "metadata": {},
   "outputs": [
    {
     "data": {
      "text/plain": [
       "<matplotlib.axes._subplots.AxesSubplot at 0x1c48b110c88>"
      ]
     },
     "execution_count": 42,
     "metadata": {},
     "output_type": "execute_result"
    },
    {
     "data": {
      "image/png": "[encoded data removed]",
      "text/plain": [
       "<Figure size 432x288 with 1 Axes>"
      ]
     },
     "metadata": {
      "needs_background": "light"
     },
     "output_type": "display_data"
    }
   ],
   "source": [
    "# plot residuals for training\n",
    "sns_plot = sns.residplot(x ='y_hat', y = 'y', data = df_residual_train, color = 'blue')\n",
    "sns_plot"
   ]
  },
  {
   "cell_type": "code",
   "execution_count": 43,
   "metadata": {},
   "outputs": [],
   "source": [
    "# plot residuals for validation \n",
    "# plot residuals for training\n",
    "original_y_valid_df = y_valid.reshape(-1,1)\n",
    "original_y_valid =  pd.DataFrame(original_y_valid_df).rename(columns = {0:'y'}) \n",
    "prediction_valid = pd.DataFrame(test_predict_valid_origina).rename(columns = {0:'y_hat'}) \n",
    "df_residual_valid = pd.concat([original_y_valid,prediction_valid], axis = 1)\n",
    "df_residual_valid['residual'] = df_residual_valid['y'] - df_residual_valid['y_hat']\n"
   ]
  },
  {
   "cell_type": "code",
   "execution_count": 44,
   "metadata": {},
   "outputs": [
    {
     "data": {
      "text/plain": [
       "<matplotlib.axes._subplots.AxesSubplot at 0x1c48b504160>"
      ]
     },
     "execution_count": 44,
     "metadata": {},
     "output_type": "execute_result"
    },
    {
     "data": {
      "image/png": "[encoded data removed]",
      "text/plain": [
       "<Figure size 432x288 with 1 Axes>"
      ]
     },
     "metadata": {
      "needs_background": "light"
     },
     "output_type": "display_data"
    }
   ],
   "source": [
    "sns_plot_valid = sns.residplot(x ='y_hat', y = 'y', data = df_residual_valid, color = 'green')\n",
    "sns_plot_valid"
   ]
  },
  {
   "cell_type": "code",
   "execution_count": null,
   "metadata": {},
   "outputs": [],
   "source": []
  },
  {
   "cell_type": "code",
   "execution_count": null,
   "metadata": {},
   "outputs": [],
   "source": []
  },
  {
   "cell_type": "code",
   "execution_count": null,
   "metadata": {},
   "outputs": [],
   "source": []
  },
  {
   "cell_type": "code",
   "execution_count": null,
   "metadata": {},
   "outputs": [],
   "source": []
  },
  {
   "cell_type": "code",
   "execution_count": null,
   "metadata": {},
   "outputs": [],
   "source": []
  },
  {
   "cell_type": "markdown",
   "metadata": {},
   "source": [
    "# Predicting the future dates "
   ]
  },
  {
   "cell_type": "code",
   "execution_count": 68,
   "metadata": {},
   "outputs": [],
   "source": [
    "test = X_valid.tail(12)"
   ]
  },
  {
   "cell_type": "code",
   "execution_count": 69,
   "metadata": {},
   "outputs": [
    {
     "data": {
      "text/html": [
       "<div>\n",
       "<style scoped>\n",
       "    .dataframe tbody tr th:only-of-type {\n",
       "        vertical-align: middle;\n",
       "    }\n",
       "\n",
       "    .dataframe tbody tr th {\n",
       "        vertical-align: top;\n",
       "    }\n",
       "\n",
       "    .dataframe thead th {\n",
       "        text-align: right;\n",
       "    }\n",
       "</style>\n",
       "<table border=\"1\" class=\"dataframe\">\n",
       "  <thead>\n",
       "    <tr style=\"text-align: right;\">\n",
       "      <th></th>\n",
       "      <th>year</th>\n",
       "      <th>avg_temp</th>\n",
       "      <th>month_sin</th>\n",
       "      <th>month_cos</th>\n",
       "    </tr>\n",
       "    <tr>\n",
       "      <th>date</th>\n",
       "      <th></th>\n",
       "      <th></th>\n",
       "      <th></th>\n",
       "      <th></th>\n",
       "    </tr>\n",
       "  </thead>\n",
       "  <tbody>\n",
       "    <tr>\n",
       "      <th>2019-01-01</th>\n",
       "      <td>1.0</td>\n",
       "      <td>0.263745</td>\n",
       "      <td>1.000000</td>\n",
       "      <td>0.500000</td>\n",
       "    </tr>\n",
       "    <tr>\n",
       "      <th>2019-02-01</th>\n",
       "      <td>1.0</td>\n",
       "      <td>0.131474</td>\n",
       "      <td>0.933013</td>\n",
       "      <td>0.750000</td>\n",
       "    </tr>\n",
       "    <tr>\n",
       "      <th>2019-03-01</th>\n",
       "      <td>1.0</td>\n",
       "      <td>0.272510</td>\n",
       "      <td>0.750000</td>\n",
       "      <td>0.933013</td>\n",
       "    </tr>\n",
       "    <tr>\n",
       "      <th>2019-04-01</th>\n",
       "      <td>1.0</td>\n",
       "      <td>0.409562</td>\n",
       "      <td>0.500000</td>\n",
       "      <td>1.000000</td>\n",
       "    </tr>\n",
       "    <tr>\n",
       "      <th>2019-05-01</th>\n",
       "      <td>1.0</td>\n",
       "      <td>0.509960</td>\n",
       "      <td>0.250000</td>\n",
       "      <td>0.933013</td>\n",
       "    </tr>\n",
       "    <tr>\n",
       "      <th>2019-06-01</th>\n",
       "      <td>1.0</td>\n",
       "      <td>0.599203</td>\n",
       "      <td>0.066987</td>\n",
       "      <td>0.750000</td>\n",
       "    </tr>\n",
       "    <tr>\n",
       "      <th>2019-07-01</th>\n",
       "      <td>1.0</td>\n",
       "      <td>0.934263</td>\n",
       "      <td>0.000000</td>\n",
       "      <td>0.500000</td>\n",
       "    </tr>\n",
       "    <tr>\n",
       "      <th>2019-08-01</th>\n",
       "      <td>1.0</td>\n",
       "      <td>0.981673</td>\n",
       "      <td>0.066987</td>\n",
       "      <td>0.250000</td>\n",
       "    </tr>\n",
       "    <tr>\n",
       "      <th>2019-09-01</th>\n",
       "      <td>1.0</td>\n",
       "      <td>0.944622</td>\n",
       "      <td>0.250000</td>\n",
       "      <td>0.066987</td>\n",
       "    </tr>\n",
       "    <tr>\n",
       "      <th>2019-10-01</th>\n",
       "      <td>1.0</td>\n",
       "      <td>0.757371</td>\n",
       "      <td>0.500000</td>\n",
       "      <td>0.000000</td>\n",
       "    </tr>\n",
       "    <tr>\n",
       "      <th>2019-11-01</th>\n",
       "      <td>1.0</td>\n",
       "      <td>0.603984</td>\n",
       "      <td>0.750000</td>\n",
       "      <td>0.066987</td>\n",
       "    </tr>\n",
       "    <tr>\n",
       "      <th>2019-12-01</th>\n",
       "      <td>1.0</td>\n",
       "      <td>0.330279</td>\n",
       "      <td>0.933013</td>\n",
       "      <td>0.250000</td>\n",
       "    </tr>\n",
       "  </tbody>\n",
       "</table>\n",
       "</div>"
      ],
      "text/plain": [
       "            year  avg_temp  month_sin  month_cos\n",
       "date                                            \n",
       "2019-01-01   1.0  0.263745   1.000000   0.500000\n",
       "2019-02-01   1.0  0.131474   0.933013   0.750000\n",
       "2019-03-01   1.0  0.272510   0.750000   0.933013\n",
       "2019-04-01   1.0  0.409562   0.500000   1.000000\n",
       "2019-05-01   1.0  0.509960   0.250000   0.933013\n",
       "2019-06-01   1.0  0.599203   0.066987   0.750000\n",
       "2019-07-01   1.0  0.934263   0.000000   0.500000\n",
       "2019-08-01   1.0  0.981673   0.066987   0.250000\n",
       "2019-09-01   1.0  0.944622   0.250000   0.066987\n",
       "2019-10-01   1.0  0.757371   0.500000   0.000000\n",
       "2019-11-01   1.0  0.603984   0.750000   0.066987\n",
       "2019-12-01   1.0  0.330279   0.933013   0.250000"
      ]
     },
     "execution_count": 69,
     "metadata": {},
     "output_type": "execute_result"
    }
   ],
   "source": [
    "test"
   ]
  },
  {
   "cell_type": "code",
   "execution_count": 70,
   "metadata": {},
   "outputs": [],
   "source": [
    "no_label = unlabelled_dataset[['year','avg_temp','month_sin','month_cos']]"
   ]
  },
  {
   "cell_type": "code",
   "execution_count": 71,
   "metadata": {},
   "outputs": [],
   "source": [
    "no_label[['year','avg_temp','month_sin','month_cos']] = scaler.transform(no_label)"
   ]
  },
  {
   "cell_type": "code",
   "execution_count": 72,
   "metadata": {},
   "outputs": [],
   "source": [
    "unlabelled_df = pd.concat([test,no_label])"
   ]
  },
  {
   "cell_type": "code",
   "execution_count": 73,
   "metadata": {
    "scrolled": true
   },
   "outputs": [
    {
     "data": {
      "text/html": [
       "<div>\n",
       "<style scoped>\n",
       "    .dataframe tbody tr th:only-of-type {\n",
       "        vertical-align: middle;\n",
       "    }\n",
       "\n",
       "    .dataframe tbody tr th {\n",
       "        vertical-align: top;\n",
       "    }\n",
       "\n",
       "    .dataframe thead th {\n",
       "        text-align: right;\n",
       "    }\n",
       "</style>\n",
       "<table border=\"1\" class=\"dataframe\">\n",
       "  <thead>\n",
       "    <tr style=\"text-align: right;\">\n",
       "      <th></th>\n",
       "      <th>year</th>\n",
       "      <th>avg_temp</th>\n",
       "      <th>month_sin</th>\n",
       "      <th>month_cos</th>\n",
       "    </tr>\n",
       "    <tr>\n",
       "      <th>date</th>\n",
       "      <th></th>\n",
       "      <th></th>\n",
       "      <th></th>\n",
       "      <th></th>\n",
       "    </tr>\n",
       "  </thead>\n",
       "  <tbody>\n",
       "    <tr>\n",
       "      <th>2019-01-01</th>\n",
       "      <td>1.00000</td>\n",
       "      <td>0.263745</td>\n",
       "      <td>1.000000</td>\n",
       "      <td>0.500000</td>\n",
       "    </tr>\n",
       "    <tr>\n",
       "      <th>2019-02-01</th>\n",
       "      <td>1.00000</td>\n",
       "      <td>0.131474</td>\n",
       "      <td>0.933013</td>\n",
       "      <td>0.750000</td>\n",
       "    </tr>\n",
       "    <tr>\n",
       "      <th>2019-03-01</th>\n",
       "      <td>1.00000</td>\n",
       "      <td>0.272510</td>\n",
       "      <td>0.750000</td>\n",
       "      <td>0.933013</td>\n",
       "    </tr>\n",
       "    <tr>\n",
       "      <th>2019-04-01</th>\n",
       "      <td>1.00000</td>\n",
       "      <td>0.409562</td>\n",
       "      <td>0.500000</td>\n",
       "      <td>1.000000</td>\n",
       "    </tr>\n",
       "    <tr>\n",
       "      <th>2019-05-01</th>\n",
       "      <td>1.00000</td>\n",
       "      <td>0.509960</td>\n",
       "      <td>0.250000</td>\n",
       "      <td>0.933013</td>\n",
       "    </tr>\n",
       "    <tr>\n",
       "      <th>2019-06-01</th>\n",
       "      <td>1.00000</td>\n",
       "      <td>0.599203</td>\n",
       "      <td>0.066987</td>\n",
       "      <td>0.750000</td>\n",
       "    </tr>\n",
       "    <tr>\n",
       "      <th>2019-07-01</th>\n",
       "      <td>1.00000</td>\n",
       "      <td>0.934263</td>\n",
       "      <td>0.000000</td>\n",
       "      <td>0.500000</td>\n",
       "    </tr>\n",
       "    <tr>\n",
       "      <th>2019-08-01</th>\n",
       "      <td>1.00000</td>\n",
       "      <td>0.981673</td>\n",
       "      <td>0.066987</td>\n",
       "      <td>0.250000</td>\n",
       "    </tr>\n",
       "    <tr>\n",
       "      <th>2019-09-01</th>\n",
       "      <td>1.00000</td>\n",
       "      <td>0.944622</td>\n",
       "      <td>0.250000</td>\n",
       "      <td>0.066987</td>\n",
       "    </tr>\n",
       "    <tr>\n",
       "      <th>2019-10-01</th>\n",
       "      <td>1.00000</td>\n",
       "      <td>0.757371</td>\n",
       "      <td>0.500000</td>\n",
       "      <td>0.000000</td>\n",
       "    </tr>\n",
       "    <tr>\n",
       "      <th>2019-11-01</th>\n",
       "      <td>1.00000</td>\n",
       "      <td>0.603984</td>\n",
       "      <td>0.750000</td>\n",
       "      <td>0.066987</td>\n",
       "    </tr>\n",
       "    <tr>\n",
       "      <th>2019-12-01</th>\n",
       "      <td>1.00000</td>\n",
       "      <td>0.330279</td>\n",
       "      <td>0.933013</td>\n",
       "      <td>0.250000</td>\n",
       "    </tr>\n",
       "    <tr>\n",
       "      <th>2020-01-01</th>\n",
       "      <td>80.62510</td>\n",
       "      <td>NaN</td>\n",
       "      <td>0.147012</td>\n",
       "      <td>0.186853</td>\n",
       "    </tr>\n",
       "    <tr>\n",
       "      <th>2020-02-01</th>\n",
       "      <td>80.62510</td>\n",
       "      <td>NaN</td>\n",
       "      <td>0.166932</td>\n",
       "      <td>0.181515</td>\n",
       "    </tr>\n",
       "    <tr>\n",
       "      <th>2020-03-01</th>\n",
       "      <td>80.62510</td>\n",
       "      <td>NaN</td>\n",
       "      <td>0.181515</td>\n",
       "      <td>0.166932</td>\n",
       "    </tr>\n",
       "    <tr>\n",
       "      <th>2020-04-01</th>\n",
       "      <td>80.62510</td>\n",
       "      <td>NaN</td>\n",
       "      <td>0.186853</td>\n",
       "      <td>0.147012</td>\n",
       "    </tr>\n",
       "    <tr>\n",
       "      <th>2020-05-01</th>\n",
       "      <td>80.62510</td>\n",
       "      <td>NaN</td>\n",
       "      <td>0.181515</td>\n",
       "      <td>0.127092</td>\n",
       "    </tr>\n",
       "    <tr>\n",
       "      <th>2020-06-01</th>\n",
       "      <td>80.62510</td>\n",
       "      <td>NaN</td>\n",
       "      <td>0.166932</td>\n",
       "      <td>0.112509</td>\n",
       "    </tr>\n",
       "    <tr>\n",
       "      <th>2020-07-01</th>\n",
       "      <td>80.62510</td>\n",
       "      <td>NaN</td>\n",
       "      <td>0.147012</td>\n",
       "      <td>0.107171</td>\n",
       "    </tr>\n",
       "    <tr>\n",
       "      <th>2020-08-01</th>\n",
       "      <td>80.62510</td>\n",
       "      <td>NaN</td>\n",
       "      <td>0.127092</td>\n",
       "      <td>0.112509</td>\n",
       "    </tr>\n",
       "    <tr>\n",
       "      <th>2020-09-01</th>\n",
       "      <td>80.62510</td>\n",
       "      <td>NaN</td>\n",
       "      <td>0.112509</td>\n",
       "      <td>0.127092</td>\n",
       "    </tr>\n",
       "    <tr>\n",
       "      <th>2020-10-01</th>\n",
       "      <td>80.62510</td>\n",
       "      <td>NaN</td>\n",
       "      <td>0.107171</td>\n",
       "      <td>0.147012</td>\n",
       "    </tr>\n",
       "    <tr>\n",
       "      <th>2020-11-01</th>\n",
       "      <td>80.62510</td>\n",
       "      <td>NaN</td>\n",
       "      <td>0.112509</td>\n",
       "      <td>0.166932</td>\n",
       "    </tr>\n",
       "    <tr>\n",
       "      <th>2020-12-01</th>\n",
       "      <td>80.62510</td>\n",
       "      <td>NaN</td>\n",
       "      <td>0.127092</td>\n",
       "      <td>0.181515</td>\n",
       "    </tr>\n",
       "    <tr>\n",
       "      <th>2021-01-01</th>\n",
       "      <td>80.66494</td>\n",
       "      <td>NaN</td>\n",
       "      <td>0.147012</td>\n",
       "      <td>0.186853</td>\n",
       "    </tr>\n",
       "    <tr>\n",
       "      <th>2021-02-01</th>\n",
       "      <td>80.66494</td>\n",
       "      <td>NaN</td>\n",
       "      <td>0.166932</td>\n",
       "      <td>0.181515</td>\n",
       "    </tr>\n",
       "    <tr>\n",
       "      <th>2021-03-01</th>\n",
       "      <td>80.66494</td>\n",
       "      <td>NaN</td>\n",
       "      <td>0.181515</td>\n",
       "      <td>0.166932</td>\n",
       "    </tr>\n",
       "    <tr>\n",
       "      <th>2021-04-01</th>\n",
       "      <td>80.66494</td>\n",
       "      <td>NaN</td>\n",
       "      <td>0.186853</td>\n",
       "      <td>0.147012</td>\n",
       "    </tr>\n",
       "    <tr>\n",
       "      <th>2021-05-01</th>\n",
       "      <td>80.66494</td>\n",
       "      <td>NaN</td>\n",
       "      <td>0.181515</td>\n",
       "      <td>0.127092</td>\n",
       "    </tr>\n",
       "    <tr>\n",
       "      <th>2021-06-01</th>\n",
       "      <td>80.66494</td>\n",
       "      <td>NaN</td>\n",
       "      <td>0.166932</td>\n",
       "      <td>0.112509</td>\n",
       "    </tr>\n",
       "    <tr>\n",
       "      <th>2021-07-01</th>\n",
       "      <td>80.66494</td>\n",
       "      <td>NaN</td>\n",
       "      <td>0.147012</td>\n",
       "      <td>0.107171</td>\n",
       "    </tr>\n",
       "    <tr>\n",
       "      <th>2021-08-01</th>\n",
       "      <td>80.66494</td>\n",
       "      <td>NaN</td>\n",
       "      <td>0.127092</td>\n",
       "      <td>0.112509</td>\n",
       "    </tr>\n",
       "    <tr>\n",
       "      <th>2021-09-01</th>\n",
       "      <td>80.66494</td>\n",
       "      <td>NaN</td>\n",
       "      <td>0.112509</td>\n",
       "      <td>0.127092</td>\n",
       "    </tr>\n",
       "    <tr>\n",
       "      <th>2021-10-01</th>\n",
       "      <td>80.66494</td>\n",
       "      <td>NaN</td>\n",
       "      <td>0.107171</td>\n",
       "      <td>0.147012</td>\n",
       "    </tr>\n",
       "    <tr>\n",
       "      <th>2021-11-01</th>\n",
       "      <td>80.66494</td>\n",
       "      <td>NaN</td>\n",
       "      <td>0.112509</td>\n",
       "      <td>0.166932</td>\n",
       "    </tr>\n",
       "    <tr>\n",
       "      <th>2021-12-01</th>\n",
       "      <td>80.66494</td>\n",
       "      <td>NaN</td>\n",
       "      <td>0.127092</td>\n",
       "      <td>0.181515</td>\n",
       "    </tr>\n",
       "  </tbody>\n",
       "</table>\n",
       "</div>"
      ],
      "text/plain": [
       "                year  avg_temp  month_sin  month_cos\n",
       "date                                                \n",
       "2019-01-01   1.00000  0.263745   1.000000   0.500000\n",
       "2019-02-01   1.00000  0.131474   0.933013   0.750000\n",
       "2019-03-01   1.00000  0.272510   0.750000   0.933013\n",
       "2019-04-01   1.00000  0.409562   0.500000   1.000000\n",
       "2019-05-01   1.00000  0.509960   0.250000   0.933013\n",
       "2019-06-01   1.00000  0.599203   0.066987   0.750000\n",
       "2019-07-01   1.00000  0.934263   0.000000   0.500000\n",
       "2019-08-01   1.00000  0.981673   0.066987   0.250000\n",
       "2019-09-01   1.00000  0.944622   0.250000   0.066987\n",
       "2019-10-01   1.00000  0.757371   0.500000   0.000000\n",
       "2019-11-01   1.00000  0.603984   0.750000   0.066987\n",
       "2019-12-01   1.00000  0.330279   0.933013   0.250000\n",
       "2020-01-01  80.62510       NaN   0.147012   0.186853\n",
       "2020-02-01  80.62510       NaN   0.166932   0.181515\n",
       "2020-03-01  80.62510       NaN   0.181515   0.166932\n",
       "2020-04-01  80.62510       NaN   0.186853   0.147012\n",
       "2020-05-01  80.62510       NaN   0.181515   0.127092\n",
       "2020-06-01  80.62510       NaN   0.166932   0.112509\n",
       "2020-07-01  80.62510       NaN   0.147012   0.107171\n",
       "2020-08-01  80.62510       NaN   0.127092   0.112509\n",
       "2020-09-01  80.62510       NaN   0.112509   0.127092\n",
       "2020-10-01  80.62510       NaN   0.107171   0.147012\n",
       "2020-11-01  80.62510       NaN   0.112509   0.166932\n",
       "2020-12-01  80.62510       NaN   0.127092   0.181515\n",
       "2021-01-01  80.66494       NaN   0.147012   0.186853\n",
       "2021-02-01  80.66494       NaN   0.166932   0.181515\n",
       "2021-03-01  80.66494       NaN   0.181515   0.166932\n",
       "2021-04-01  80.66494       NaN   0.186853   0.147012\n",
       "2021-05-01  80.66494       NaN   0.181515   0.127092\n",
       "2021-06-01  80.66494       NaN   0.166932   0.112509\n",
       "2021-07-01  80.66494       NaN   0.147012   0.107171\n",
       "2021-08-01  80.66494       NaN   0.127092   0.112509\n",
       "2021-09-01  80.66494       NaN   0.112509   0.127092\n",
       "2021-10-01  80.66494       NaN   0.107171   0.147012\n",
       "2021-11-01  80.66494       NaN   0.112509   0.166932\n",
       "2021-12-01  80.66494       NaN   0.127092   0.181515"
      ]
     },
     "execution_count": 73,
     "metadata": {},
     "output_type": "execute_result"
    }
   ],
   "source": [
    "unlabelled_df # use 2019"
   ]
  },
  {
   "cell_type": "code",
   "execution_count": 76,
   "metadata": {
    "scrolled": false
   },
   "outputs": [],
   "source": [
    "# for loop over to \n",
    "\n",
    "pred_list = []\n",
    "forecast_months = 24 # 2020-2021\n",
    "\n",
    "prediction = 0\n",
    "\n",
    "for row in range(forecast_months):\n",
    "    #print(row)\n",
    "    look_back = 12\n",
    "    test_set = unlabelled_df[row:look_back+row] # [0:12]\n",
    "    if row != 0:\n",
    "        test_set.iloc[11][1] = prediction\n",
    "    #print(counter)\n",
    "    #display(test_set)\n",
    "    x_test_reshaped = test_set.values.reshape(1,12,4)\n",
    "    predict = saved_model.predict(x_test_reshaped)\n",
    "    prediction = predict[0][0] ## append this to the next test set\n",
    "    pred_list.append(prediction) \n",
    "    "
   ]
  },
  {
   "cell_type": "code",
   "execution_count": 78,
   "metadata": {},
   "outputs": [
    {
     "data": {
      "text/plain": [
       "24"
      ]
     },
     "execution_count": 78,
     "metadata": {},
     "output_type": "execute_result"
    }
   ],
   "source": [
    "len(pred_list)"
   ]
  },
  {
   "cell_type": "code",
   "execution_count": 52,
   "metadata": {},
   "outputs": [],
   "source": [
    "# empty prediction is 2019,2020,2021\n",
    "empty_df = pd.read_excel('empty_prediction.xlsx')\n",
    "empty_df.drop('avg_temp',axis =1, inplace = True)"
   ]
  },
  {
   "cell_type": "code",
   "execution_count": null,
   "metadata": {},
   "outputs": [],
   "source": []
  },
  {
   "cell_type": "code",
   "execution_count": null,
   "metadata": {},
   "outputs": [],
   "source": []
  },
  {
   "cell_type": "code",
   "execution_count": null,
   "metadata": {},
   "outputs": [],
   "source": []
  },
  {
   "cell_type": "code",
   "execution_count": null,
   "metadata": {},
   "outputs": [],
   "source": []
  },
  {
   "cell_type": "code",
   "execution_count": null,
   "metadata": {},
   "outputs": [],
   "source": []
  },
  {
   "cell_type": "code",
   "execution_count": 53,
   "metadata": {},
   "outputs": [
    {
     "ename": "NameError",
     "evalue": "name 'prediction_df' is not defined",
     "output_type": "error",
     "traceback": [
      "\u001b[1;31m---------------------------------------------------------------------------\u001b[0m",
      "\u001b[1;31mNameError\u001b[0m                                 Traceback (most recent call last)",
      "\u001b[1;32m<ipython-input-53-147a7ba4fd57>\u001b[0m in \u001b[0;36m<module>\u001b[1;34m\u001b[0m\n\u001b[1;32m----> 1\u001b[1;33m \u001b[0mfinal_prediction\u001b[0m \u001b[1;33m=\u001b[0m \u001b[0mpd\u001b[0m\u001b[1;33m.\u001b[0m\u001b[0mconcat\u001b[0m\u001b[1;33m(\u001b[0m\u001b[1;33m[\u001b[0m\u001b[0mempty_df\u001b[0m\u001b[1;33m,\u001b[0m\u001b[0mprediction_df\u001b[0m\u001b[1;33m]\u001b[0m\u001b[1;33m,\u001b[0m \u001b[0maxis\u001b[0m \u001b[1;33m=\u001b[0m \u001b[1;36m1\u001b[0m\u001b[1;33m)\u001b[0m\u001b[1;33m.\u001b[0m\u001b[0mrename\u001b[0m\u001b[1;33m(\u001b[0m\u001b[0mcolumns\u001b[0m \u001b[1;33m=\u001b[0m \u001b[1;33m{\u001b[0m\u001b[1;36m0\u001b[0m\u001b[1;33m:\u001b[0m\u001b[1;34m'avg_temp'\u001b[0m\u001b[1;33m}\u001b[0m\u001b[1;33m)\u001b[0m\u001b[1;33m\u001b[0m\u001b[1;33m\u001b[0m\u001b[0m\n\u001b[0m",
      "\u001b[1;31mNameError\u001b[0m: name 'prediction_df' is not defined"
     ]
    }
   ],
   "source": [
    "final_prediction = pd.concat([empty_df,prediction_df], axis = 1).rename(columns = {0:'avg_temp'})"
   ]
  },
  {
   "cell_type": "code",
   "execution_count": null,
   "metadata": {},
   "outputs": [],
   "source": [
    "cols = list(final_prediction)\n",
    "# move the column to head of list using index, pop and insert\n",
    "cols.insert(1, cols.pop(cols.index('avg_temp')))"
   ]
  },
  {
   "cell_type": "code",
   "execution_count": null,
   "metadata": {},
   "outputs": [],
   "source": [
    "df = final_prediction.ix[:, cols]"
   ]
  },
  {
   "cell_type": "code",
   "execution_count": null,
   "metadata": {},
   "outputs": [],
   "source": [
    "df"
   ]
  },
  {
   "cell_type": "code",
   "execution_count": null,
   "metadata": {},
   "outputs": [],
   "source": [
    "df[['YEAR','avg_temp','month_sin','month_cos']] = scaler.inverse_transform(df)"
   ]
  },
  {
   "cell_type": "code",
   "execution_count": null,
   "metadata": {},
   "outputs": [],
   "source": [
    "df"
   ]
  },
  {
   "cell_type": "code",
   "execution_count": null,
   "metadata": {},
   "outputs": [],
   "source": []
  }
 ],
 "metadata": {
  "kernelspec": {
   "display_name": "Python 3",
   "language": "python",
   "name": "python3"
  },
  "language_info": {
   "codemirror_mode": {
    "name": "ipython",
    "version": 3
   },
   "file_extension": ".py",
   "mimetype": "text/x-python",
   "name": "python",
   "nbconvert_exporter": "python",
   "pygments_lexer": "ipython3",
   "version": "3.7.1"
  }
 },
 "nbformat": 4,
 "nbformat_minor": 4
}
